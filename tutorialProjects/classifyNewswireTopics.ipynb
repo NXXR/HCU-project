{
  "cells": [
    {
      "cell_type": "markdown",
      "metadata": {
        "collapsed": true,
        "pycharm": {
          "name": "#%% md\n"
        }
      },
      "source": "## Classifying Newswire Topics\n*A multiclass classification example*\n### Loading to Dataset\nLoad the Reuters dataset containing 11.228 newswires (reduced to the 10.000 most occurring words), in 46 mutually \nexclusive topics."
    },
    {
      "cell_type": "code",
      "execution_count": 1,
      "outputs": [],
      "source": "laptop_flag \u003d False",
      "metadata": {
        "pycharm": {
          "metadata": false,
          "name": "#%%\n",
          "is_executing": false
        }
      }
    },
    {
      "cell_type": "code",
      "execution_count": 4,
      "outputs": [],
      "source": "# for running on CPU only (Laptop)\nimport os\n# (opt.) force CPU use\nos.environ[\"CUDA_DEVICE_ORDER\"] \u003d \"PCI_BUS_ID\"\nos.environ[\"CUDA_VISIBLE_DEVICES\"] \u003d \"-1\"\nlaptop_flag \u003d True",
      "metadata": {
        "collapsed": false,
        "pycharm": {
          "name": "#%%\n",
          "is_executing": false
        }
      }
    },
    {
      "cell_type": "code",
      "execution_count": 2,
      "outputs": [
        {
          "name": "stderr",
          "text": [
            "Using TensorFlow backend.\n"
          ],
          "output_type": "stream"
        },
        {
          "name": "stdout",
          "text": [
            "? ? ? said as a result of its december acquisition of space co it expects earnings per share in 1987 of 1 15 to 1 30 dlrs per share up from 70 cts in 1986 the company said pretax net should rise to nine to 10 mln dlrs from six mln dlrs in 1986 and rental operation revenues to 19 to 22 mln dlrs from 12 5 mln dlrs it said cash flow per share this year should be 2 50 to three dlrs reuter 3\n"
          ],
          "output_type": "stream"
        }
      ],
      "source": [
        "from keras.datasets import reuters\n",
        "\n",
        "# load data and split into train (8.982/~80%) and test (2.246/~20%) data\n",
        "(train_data, train_labels), (test_data, test_labels) \u003d reuters.load_data(num_words\u003d10000)\n",
        "\n",
        "# reverse index mapping and decode sample\n",
        "word_index \u003d reuters.get_word_index()\n",
        "reverse_word_index \u003d dict([(val, key) for (key, val) in word_index.items()])\n",
        "def decode_newswire(newswire):\n",
        "    return \" \".join([reverse_word_index.get(i-3, \"?\") for i in newswire])\n",
        "print(decode_newswire(train_data[0]))"
      ],
      "metadata": {
        "collapsed": false,
        "pycharm": {
          "name": "#%%\n",
          "is_executing": false
        }
      }
    },
    {
      "cell_type": "markdown",
      "source": [
        "### Preparing the Data"
      ],
      "metadata": {
        "collapsed": false,
        "pycharm": {
          "name": "#%% md\n"
        }
      }
    },
    {
      "cell_type": "code",
      "execution_count": 3,
      "outputs": [],
      "source": "import numpy as np\n\n# function to vectorize data\ndef vectorize_sequences(sequences, dimension\u003d10000):\n    results \u003d np.zeros((len(sequences), dimension))\n    for i, sequence in enumerate(sequences):\n        results[i, sequence] \u003d 1\n    return results\n\n# vectorize data\nx_train \u003d vectorize_sequences(train_data)\nx_test \u003d vectorize_sequences(test_data)\n\n# function to \"one-hot\" encode\ndef encode_one_hot(labels, dimension\u003d46):\n    results \u003d np.zeros((len(labels), dimension))\n    for i, label in enumerate(labels):\n        results[i, label] \u003d 1\n    return results\n# alternative built-in:\n# keras.utils.np_utils.to_categorical(labels)\n\n# vectorize labels\none_hot_train_labels \u003d encode_one_hot(train_labels)\none_hot_test_labels \u003d encode_one_hot(test_labels)",
      "metadata": {
        "collapsed": false,
        "pycharm": {
          "name": "#%%\n",
          "is_executing": false
        }
      }
    },
    {
      "cell_type": "markdown",
      "source": "### Building the Network\n\"Dense\" layers with more units that output classes to prevent information bottlenecks, where information might be dropped that is important for the classification process.\nFinally a \"Dense\" output Layer with 46 units (number of classes) and \"softmax\" activation, to create a probability distribution over the different output classes (sum of class probabilities is 1).\nThe loss function, categorical crossentropy, measures the distance between two probability distributions.",
      "metadata": {
        "pycharm": {
          "metadata": false,
          "name": "#%% md\n"
        }
      }
    },
    {
      "cell_type": "code",
      "execution_count": 4,
      "outputs": [
        {
          "name": "stdout",
          "text": [
            "WARNING:tensorflow:From C:\\Users\\M.Zeumer\\Anaconda3\\envs\\HCU-project\\lib\\site-packages\\tensorflow\\python\\framework\\op_def_library.py:263: colocate_with (from tensorflow.python.framework.ops) is deprecated and will be removed in a future version.\nInstructions for updating:\nColocations handled automatically by placer.\n"
          ],
          "output_type": "stream"
        }
      ],
      "source": "from keras import models, layers, optimizers, losses, metrics\n\nmodel \u003d models.Sequential()\n# add 2 Dense layers with 64 units each and relu activation\nmodel.add(layers.Dense(64, activation\u003d\"relu\", input_shape\u003d(10000,)))\nmodel.add(layers.Dense(64, activation\u003d\"relu\"))\n# add Dense output layer with 46 unit and softmax activation\nmodel.add(layers.Dense(46, activation\u003d\"softmax\"))\n\n# compile model\nmodel.compile(optimizer\u003doptimizers.RMSprop(lr\u003d0.001),\n              loss\u003dlosses.categorical_crossentropy,\n              metrics\u003d[metrics.categorical_accuracy])",
      "metadata": {
        "pycharm": {
          "metadata": false,
          "name": "#%%\n",
          "is_executing": false
        }
      }
    },
    {
      "cell_type": "markdown",
      "source": "### Validating and Training the Model\nSet apart 1.000 samples for validation and training network.",
      "metadata": {
        "pycharm": {
          "metadata": false,
          "name": "#%% md\n"
        }
      }
    },
    {
      "cell_type": "code",
      "execution_count": 5,
      "outputs": [
        {
          "name": "stdout",
          "text": [
            "WARNING:tensorflow:From C:\\Users\\M.Zeumer\\Anaconda3\\envs\\HCU-project\\lib\\site-packages\\tensorflow\\python\\ops\\math_ops.py:3066: to_int32 (from tensorflow.python.ops.math_ops) is deprecated and will be removed in a future version.\nInstructions for updating:\nUse tf.cast instead.\n",
            "Train on 7982 samples, validate on 1000 samples\nEpoch 1/10\n",
            "\r 512/7982 [\u003e.............................] - ETA: 3:39 - loss: 3.8035 - categorical_accuracy: 0.0898",
            "\b\b\b\b\b\b\b\b\b\b\b\b\b\b\b\b\b\b\b\b\b\b\b\b\b\b\b\b\b\b\b\b\b\b\b\b\b\b\b\b\b\b\b\b\b\b\b\b\b\b\b\b\b\b\b\b\b\b\b\b\b\b\b\b\b\b\b\b\b\b\b\b\b\b\b\b\b\b\b\b\b\b\b\b\b\b\b\b\b\b\b\b\b\b\b\b\b\b\b\b\r1024/7982 [\u003d\u003d\u003e...........................] - ETA: 1:42 - loss: 3.7253 - categorical_accuracy: 0.2539",
            "\b\b\b\b\b\b\b\b\b\b\b\b\b\b\b\b\b\b\b\b\b\b\b\b\b\b\b\b\b\b\b\b\b\b\b\b\b\b\b\b\b\b\b\b\b\b\b\b\b\b\b\b\b\b\b\b\b\b\b\b\b\b\b\b\b\b\b\b\b\b\b\b\b\b\b\b\b\b\b\b\b\b\b\b\b\b\b\b\b\b\b\b\b\b\b\b\b\b\b\b\r1536/7982 [\u003d\u003d\u003d\u003d\u003e.........................] - ETA: 1:03 - loss: 3.6166 - categorical_accuracy: 0.3040",
            "\b\b\b\b\b\b\b\b\b\b\b\b\b\b\b\b\b\b\b\b\b\b\b\b\b\b\b\b\b\b\b\b\b\b\b\b\b\b\b\b\b\b\b\b\b\b\b\b\b\b\b\b\b\b\b\b\b\b\b\b\b\b\b\b\b\b\b\b\b\b\b\b\b\b\b\b\b\b\b\b\b\b\b\b\b\b\b\b\b\b\b\b\b\b\b\b\b\b\b\b\r2048/7982 [\u003d\u003d\u003d\u003d\u003d\u003d\u003e.......................] - ETA: 44s - loss: 3.5038 - categorical_accuracy: 0.3330 ",
            "\b\b\b\b\b\b\b\b\b\b\b\b\b\b\b\b\b\b\b\b\b\b\b\b\b\b\b\b\b\b\b\b\b\b\b\b\b\b\b\b\b\b\b\b\b\b\b\b\b\b\b\b\b\b\b\b\b\b\b\b\b\b\b\b\b\b\b\b\b\b\b\b\b\b\b\b\b\b\b\b\b\b\b\b\b\b\b\b\b\b\b\b\b\b\b\b\b\b\b\r2560/7982 [\u003d\u003d\u003d\u003d\u003d\u003d\u003d\u003d\u003e.....................] - ETA: 32s - loss: 3.3865 - categorical_accuracy: 0.3605",
            "\b\b\b\b\b\b\b\b\b\b\b\b\b\b\b\b\b\b\b\b\b\b\b\b\b\b\b\b\b\b\b\b\b\b\b\b\b\b\b\b\b\b\b\b\b\b\b\b\b\b\b\b\b\b\b\b\b\b\b\b\b\b\b\b\b\b\b\b\b\b\b\b\b\b\b\b\b\b\b\b\b\b\b\b\b\b\b\b\b\b\b\b\b\b\b\b\b\b\b\r3072/7982 [\u003d\u003d\u003d\u003d\u003d\u003d\u003d\u003d\u003d\u003d\u003e...................] - ETA: 24s - loss: 3.2659 - categorical_accuracy: 0.3932",
            "\b\b\b\b\b\b\b\b\b\b\b\b\b\b\b\b\b\b\b\b\b\b\b\b\b\b\b\b\b\b\b\b\b\b\b\b\b\b\b\b\b\b\b\b\b\b\b\b\b\b\b\b\b\b\b\b\b\b\b\b\b\b\b\b\b\b\b\b\b\b\b\b\b\b\b\b\b\b\b\b\b\b\b\b\b\b\b\b\b\b\b\b\b\b\b\b\b\b\b",
            "\r3584/7982 [\u003d\u003d\u003d\u003d\u003d\u003d\u003d\u003d\u003d\u003d\u003d\u003d\u003e.................] - ETA: 18s - loss: 3.1765 - categorical_accuracy: 0.4093",
            "\b\b\b\b\b\b\b\b\b\b\b\b\b\b\b\b\b\b\b\b\b\b\b\b\b\b\b\b\b\b\b\b\b\b\b\b\b\b\b\b\b\b\b\b\b\b\b\b\b\b\b\b\b\b\b\b\b\b\b\b\b\b\b\b\b\b\b\b\b\b\b\b\b\b\b\b\b\b\b\b\b\b\b\b\b\b\b\b\b\b\b\b\b\b\b\b\b\b\b",
            "\r4096/7982 [\u003d\u003d\u003d\u003d\u003d\u003d\u003d\u003d\u003d\u003d\u003d\u003d\u003d\u003d\u003e...............] - ETA: 14s - loss: 3.0838 - categorical_accuracy: 0.4229",
            "\b\b\b\b\b\b\b\b\b\b\b\b\b\b\b\b\b\b\b\b\b\b\b\b\b\b\b\b\b\b\b\b\b\b\b\b\b\b\b\b\b\b\b\b\b\b\b\b\b\b\b\b\b\b\b\b\b\b\b\b\b\b\b\b\b\b\b\b\b\b\b\b\b\b\b\b\b\b\b\b\b\b\b\b\b\b\b\b\b\b\b\b\b\b\b\b\b\b\b\r4608/7982 [\u003d\u003d\u003d\u003d\u003d\u003d\u003d\u003d\u003d\u003d\u003d\u003d\u003d\u003d\u003d\u003d\u003e.............] - ETA: 11s - loss: 2.9931 - categorical_accuracy: 0.4347",
            "\b\b\b\b\b\b\b\b\b\b\b\b\b\b\b\b\b\b\b\b\b\b\b\b\b\b\b\b\b\b\b\b\b\b\b\b\b\b\b\b\b\b\b\b\b\b\b\b\b\b\b\b\b\b\b\b\b\b\b\b\b\b\b\b\b\b\b\b\b\b\b\b\b\b\b\b\b\b\b\b\b\b\b\b\b\b\b\b\b\b\b\b\b\b\b\b\b\b\b\r5120/7982 [\u003d\u003d\u003d\u003d\u003d\u003d\u003d\u003d\u003d\u003d\u003d\u003d\u003d\u003d\u003d\u003d\u003d\u003d\u003e...........] - ETA: 8s - loss: 2.9026 - categorical_accuracy: 0.4467 ",
            "\b\b\b\b\b\b\b\b\b\b\b\b\b\b\b\b\b\b\b\b\b\b\b\b\b\b\b\b\b\b\b\b\b\b\b\b\b\b\b\b\b\b\b\b\b\b\b\b\b\b\b\b\b\b\b\b\b\b\b\b\b\b\b\b\b\b\b\b\b\b\b\b\b\b\b\b\b\b\b\b\b\b\b\b\b\b\b\b\b\b\b\b\b\b\b\b\b\b",
            "\r5632/7982 [\u003d\u003d\u003d\u003d\u003d\u003d\u003d\u003d\u003d\u003d\u003d\u003d\u003d\u003d\u003d\u003d\u003d\u003d\u003d\u003d\u003e.........] - ETA: 6s - loss: 2.8255 - categorical_accuracy: 0.4531",
            "\b\b\b\b\b\b\b\b\b\b\b\b\b\b\b\b\b\b\b\b\b\b\b\b\b\b\b\b\b\b\b\b\b\b\b\b\b\b\b\b\b\b\b\b\b\b\b\b\b\b\b\b\b\b\b\b\b\b\b\b\b\b\b\b\b\b\b\b\b\b\b\b\b\b\b\b\b\b\b\b\b\b\b\b\b\b\b\b\b\b\b\b\b\b\b\b\b\b",
            "\r6144/7982 [\u003d\u003d\u003d\u003d\u003d\u003d\u003d\u003d\u003d\u003d\u003d\u003d\u003d\u003d\u003d\u003d\u003d\u003d\u003d\u003d\u003d\u003d\u003e.......] - ETA: 4s - loss: 2.7499 - categorical_accuracy: 0.4614",
            "\b\b\b\b\b\b\b\b\b\b\b\b\b\b\b\b\b\b\b\b\b\b\b\b\b\b\b\b\b\b\b\b\b\b\b\b\b\b\b\b\b\b\b\b\b\b\b\b\b\b\b\b\b\b\b\b\b\b\b\b\b\b\b\b\b\b\b\b\b\b\b\b\b\b\b\b\b\b\b\b\b\b\b\b\b\b\b\b\b\b\b\b\b\b\b\b\b\b\r6656/7982 [\u003d\u003d\u003d\u003d\u003d\u003d\u003d\u003d\u003d\u003d\u003d\u003d\u003d\u003d\u003d\u003d\u003d\u003d\u003d\u003d\u003d\u003d\u003d\u003d\u003e.....] - ETA: 3s - loss: 2.6779 - categorical_accuracy: 0.4727",
            "\b\b\b\b\b\b\b\b\b\b\b\b\b\b\b\b\b\b\b\b\b\b\b\b\b\b\b\b\b\b\b\b\b\b\b\b\b\b\b\b\b\b\b\b\b\b\b\b\b\b\b\b\b\b\b\b\b\b\b\b\b\b\b\b\b\b\b\b\b\b\b\b\b\b\b\b\b\b\b\b\b\b\b\b\b\b\b\b\b\b\b\b\b\b\b\b\b\b\r7168/7982 [\u003d\u003d\u003d\u003d\u003d\u003d\u003d\u003d\u003d\u003d\u003d\u003d\u003d\u003d\u003d\u003d\u003d\u003d\u003d\u003d\u003d\u003d\u003d\u003d\u003d\u003e....] - ETA: 1s - loss: 2.6174 - categorical_accuracy: 0.4814",
            "\b\b\b\b\b\b\b\b\b\b\b\b\b\b\b\b\b\b\b\b\b\b\b\b\b\b\b\b\b\b\b\b\b\b\b\b\b\b\b\b\b\b\b\b\b\b\b\b\b\b\b\b\b\b\b\b\b\b\b\b\b\b\b\b\b\b\b\b\b\b\b\b\b\b\b\b\b\b\b\b\b\b\b\b\b\b\b\b\b\b\b\b\b\b\b\b\b\b\r7680/7982 [\u003d\u003d\u003d\u003d\u003d\u003d\u003d\u003d\u003d\u003d\u003d\u003d\u003d\u003d\u003d\u003d\u003d\u003d\u003d\u003d\u003d\u003d\u003d\u003d\u003d\u003d\u003d\u003e..] - ETA: 0s - loss: 2.5629 - categorical_accuracy: 0.4910",
            "\b\b\b\b\b\b\b\b\b\b\b\b\b\b\b\b\b\b\b\b\b\b\b\b\b\b\b\b\b\b\b\b\b\b\b\b\b\b\b\b\b\b\b\b\b\b\b\b\b\b\b\b\b\b\b\b\b\b\b\b\b\b\b\b\b\b\b\b\b\b\b\b\b\b\b\b\b\b\b\b\b\b\b\b\b\b\b\b\b\b\b\b\b\b\b\b\b\b\r7982/7982 [\u003d\u003d\u003d\u003d\u003d\u003d\u003d\u003d\u003d\u003d\u003d\u003d\u003d\u003d\u003d\u003d\u003d\u003d\u003d\u003d\u003d\u003d\u003d\u003d\u003d\u003d\u003d\u003d\u003d\u003d] - 16s 2ms/step - loss: 2.5322 - categorical_accuracy: 0.4955 - val_loss: 1.7208 - val_categorical_accuracy: 0.6120\n",
            "Epoch 2/10\n\r 512/7982 [\u003e.............................] - ETA: 0s - loss: 1.5152 - categorical_accuracy: 0.6836",
            "\b\b\b\b\b\b\b\b\b\b\b\b\b\b\b\b\b\b\b\b\b\b\b\b\b\b\b\b\b\b\b\b\b\b\b\b\b\b\b\b\b\b\b\b\b\b\b\b\b\b\b\b\b\b\b\b\b\b\b\b\b\b\b\b\b\b\b\b\b\b\b\b\b\b\b\b\b\b\b\b\b\b\b\b\b\b\b\b\b\b\b\b\b\b\b\b\b\b\r1024/7982 [\u003d\u003d\u003e...........................] - ETA: 0s - loss: 1.5690 - categorical_accuracy: 0.6611",
            "\b\b\b\b\b\b\b\b\b\b\b\b\b\b\b\b\b\b\b\b\b\b\b\b\b\b\b\b\b\b\b\b\b\b\b\b\b\b\b\b\b\b\b\b\b\b\b\b\b\b\b\b\b\b\b\b\b\b\b\b\b\b\b\b\b\b\b\b\b\b\b\b\b\b\b\b\b\b\b\b\b\b\b\b\b\b\b\b\b\b\b\b\b\b\b\b\b\b\r1536/7982 [\u003d\u003d\u003d\u003d\u003e.........................] - ETA: 0s - loss: 1.5477 - categorical_accuracy: 0.6680",
            "\b\b\b\b\b\b\b\b\b\b\b\b\b\b\b\b\b\b\b\b\b\b\b\b\b\b\b\b\b\b\b\b\b\b\b\b\b\b\b\b\b\b\b\b\b\b\b\b\b\b\b\b\b\b\b\b\b\b\b\b\b\b\b\b\b\b\b\b\b\b\b\b\b\b\b\b\b\b\b\b\b\b\b\b\b\b\b\b\b\b\b\b\b\b\b\b\b\b\r2048/7982 [\u003d\u003d\u003d\u003d\u003d\u003d\u003e.......................] - ETA: 0s - loss: 1.5688 - categorical_accuracy: 0.6641",
            "\b\b\b\b\b\b\b\b\b\b\b\b\b\b\b\b\b\b\b\b\b\b\b\b\b\b\b\b\b\b\b\b\b\b\b\b\b\b\b\b\b\b\b\b\b\b\b\b\b\b\b\b\b\b\b\b\b\b\b\b\b\b\b\b\b\b\b\b\b\b\b\b\b\b\b\b\b\b\b\b\b\b\b\b\b\b\b\b\b\b\b\b\b\b\b\b\b\b\r2560/7982 [\u003d\u003d\u003d\u003d\u003d\u003d\u003d\u003d\u003e.....................] - ETA: 0s - loss: 1.5509 - categorical_accuracy: 0.6711",
            "\b\b\b\b\b\b\b\b\b\b\b\b\b\b\b\b\b\b\b\b\b\b\b\b\b\b\b\b\b\b\b\b\b\b\b\b\b\b\b\b\b\b\b\b\b\b\b\b\b\b\b\b\b\b\b\b\b\b\b\b\b\b\b\b\b\b\b\b\b\b\b\b\b\b\b\b\b\b\b\b\b\b\b\b\b\b\b\b\b\b\b\b\b\b\b\b\b\b",
            "\r3072/7982 [\u003d\u003d\u003d\u003d\u003d\u003d\u003d\u003d\u003d\u003d\u003e...................] - ETA: 0s - loss: 1.5444 - categorical_accuracy: 0.6686",
            "\b\b\b\b\b\b\b\b\b\b\b\b\b\b\b\b\b\b\b\b\b\b\b\b\b\b\b\b\b\b\b\b\b\b\b\b\b\b\b\b\b\b\b\b\b\b\b\b\b\b\b\b\b\b\b\b\b\b\b\b\b\b\b\b\b\b\b\b\b\b\b\b\b\b\b\b\b\b\b\b\b\b\b\b\b\b\b\b\b\b\b\b\b\b\b\b\b\b\r3584/7982 [\u003d\u003d\u003d\u003d\u003d\u003d\u003d\u003d\u003d\u003d\u003d\u003d\u003e.................] - ETA: 0s - loss: 1.5250 - categorical_accuracy: 0.6747",
            "\b\b\b\b\b\b\b\b\b\b\b\b\b\b\b\b\b\b\b\b\b\b\b\b\b\b\b\b\b\b\b\b\b\b\b\b\b\b\b\b\b\b\b\b\b\b\b\b\b\b\b\b\b\b\b\b\b\b\b\b\b\b\b\b\b\b\b\b\b\b\b\b\b\b\b\b\b\b\b\b\b\b\b\b\b\b\b\b\b\b\b\b\b\b\b\b\b\b\r4096/7982 [\u003d\u003d\u003d\u003d\u003d\u003d\u003d\u003d\u003d\u003d\u003d\u003d\u003d\u003d\u003e...............] - ETA: 0s - loss: 1.5113 - categorical_accuracy: 0.6770",
            "\b\b\b\b\b\b\b\b\b\b\b\b\b\b\b\b\b\b\b\b\b\b\b\b\b\b\b\b\b\b\b\b\b\b\b\b\b\b\b\b\b\b\b\b\b\b\b\b\b\b\b\b\b\b\b\b\b\b\b\b\b\b\b\b\b\b\b\b\b\b\b\b\b\b\b\b\b\b\b\b\b\b\b\b\b\b\b\b\b\b\b\b\b\b\b\b\b\b\r4608/7982 [\u003d\u003d\u003d\u003d\u003d\u003d\u003d\u003d\u003d\u003d\u003d\u003d\u003d\u003d\u003d\u003d\u003e.............] - ETA: 0s - loss: 1.5074 - categorical_accuracy: 0.6771",
            "\b\b\b\b\b\b\b\b\b\b\b\b\b\b\b\b\b\b\b\b\b\b\b\b\b\b\b\b\b\b\b\b\b\b\b\b\b\b\b\b\b\b\b\b\b\b\b\b\b\b\b\b\b\b\b\b\b\b\b\b\b\b\b\b\b\b\b\b\b\b\b\b\b\b\b\b\b\b\b\b\b\b\b\b\b\b\b\b\b\b\b\b\b\b\b\b\b\b\r5120/7982 [\u003d\u003d\u003d\u003d\u003d\u003d\u003d\u003d\u003d\u003d\u003d\u003d\u003d\u003d\u003d\u003d\u003d\u003d\u003e...........] - ETA: 0s - loss: 1.4966 - categorical_accuracy: 0.6809",
            "\b\b\b\b\b\b\b\b\b\b\b\b\b\b\b\b\b\b\b\b\b\b\b\b\b\b\b\b\b\b\b\b\b\b\b\b\b\b\b\b\b\b\b\b\b\b\b\b\b\b\b\b\b\b\b\b\b\b\b\b\b\b\b\b\b\b\b\b\b\b\b\b\b\b\b\b\b\b\b\b\b\b\b\b\b\b\b\b\b\b\b\b\b\b\b\b\b\b\r5632/7982 [\u003d\u003d\u003d\u003d\u003d\u003d\u003d\u003d\u003d\u003d\u003d\u003d\u003d\u003d\u003d\u003d\u003d\u003d\u003d\u003d\u003e.........] - ETA: 0s - loss: 1.4803 - categorical_accuracy: 0.6829",
            "\b\b\b\b\b\b\b\b\b\b\b\b\b\b\b\b\b\b\b\b\b\b\b\b\b\b\b\b\b\b\b\b\b\b\b\b\b\b\b\b\b\b\b\b\b\b\b\b\b\b\b\b\b\b\b\b\b\b\b\b\b\b\b\b\b\b\b\b\b\b\b\b\b\b\b\b\b\b\b\b\b\b\b\b\b\b\b\b\b\b\b\b\b\b\b\b\b\b",
            "\r6144/7982 [\u003d\u003d\u003d\u003d\u003d\u003d\u003d\u003d\u003d\u003d\u003d\u003d\u003d\u003d\u003d\u003d\u003d\u003d\u003d\u003d\u003d\u003d\u003e.......] - ETA: 0s - loss: 1.4794 - categorical_accuracy: 0.6820",
            "\b\b\b\b\b\b\b\b\b\b\b\b\b\b\b\b\b\b\b\b\b\b\b\b\b\b\b\b\b\b\b\b\b\b\b\b\b\b\b\b\b\b\b\b\b\b\b\b\b\b\b\b\b\b\b\b\b\b\b\b\b\b\b\b\b\b\b\b\b\b\b\b\b\b\b\b\b\b\b\b\b\b\b\b\b\b\b\b\b\b\b\b\b\b\b\b\b\b",
            "\r6656/7982 [\u003d\u003d\u003d\u003d\u003d\u003d\u003d\u003d\u003d\u003d\u003d\u003d\u003d\u003d\u003d\u003d\u003d\u003d\u003d\u003d\u003d\u003d\u003d\u003d\u003e.....] - ETA: 0s - loss: 1.4690 - categorical_accuracy: 0.6839",
            "\b\b\b\b\b\b\b\b\b\b\b\b\b\b\b\b\b\b\b\b\b\b\b\b\b\b\b\b\b\b\b\b\b\b\b\b\b\b\b\b\b\b\b\b\b\b\b\b\b\b\b\b\b\b\b\b\b\b\b\b\b\b\b\b\b\b\b\b\b\b\b\b\b\b\b\b\b\b\b\b\b\b\b\b\b\b\b\b\b\b\b\b\b\b\b\b\b\b",
            "\r7168/7982 [\u003d\u003d\u003d\u003d\u003d\u003d\u003d\u003d\u003d\u003d\u003d\u003d\u003d\u003d\u003d\u003d\u003d\u003d\u003d\u003d\u003d\u003d\u003d\u003d\u003d\u003e....] - ETA: 0s - loss: 1.4602 - categorical_accuracy: 0.6861",
            "\b\b\b\b\b\b\b\b\b\b\b\b\b\b\b\b\b\b\b\b\b\b\b\b\b\b\b\b\b\b\b\b\b\b\b\b\b\b\b\b\b\b\b\b\b\b\b\b\b\b\b\b\b\b\b\b\b\b\b\b\b\b\b\b\b\b\b\b\b\b\b\b\b\b\b\b\b\b\b\b\b\b\b\b\b\b\b\b\b\b\b\b\b\b\b\b\b\b\r7680/7982 [\u003d\u003d\u003d\u003d\u003d\u003d\u003d\u003d\u003d\u003d\u003d\u003d\u003d\u003d\u003d\u003d\u003d\u003d\u003d\u003d\u003d\u003d\u003d\u003d\u003d\u003d\u003d\u003e..] - ETA: 0s - loss: 1.4515 - categorical_accuracy: 0.6871",
            "\b\b\b\b\b\b\b\b\b\b\b\b\b\b\b\b\b\b\b\b\b\b\b\b\b\b\b\b\b\b\b\b\b\b\b\b\b\b\b\b\b\b\b\b\b\b\b\b\b\b\b\b\b\b\b\b\b\b\b\b\b\b\b\b\b\b\b\b\b\b\b\b\b\b\b\b\b\b\b\b\b\b\b\b\b\b\b\b\b\b\b\b\b\b\b\b\b\b",
            "\r7982/7982 [\u003d\u003d\u003d\u003d\u003d\u003d\u003d\u003d\u003d\u003d\u003d\u003d\u003d\u003d\u003d\u003d\u003d\u003d\u003d\u003d\u003d\u003d\u003d\u003d\u003d\u003d\u003d\u003d\u003d\u003d] - 1s 125us/step - loss: 1.4452 - categorical_accuracy: 0.6879 - val_loss: 1.3459 - val_categorical_accuracy: 0.7060\n",
            "Epoch 3/10\n",
            "\r 512/7982 [\u003e.............................] - ETA: 0s - loss: 1.2179 - categorical_accuracy: 0.7285",
            "\b\b\b\b\b\b\b\b\b\b\b\b\b\b\b\b\b\b\b\b\b\b\b\b\b\b\b\b\b\b\b\b\b\b\b\b\b\b\b\b\b\b\b\b\b\b\b\b\b\b\b\b\b\b\b\b\b\b\b\b\b\b\b\b\b\b\b\b\b\b\b\b\b\b\b\b\b\b\b\b\b\b\b\b\b\b\b\b\b\b\b\b\b\b\b\b\b\b\r1024/7982 [\u003d\u003d\u003e...........................] - ETA: 0s - loss: 1.2025 - categorical_accuracy: 0.7363",
            "\b\b\b\b\b\b\b\b\b\b\b\b\b\b\b\b\b\b\b\b\b\b\b\b\b\b\b\b\b\b\b\b\b\b\b\b\b\b\b\b\b\b\b\b\b\b\b\b\b\b\b\b\b\b\b\b\b\b\b\b\b\b\b\b\b\b\b\b\b\b\b\b\b\b\b\b\b\b\b\b\b\b\b\b\b\b\b\b\b\b\b\b\b\b\b\b\b\b",
            "\r1536/7982 [\u003d\u003d\u003d\u003d\u003e.........................] - ETA: 0s - loss: 1.1966 - categorical_accuracy: 0.7441",
            "\b\b\b\b\b\b\b\b\b\b\b\b\b\b\b\b\b\b\b\b\b\b\b\b\b\b\b\b\b\b\b\b\b\b\b\b\b\b\b\b\b\b\b\b\b\b\b\b\b\b\b\b\b\b\b\b\b\b\b\b\b\b\b\b\b\b\b\b\b\b\b\b\b\b\b\b\b\b\b\b\b\b\b\b\b\b\b\b\b\b\b\b\b\b\b\b\b\b\r2048/7982 [\u003d\u003d\u003d\u003d\u003d\u003d\u003e.......................] - ETA: 0s - loss: 1.1718 - categorical_accuracy: 0.7461",
            "\b\b\b\b\b\b\b\b\b\b\b\b\b\b\b\b\b\b\b\b\b\b\b\b\b\b\b\b\b\b\b\b\b\b\b\b\b\b\b\b\b\b\b\b\b\b\b\b\b\b\b\b\b\b\b\b\b\b\b\b\b\b\b\b\b\b\b\b\b\b\b\b\b\b\b\b\b\b\b\b\b\b\b\b\b\b\b\b\b\b\b\b\b\b\b\b\b\b\r2560/7982 [\u003d\u003d\u003d\u003d\u003d\u003d\u003d\u003d\u003e.....................] - ETA: 0s - loss: 1.1366 - categorical_accuracy: 0.7566",
            "\b\b\b\b\b\b\b\b\b\b\b\b\b\b\b\b\b\b\b\b\b\b\b\b\b\b\b\b\b\b\b\b\b\b\b\b\b\b\b\b\b\b\b\b\b\b\b\b\b\b\b\b\b\b\b\b\b\b\b\b\b\b\b\b\b\b\b\b\b\b\b\b\b\b\b\b\b\b\b\b\b\b\b\b\b\b\b\b\b\b\b\b\b\b\b\b\b\b\r3072/7982 [\u003d\u003d\u003d\u003d\u003d\u003d\u003d\u003d\u003d\u003d\u003e...................] - ETA: 0s - loss: 1.1290 - categorical_accuracy: 0.7627",
            "\b\b\b\b\b\b\b\b\b\b\b\b\b\b\b\b\b\b\b\b\b\b\b\b\b\b\b\b\b\b\b\b\b\b\b\b\b\b\b\b\b\b\b\b\b\b\b\b\b\b\b\b\b\b\b\b\b\b\b\b\b\b\b\b\b\b\b\b\b\b\b\b\b\b\b\b\b\b\b\b\b\b\b\b\b\b\b\b\b\b\b\b\b\b\b\b\b\b",
            "\r3584/7982 [\u003d\u003d\u003d\u003d\u003d\u003d\u003d\u003d\u003d\u003d\u003d\u003d\u003e.................] - ETA: 0s - loss: 1.1531 - categorical_accuracy: 0.7570",
            "\b\b\b\b\b\b\b\b\b\b\b\b\b\b\b\b\b\b\b\b\b\b\b\b\b\b\b\b\b\b\b\b\b\b\b\b\b\b\b\b\b\b\b\b\b\b\b\b\b\b\b\b\b\b\b\b\b\b\b\b\b\b\b\b\b\b\b\b\b\b\b\b\b\b\b\b\b\b\b\b\b\b\b\b\b\b\b\b\b\b\b\b\b\b\b\b\b\b",
            "\r4096/7982 [\u003d\u003d\u003d\u003d\u003d\u003d\u003d\u003d\u003d\u003d\u003d\u003d\u003d\u003d\u003e...............] - ETA: 0s - loss: 1.1423 - categorical_accuracy: 0.7581",
            "\b\b\b\b\b\b\b\b\b\b\b\b\b\b\b\b\b\b\b\b\b\b\b\b\b\b\b\b\b\b\b\b\b\b\b\b\b\b\b\b\b\b\b\b\b\b\b\b\b\b\b\b\b\b\b\b\b\b\b\b\b\b\b\b\b\b\b\b\b\b\b\b\b\b\b\b\b\b\b\b\b\b\b\b\b\b\b\b\b\b\b\b\b\b\b\b\b\b",
            "\r4608/7982 [\u003d\u003d\u003d\u003d\u003d\u003d\u003d\u003d\u003d\u003d\u003d\u003d\u003d\u003d\u003d\u003d\u003e.............] - ETA: 0s - loss: 1.1257 - categorical_accuracy: 0.7602",
            "\b\b\b\b\b\b\b\b\b\b\b\b\b\b\b\b\b\b\b\b\b\b\b\b\b\b\b\b\b\b\b\b\b\b\b\b\b\b\b\b\b\b\b\b\b\b\b\b\b\b\b\b\b\b\b\b\b\b\b\b\b\b\b\b\b\b\b\b\b\b\b\b\b\b\b\b\b\b\b\b\b\b\b\b\b\b\b\b\b\b\b\b\b\b\b\b\b\b",
            "\r5120/7982 [\u003d\u003d\u003d\u003d\u003d\u003d\u003d\u003d\u003d\u003d\u003d\u003d\u003d\u003d\u003d\u003d\u003d\u003d\u003e...........] - ETA: 0s - loss: 1.1170 - categorical_accuracy: 0.7619",
            "\b\b\b\b\b\b\b\b\b\b\b\b\b\b\b\b\b\b\b\b\b\b\b\b\b\b\b\b\b\b\b\b\b\b\b\b\b\b\b\b\b\b\b\b\b\b\b\b\b\b\b\b\b\b\b\b\b\b\b\b\b\b\b\b\b\b\b\b\b\b\b\b\b\b\b\b\b\b\b\b\b\b\b\b\b\b\b\b\b\b\b\b\b\b\b\b\b\b",
            "\r5632/7982 [\u003d\u003d\u003d\u003d\u003d\u003d\u003d\u003d\u003d\u003d\u003d\u003d\u003d\u003d\u003d\u003d\u003d\u003d\u003d\u003d\u003e.........] - ETA: 0s - loss: 1.1130 - categorical_accuracy: 0.7624",
            "\b\b\b\b\b\b\b\b\b\b\b\b\b\b\b\b\b\b\b\b\b\b\b\b\b\b\b\b\b\b\b\b\b\b\b\b\b\b\b\b\b\b\b\b\b\b\b\b\b\b\b\b\b\b\b\b\b\b\b\b\b\b\b\b\b\b\b\b\b\b\b\b\b\b\b\b\b\b\b\b\b\b\b\b\b\b\b\b\b\b\b\b\b\b\b\b\b\b",
            "\r6144/7982 [\u003d\u003d\u003d\u003d\u003d\u003d\u003d\u003d\u003d\u003d\u003d\u003d\u003d\u003d\u003d\u003d\u003d\u003d\u003d\u003d\u003d\u003d\u003e.......] - ETA: 0s - loss: 1.1075 - categorical_accuracy: 0.7627",
            "\b\b\b\b\b\b\b\b\b\b\b\b\b\b\b\b\b\b\b\b\b\b\b\b\b\b\b\b\b\b\b\b\b\b\b\b\b\b\b\b\b\b\b\b\b\b\b\b\b\b\b\b\b\b\b\b\b\b\b\b\b\b\b\b\b\b\b\b\b\b\b\b\b\b\b\b\b\b\b\b\b\b\b\b\b\b\b\b\b\b\b\b\b\b\b\b\b\b\r6656/7982 [\u003d\u003d\u003d\u003d\u003d\u003d\u003d\u003d\u003d\u003d\u003d\u003d\u003d\u003d\u003d\u003d\u003d\u003d\u003d\u003d\u003d\u003d\u003d\u003d\u003e.....] - ETA: 0s - loss: 1.1032 - categorical_accuracy: 0.7635",
            "\b\b\b\b\b\b\b\b\b\b\b\b\b\b\b\b\b\b\b\b\b\b\b\b\b\b\b\b\b\b\b\b\b\b\b\b\b\b\b\b\b\b\b\b\b\b\b\b\b\b\b\b\b\b\b\b\b\b\b\b\b\b\b\b\b\b\b\b\b\b\b\b\b\b\b\b\b\b\b\b\b\b\b\b\b\b\b\b\b\b\b\b\b\b\b\b\b\b",
            "\r7168/7982 [\u003d\u003d\u003d\u003d\u003d\u003d\u003d\u003d\u003d\u003d\u003d\u003d\u003d\u003d\u003d\u003d\u003d\u003d\u003d\u003d\u003d\u003d\u003d\u003d\u003d\u003e....] - ETA: 0s - loss: 1.1015 - categorical_accuracy: 0.7644",
            "\b\b\b\b\b\b\b\b\b\b\b\b\b\b\b\b\b\b\b\b\b\b\b\b\b\b\b\b\b\b\b\b\b\b\b\b\b\b\b\b\b\b\b\b\b\b\b\b\b\b\b\b\b\b\b\b\b\b\b\b\b\b\b\b\b\b\b\b\b\b\b\b\b\b\b\b\b\b\b\b\b\b\b\b\b\b\b\b\b\b\b\b\b\b\b\b\b\b\r7680/7982 [\u003d\u003d\u003d\u003d\u003d\u003d\u003d\u003d\u003d\u003d\u003d\u003d\u003d\u003d\u003d\u003d\u003d\u003d\u003d\u003d\u003d\u003d\u003d\u003d\u003d\u003d\u003d\u003e..] - ETA: 0s - loss: 1.0968 - categorical_accuracy: 0.7647",
            "\b\b\b\b\b\b\b\b\b\b\b\b\b\b\b\b\b\b\b\b\b\b\b\b\b\b\b\b\b\b\b\b\b\b\b\b\b\b\b\b\b\b\b\b\b\b\b\b\b\b\b\b\b\b\b\b\b\b\b\b\b\b\b\b\b\b\b\b\b\b\b\b\b\b\b\b\b\b\b\b\b\b\b\b\b\b\b\b\b\b\b\b\b\b\b\b\b\b",
            "\r7982/7982 [\u003d\u003d\u003d\u003d\u003d\u003d\u003d\u003d\u003d\u003d\u003d\u003d\u003d\u003d\u003d\u003d\u003d\u003d\u003d\u003d\u003d\u003d\u003d\u003d\u003d\u003d\u003d\u003d\u003d\u003d] - 1s 133us/step - loss: 1.0953 - categorical_accuracy: 0.7651 - val_loss: 1.1708 - val_categorical_accuracy: 0.7430\n",
            "Epoch 4/10\n",
            "\r 512/7982 [\u003e.............................] - ETA: 0s - loss: 0.8880 - categorical_accuracy: 0.8242",
            "\b\b\b\b\b\b\b\b\b\b\b\b\b\b\b\b\b\b\b\b\b\b\b\b\b\b\b\b\b\b\b\b\b\b\b\b\b\b\b\b\b\b\b\b\b\b\b\b\b\b\b\b\b\b\b\b\b\b\b\b\b\b\b\b\b\b\b\b\b\b\b\b\b\b\b\b\b\b\b\b\b\b\b\b\b\b\b\b\b\b\b\b\b\b\b\b\b\b\r1024/7982 [\u003d\u003d\u003e...........................] - ETA: 0s - loss: 0.8614 - categorical_accuracy: 0.8232",
            "\b\b\b\b\b\b\b\b\b\b\b\b\b\b\b\b\b\b\b\b\b\b\b\b\b\b\b\b\b\b\b\b\b\b\b\b\b\b\b\b\b\b\b\b\b\b\b\b\b\b\b\b\b\b\b\b\b\b\b\b\b\b\b\b\b\b\b\b\b\b\b\b\b\b\b\b\b\b\b\b\b\b\b\b\b\b\b\b\b\b\b\b\b\b\b\b\b\b",
            "\r1536/7982 [\u003d\u003d\u003d\u003d\u003e.........................] - ETA: 0s - loss: 0.9040 - categorical_accuracy: 0.8079",
            "\b\b\b\b\b\b\b\b\b\b\b\b\b\b\b\b\b\b\b\b\b\b\b\b\b\b\b\b\b\b\b\b\b\b\b\b\b\b\b\b\b\b\b\b\b\b\b\b\b\b\b\b\b\b\b\b\b\b\b\b\b\b\b\b\b\b\b\b\b\b\b\b\b\b\b\b\b\b\b\b\b\b\b\b\b\b\b\b\b\b\b\b\b\b\b\b\b\b",
            "\r2048/7982 [\u003d\u003d\u003d\u003d\u003d\u003d\u003e.......................] - ETA: 0s - loss: 0.8927 - categorical_accuracy: 0.8159",
            "\b\b\b\b\b\b\b\b\b\b\b\b\b\b\b\b\b\b\b\b\b\b\b\b\b\b\b\b\b\b\b\b\b\b\b\b\b\b\b\b\b\b\b\b\b\b\b\b\b\b\b\b\b\b\b\b\b\b\b\b\b\b\b\b\b\b\b\b\b\b\b\b\b\b\b\b\b\b\b\b\b\b\b\b\b\b\b\b\b\b\b\b\b\b\b\b\b\b\r2560/7982 [\u003d\u003d\u003d\u003d\u003d\u003d\u003d\u003d\u003e.....................] - ETA: 0s - loss: 0.8960 - categorical_accuracy: 0.8117",
            "\b\b\b\b\b\b\b\b\b\b\b\b\b\b\b\b\b\b\b\b\b\b\b\b\b\b\b\b\b\b\b\b\b\b\b\b\b\b\b\b\b\b\b\b\b\b\b\b\b\b\b\b\b\b\b\b\b\b\b\b\b\b\b\b\b\b\b\b\b\b\b\b\b\b\b\b\b\b\b\b\b\b\b\b\b\b\b\b\b\b\b\b\b\b\b\b\b\b\r3072/7982 [\u003d\u003d\u003d\u003d\u003d\u003d\u003d\u003d\u003d\u003d\u003e...................] - ETA: 0s - loss: 0.8877 - categorical_accuracy: 0.8145",
            "\b\b\b\b\b\b\b\b\b\b\b\b\b\b\b\b\b\b\b\b\b\b\b\b\b\b\b\b\b\b\b\b\b\b\b\b\b\b\b\b\b\b\b\b\b\b\b\b\b\b\b\b\b\b\b\b\b\b\b\b\b\b\b\b\b\b\b\b\b\b\b\b\b\b\b\b\b\b\b\b\b\b\b\b\b\b\b\b\b\b\b\b\b\b\b\b\b\b\r3584/7982 [\u003d\u003d\u003d\u003d\u003d\u003d\u003d\u003d\u003d\u003d\u003d\u003d\u003e.................] - ETA: 0s - loss: 0.8853 - categorical_accuracy: 0.8158",
            "\b\b\b\b\b\b\b\b\b\b\b\b\b\b\b\b\b\b\b\b\b\b\b\b\b\b\b\b\b\b\b\b\b\b\b\b\b\b\b\b\b\b\b\b\b\b\b\b\b\b\b\b\b\b\b\b\b\b\b\b\b\b\b\b\b\b\b\b\b\b\b\b\b\b\b\b\b\b\b\b\b\b\b\b\b\b\b\b\b\b\b\b\b\b\b\b\b\b",
            "\r4096/7982 [\u003d\u003d\u003d\u003d\u003d\u003d\u003d\u003d\u003d\u003d\u003d\u003d\u003d\u003d\u003e...............] - ETA: 0s - loss: 0.8984 - categorical_accuracy: 0.8105",
            "\b\b\b\b\b\b\b\b\b\b\b\b\b\b\b\b\b\b\b\b\b\b\b\b\b\b\b\b\b\b\b\b\b\b\b\b\b\b\b\b\b\b\b\b\b\b\b\b\b\b\b\b\b\b\b\b\b\b\b\b\b\b\b\b\b\b\b\b\b\b\b\b\b\b\b\b\b\b\b\b\b\b\b\b\b\b\b\b\b\b\b\b\b\b\b\b\b\b\r4608/7982 [\u003d\u003d\u003d\u003d\u003d\u003d\u003d\u003d\u003d\u003d\u003d\u003d\u003d\u003d\u003d\u003d\u003e.............] - ETA: 0s - loss: 0.9095 - categorical_accuracy: 0.8079",
            "\b\b\b\b\b\b\b\b\b\b\b\b\b\b\b\b\b\b\b\b\b\b\b\b\b\b\b\b\b\b\b\b\b\b\b\b\b\b\b\b\b\b\b\b\b\b\b\b\b\b\b\b\b\b\b\b\b\b\b\b\b\b\b\b\b\b\b\b\b\b\b\b\b\b\b\b\b\b\b\b\b\b\b\b\b\b\b\b\b\b\b\b\b\b\b\b\b\b\r5120/7982 [\u003d\u003d\u003d\u003d\u003d\u003d\u003d\u003d\u003d\u003d\u003d\u003d\u003d\u003d\u003d\u003d\u003d\u003d\u003e...........] - ETA: 0s - loss: 0.8947 - categorical_accuracy: 0.8115",
            "\b\b\b\b\b\b\b\b\b\b\b\b\b\b\b\b\b\b\b\b\b\b\b\b\b\b\b\b\b\b\b\b\b\b\b\b\b\b\b\b\b\b\b\b\b\b\b\b\b\b\b\b\b\b\b\b\b\b\b\b\b\b\b\b\b\b\b\b\b\b\b\b\b\b\b\b\b\b\b\b\b\b\b\b\b\b\b\b\b\b\b\b\b\b\b\b\b\b\r5632/7982 [\u003d\u003d\u003d\u003d\u003d\u003d\u003d\u003d\u003d\u003d\u003d\u003d\u003d\u003d\u003d\u003d\u003d\u003d\u003d\u003d\u003e.........] - ETA: 0s - loss: 0.8888 - categorical_accuracy: 0.8111",
            "\b\b\b\b\b\b\b\b\b\b\b\b\b\b\b\b\b\b\b\b\b\b\b\b\b\b\b\b\b\b\b\b\b\b\b\b\b\b\b\b\b\b\b\b\b\b\b\b\b\b\b\b\b\b\b\b\b\b\b\b\b\b\b\b\b\b\b\b\b\b\b\b\b\b\b\b\b\b\b\b\b\b\b\b\b\b\b\b\b\b\b\b\b\b\b\b\b\b",
            "\r6144/7982 [\u003d\u003d\u003d\u003d\u003d\u003d\u003d\u003d\u003d\u003d\u003d\u003d\u003d\u003d\u003d\u003d\u003d\u003d\u003d\u003d\u003d\u003d\u003e.......] - ETA: 0s - loss: 0.8799 - categorical_accuracy: 0.8135",
            "\b\b\b\b\b\b\b\b\b\b\b\b\b\b\b\b\b\b\b\b\b\b\b\b\b\b\b\b\b\b\b\b\b\b\b\b\b\b\b\b\b\b\b\b\b\b\b\b\b\b\b\b\b\b\b\b\b\b\b\b\b\b\b\b\b\b\b\b\b\b\b\b\b\b\b\b\b\b\b\b\b\b\b\b\b\b\b\b\b\b\b\b\b\b\b\b\b\b",
            "\r6656/7982 [\u003d\u003d\u003d\u003d\u003d\u003d\u003d\u003d\u003d\u003d\u003d\u003d\u003d\u003d\u003d\u003d\u003d\u003d\u003d\u003d\u003d\u003d\u003d\u003d\u003e.....] - ETA: 0s - loss: 0.8760 - categorical_accuracy: 0.8146",
            "\b\b\b\b\b\b\b\b\b\b\b\b\b\b\b\b\b\b\b\b\b\b\b\b\b\b\b\b\b\b\b\b\b\b\b\b\b\b\b\b\b\b\b\b\b\b\b\b\b\b\b\b\b\b\b\b\b\b\b\b\b\b\b\b\b\b\b\b\b\b\b\b\b\b\b\b\b\b\b\b\b\b\b\b\b\b\b\b\b\b\b\b\b\b\b\b\b\b",
            "\r7168/7982 [\u003d\u003d\u003d\u003d\u003d\u003d\u003d\u003d\u003d\u003d\u003d\u003d\u003d\u003d\u003d\u003d\u003d\u003d\u003d\u003d\u003d\u003d\u003d\u003d\u003d\u003e....] - ETA: 0s - loss: 0.8764 - categorical_accuracy: 0.8145",
            "\b\b\b\b\b\b\b\b\b\b\b\b\b\b\b\b\b\b\b\b\b\b\b\b\b\b\b\b\b\b\b\b\b\b\b\b\b\b\b\b\b\b\b\b\b\b\b\b\b\b\b\b\b\b\b\b\b\b\b\b\b\b\b\b\b\b\b\b\b\b\b\b\b\b\b\b\b\b\b\b\b\b\b\b\b\b\b\b\b\b\b\b\b\b\b\b\b\b\r7680/7982 [\u003d\u003d\u003d\u003d\u003d\u003d\u003d\u003d\u003d\u003d\u003d\u003d\u003d\u003d\u003d\u003d\u003d\u003d\u003d\u003d\u003d\u003d\u003d\u003d\u003d\u003d\u003d\u003e..]",
            " - ETA: 0s - loss: 0.8718 - categorical_accuracy: 0.8158",
            "\b\b\b\b\b\b\b\b\b\b\b\b\b\b\b\b\b\b\b\b\b\b\b\b\b\b\b\b\b\b\b\b\b\b\b\b\b\b\b\b\b\b\b\b\b\b\b\b\b\b\b\b\b\b\b\b\b\b\b\b\b\b\b\b\b\b\b\b\b\b\b\b\b\b\b\b\b\b\b\b\b\b\b\b\b\b\b\b\b\b\b\b\b\b\b\b\b\b",
            "\r7982/7982 [\u003d\u003d\u003d\u003d\u003d\u003d\u003d\u003d\u003d\u003d\u003d\u003d\u003d\u003d\u003d\u003d\u003d\u003d\u003d\u003d\u003d\u003d\u003d\u003d\u003d\u003d\u003d\u003d\u003d\u003d] - 1s 129us/step - loss: 0.8697 - categorical_accuracy: 0.8165 - val_loss: 1.0793 - val_categorical_accuracy: 0.7590\n",
            "Epoch 5/10\n",
            "\r 512/7982 [\u003e.............................] - ETA: 0s - loss: 0.7680 - categorical_accuracy: 0.8320",
            "\b\b\b\b\b\b\b\b\b\b\b\b\b\b\b\b\b\b\b\b\b\b\b\b\b\b\b\b\b\b\b\b\b\b\b\b\b\b\b\b\b\b\b\b\b\b\b\b\b\b\b\b\b\b\b\b\b\b\b\b\b\b\b\b\b\b\b\b\b\b\b\b\b\b\b\b\b\b\b\b\b\b\b\b\b\b\b\b\b\b\b\b\b\b\b\b\b\b\r1024/7982 [\u003d\u003d\u003e...........................] - ETA: 0s - loss: 0.7529 - categorical_accuracy: 0.8379",
            "\b\b\b\b\b\b\b\b\b\b\b\b\b\b\b\b\b\b\b\b\b\b\b\b\b\b\b\b\b\b\b\b\b\b\b\b\b\b\b\b\b\b\b\b\b\b\b\b\b\b\b\b\b\b\b\b\b\b\b\b\b\b\b\b\b\b\b\b\b\b\b\b\b\b\b\b\b\b\b\b\b\b\b\b\b\b\b\b\b\b\b\b\b\b\b\b\b\b",
            "\r1536/7982 [\u003d\u003d\u003d\u003d\u003e.........................] - ETA: 0s - loss: 0.7555 - categorical_accuracy: 0.8411",
            "\b\b\b\b\b\b\b\b\b\b\b\b\b\b\b\b\b\b\b\b\b\b\b\b\b\b\b\b\b\b\b\b\b\b\b\b\b\b\b\b\b\b\b\b\b\b\b\b\b\b\b\b\b\b\b\b\b\b\b\b\b\b\b\b\b\b\b\b\b\b\b\b\b\b\b\b\b\b\b\b\b\b\b\b\b\b\b\b\b\b\b\b\b\b\b\b\b\b\r2048/7982 [\u003d\u003d\u003d\u003d\u003d\u003d\u003e.......................] - ETA: 0s - loss: 0.7242 - categorical_accuracy: 0.8477",
            "\b\b\b\b\b\b\b\b\b\b\b\b\b\b\b\b\b\b\b\b\b\b\b\b\b\b\b\b\b\b\b\b\b\b\b\b\b\b\b\b\b\b\b\b\b\b\b\b\b\b\b\b\b\b\b\b\b\b\b\b\b\b\b\b\b\b\b\b\b\b\b\b\b\b\b\b\b\b\b\b\b\b\b\b\b\b\b\b\b\b\b\b\b\b\b\b\b\b\r2560/7982 [\u003d\u003d\u003d\u003d\u003d\u003d\u003d\u003d\u003e.....................] - ETA: 0s - loss: 0.7099 - categorical_accuracy: 0.8488",
            "\b\b\b\b\b\b\b\b\b\b\b\b\b\b\b\b\b\b\b\b\b\b\b\b\b\b\b\b\b\b\b\b\b\b\b\b\b\b\b\b\b\b\b\b\b\b\b\b\b\b\b\b\b\b\b\b\b\b\b\b\b\b\b\b\b\b\b\b\b\b\b\b\b\b\b\b\b\b\b\b\b\b\b\b\b\b\b\b\b\b\b\b\b\b\b\b\b\b\r3072/7982 [\u003d\u003d\u003d\u003d\u003d\u003d\u003d\u003d\u003d\u003d\u003e...................] - ETA: 0s - loss: 0.7268 - categorical_accuracy: 0.8421",
            "\b\b\b\b\b\b\b\b\b\b\b\b\b\b\b\b\b\b\b\b\b\b\b\b\b\b\b\b\b\b\b\b\b\b\b\b\b\b\b\b\b\b\b\b\b\b\b\b\b\b\b\b\b\b\b\b\b\b\b\b\b\b\b\b\b\b\b\b\b\b\b\b\b\b\b\b\b\b\b\b\b\b\b\b\b\b\b\b\b\b\b\b\b\b\b\b\b\b",
            "\r3584/7982 [\u003d\u003d\u003d\u003d\u003d\u003d\u003d\u003d\u003d\u003d\u003d\u003d\u003e.................] - ETA: 0s - loss: 0.7151 - categorical_accuracy: 0.8443",
            "\b\b\b\b\b\b\b\b\b\b\b\b\b\b\b\b\b\b\b\b\b\b\b\b\b\b\b\b\b\b\b\b\b\b\b\b\b\b\b\b\b\b\b\b\b\b\b\b\b\b\b\b\b\b\b\b\b\b\b\b\b\b\b\b\b\b\b\b\b\b\b\b\b\b\b\b\b\b\b\b\b\b\b\b\b\b\b\b\b\b\b\b\b\b\b\b\b\b",
            "\r4096/7982 [\u003d\u003d\u003d\u003d\u003d\u003d\u003d\u003d\u003d\u003d\u003d\u003d\u003d\u003d\u003e...............] - ETA: 0s - loss: 0.7101 - categorical_accuracy: 0.8459",
            "\b\b\b\b\b\b\b\b\b\b\b\b\b\b\b\b\b\b\b\b\b\b\b\b\b\b\b\b\b\b\b\b\b\b\b\b\b\b\b\b\b\b\b\b\b\b\b\b\b\b\b\b\b\b\b\b\b\b\b\b\b\b\b\b\b\b\b\b\b\b\b\b\b\b\b\b\b\b\b\b\b\b\b\b\b\b\b\b\b\b\b\b\b\b\b\b\b\b",
            "\r4608/7982 [\u003d\u003d\u003d\u003d\u003d\u003d\u003d\u003d\u003d\u003d\u003d\u003d\u003d\u003d\u003d\u003d\u003e.............] - ETA: 0s - loss: 0.7096 - categorical_accuracy: 0.8451",
            "\b\b\b\b\b\b\b\b\b\b\b\b\b\b\b\b\b\b\b\b\b\b\b\b\b\b\b\b\b\b\b\b\b\b\b\b\b\b\b\b\b\b\b\b\b\b\b\b\b\b\b\b\b\b\b\b\b\b\b\b\b\b\b\b\b\b\b\b\b\b\b\b\b\b\b\b\b\b\b\b\b\b\b\b\b\b\b\b\b\b\b\b\b\b\b\b\b\b",
            "\r5120/7982 [\u003d\u003d\u003d\u003d\u003d\u003d\u003d\u003d\u003d\u003d\u003d\u003d\u003d\u003d\u003d\u003d\u003d\u003d\u003e...........] - ETA: 0s - loss: 0.7168 - categorical_accuracy: 0.8432",
            "\b\b\b\b\b\b\b\b\b\b\b\b\b\b\b\b\b\b\b\b\b\b\b\b\b\b\b\b\b\b\b\b\b\b\b\b\b\b\b\b\b\b\b\b\b\b\b\b\b\b\b\b\b\b\b\b\b\b\b\b\b\b\b\b\b\b\b\b\b\b\b\b\b\b\b\b\b\b\b\b\b\b\b\b\b\b\b\b\b\b\b\b\b\b\b\b\b\b",
            "\r5632/7982 [\u003d\u003d\u003d\u003d\u003d\u003d\u003d\u003d\u003d\u003d\u003d\u003d\u003d\u003d\u003d\u003d\u003d\u003d\u003d\u003d\u003e.........] - ETA: 0s - loss: 0.7127 - categorical_accuracy: 0.8441",
            "\b\b\b\b\b\b\b\b\b\b\b\b\b\b\b\b\b\b\b\b\b\b\b\b\b\b\b\b\b\b\b\b\b\b\b\b\b\b\b\b\b\b\b\b\b\b\b\b\b\b\b\b\b\b\b\b\b\b\b\b\b\b\b\b\b\b\b\b\b\b\b\b\b\b\b\b\b\b\b\b\b\b\b\b\b\b\b\b\b\b\b\b\b\b\b\b\b\b",
            "\r6144/7982 [\u003d\u003d\u003d\u003d\u003d\u003d\u003d\u003d\u003d\u003d\u003d\u003d\u003d\u003d\u003d\u003d\u003d\u003d\u003d\u003d\u003d\u003d\u003e.......] - ETA: 0s - loss: 0.7098 - categorical_accuracy: 0.8454",
            "\b\b\b\b\b\b\b\b\b\b\b\b\b\b\b\b\b\b\b\b\b\b\b\b\b\b\b\b\b\b\b\b\b\b\b\b\b\b\b\b\b\b\b\b\b\b\b\b\b\b\b\b\b\b\b\b\b\b\b\b\b\b\b\b\b\b\b\b\b\b\b\b\b\b\b\b\b\b\b\b\b\b\b\b\b\b\b\b\b\b\b\b\b\b\b\b\b\b",
            "\r6656/7982 [\u003d\u003d\u003d\u003d\u003d\u003d\u003d\u003d\u003d\u003d\u003d\u003d\u003d\u003d\u003d\u003d\u003d\u003d\u003d\u003d\u003d\u003d\u003d\u003d\u003e.....] - ETA: 0s - loss: 0.7105 - categorical_accuracy: 0.8451",
            "\b\b\b\b\b\b\b\b\b\b\b\b\b\b\b\b\b\b\b\b\b\b\b\b\b\b\b\b\b\b\b\b\b\b\b\b\b\b\b\b\b\b\b\b\b\b\b\b\b\b\b\b\b\b\b\b\b\b\b\b\b\b\b\b\b\b\b\b\b\b\b\b\b\b\b\b\b\b\b\b\b\b\b\b\b\b\b\b\b\b\b\b\b\b\b\b\b\b",
            "\r7168/7982 [\u003d\u003d\u003d\u003d\u003d\u003d\u003d\u003d\u003d\u003d\u003d\u003d\u003d\u003d\u003d\u003d\u003d\u003d\u003d\u003d\u003d\u003d\u003d\u003d\u003d\u003e....] - ETA: 0s - loss: 0.7033 - categorical_accuracy: 0.8471",
            "\b\b\b\b\b\b\b\b\b\b\b\b\b\b\b\b\b\b\b\b\b\b\b\b\b\b\b\b\b\b\b\b\b\b\b\b\b\b\b\b\b\b\b\b\b\b\b\b\b\b\b\b\b\b\b\b\b\b\b\b\b\b\b\b\b\b\b\b\b\b\b\b\b\b\b\b\b\b\b\b\b\b\b\b\b\b\b\b\b\b\b\b\b\b\b\b\b\b\r7680/7982 [\u003d\u003d\u003d\u003d\u003d\u003d\u003d\u003d\u003d\u003d\u003d\u003d\u003d\u003d\u003d\u003d\u003d\u003d\u003d\u003d\u003d\u003d\u003d\u003d\u003d\u003d\u003d\u003e..] - ETA: 0s - loss: 0.7056 - categorical_accuracy: 0.8458",
            "\b\b\b\b\b\b\b\b\b\b\b\b\b\b\b\b\b\b\b\b\b\b\b\b\b\b\b\b\b\b\b\b\b\b\b\b\b\b\b\b\b\b\b\b\b\b\b\b\b\b\b\b\b\b\b\b\b\b\b\b\b\b\b\b\b\b\b\b\b\b\b\b\b\b\b\b\b\b\b\b\b\b\b\b\b\b\b\b\b\b\b\b\b\b\b\b\b\b",
            "\r7982/7982 [\u003d\u003d\u003d\u003d\u003d\u003d\u003d\u003d\u003d\u003d\u003d\u003d\u003d\u003d\u003d\u003d\u003d\u003d\u003d\u003d\u003d\u003d\u003d\u003d\u003d\u003d\u003d\u003d\u003d\u003d] - 1s 131us/step - loss: 0.7034 - categorical_accuracy: 0.8472 - val_loss: 0.9844 - val_categorical_accuracy: 0.7810\n",
            "Epoch 6/10\n",
            "\r 512/7982 [\u003e.............................] - ETA: 0s - loss: 0.6030 - categorical_accuracy: 0.8770",
            "\b\b\b\b\b\b\b\b\b\b\b\b\b\b\b\b\b\b\b\b\b\b\b\b\b\b\b\b\b\b\b\b\b\b\b\b\b\b\b\b\b\b\b\b\b\b\b\b\b\b\b\b\b\b\b\b\b\b\b\b\b\b\b\b\b\b\b\b\b\b\b\b\b\b\b\b\b\b\b\b\b\b\b\b\b\b\b\b\b\b\b\b\b\b\b\b\b\b\r1024/7982 [\u003d\u003d\u003e...........................] - ETA: 0s - loss: 0.6032 - categorical_accuracy: 0.8740",
            "\b\b\b\b\b\b\b\b\b\b\b\b\b\b\b\b\b\b\b\b\b\b\b\b\b\b\b\b\b\b\b\b\b\b\b\b\b\b\b\b\b\b\b\b\b\b\b\b\b\b\b\b\b\b\b\b\b\b\b\b\b\b\b\b\b\b\b\b\b\b\b\b\b\b\b\b\b\b\b\b\b\b\b\b\b\b\b\b\b\b\b\b\b\b\b\b\b\b",
            "\r1536/7982 [\u003d\u003d\u003d\u003d\u003e.........................] - ETA: 0s - loss: 0.5805 - categorical_accuracy: 0.8783",
            "\b\b\b\b\b\b\b\b\b\b\b\b\b\b\b\b\b\b\b\b\b\b\b\b\b\b\b\b\b\b\b\b\b\b\b\b\b\b\b\b\b\b\b\b\b\b\b\b\b\b\b\b\b\b\b\b\b\b\b\b\b\b\b\b\b\b\b\b\b\b\b\b\b\b\b\b\b\b\b\b\b\b\b\b\b\b\b\b\b\b\b\b\b\b\b\b\b\b",
            "\r2048/7982 [\u003d\u003d\u003d\u003d\u003d\u003d\u003e.......................] - ETA: 0s - loss: 0.5748 - categorical_accuracy: 0.8813",
            "\b\b\b\b\b\b\b\b\b\b\b\b\b\b\b\b\b\b\b\b\b\b\b\b\b\b\b\b\b\b\b\b\b\b\b\b\b\b\b\b\b\b\b\b\b\b\b\b\b\b\b\b\b\b\b\b\b\b\b\b\b\b\b\b\b\b\b\b\b\b\b\b\b\b\b\b\b\b\b\b\b\b\b\b\b\b\b\b\b\b\b\b\b\b\b\b\b\b",
            "\r2560/7982 [\u003d\u003d\u003d\u003d\u003d\u003d\u003d\u003d\u003e.....................] - ETA: 0s - loss: 0.5671 - categorical_accuracy: 0.8816",
            "\b\b\b\b\b\b\b\b\b\b\b\b\b\b\b\b\b\b\b\b\b\b\b\b\b\b\b\b\b\b\b\b\b\b\b\b\b\b\b\b\b\b\b\b\b\b\b\b\b\b\b\b\b\b\b\b\b\b\b\b\b\b\b\b\b\b\b\b\b\b\b\b\b\b\b\b\b\b\b\b\b\b\b\b\b\b\b\b\b\b\b\b\b\b\b\b\b\b\r3072/7982 [\u003d\u003d\u003d\u003d\u003d\u003d\u003d\u003d\u003d\u003d\u003e...................] - ETA: 0s - loss: 0.5716 - categorical_accuracy: 0.8796",
            "\b\b\b\b\b\b\b\b\b\b\b\b\b\b\b\b\b\b\b\b\b\b\b\b\b\b\b\b\b\b\b\b\b\b\b\b\b\b\b\b\b\b\b\b\b\b\b\b\b\b\b\b\b\b\b\b\b\b\b\b\b\b\b\b\b\b\b\b\b\b\b\b\b\b\b\b\b\b\b\b\b\b\b\b\b\b\b\b\b\b\b\b\b\b\b\b\b\b\r3584/7982 [\u003d\u003d\u003d\u003d\u003d\u003d\u003d\u003d\u003d\u003d\u003d\u003d\u003e.................] - ETA: 0s - loss: 0.5652 - categorical_accuracy: 0.8817",
            "\b\b\b\b\b\b\b\b\b\b\b\b\b\b\b\b\b\b\b\b\b\b\b\b\b\b\b\b\b\b\b\b\b\b\b\b\b\b\b\b\b\b\b\b\b\b\b\b\b\b\b\b\b\b\b\b\b\b\b\b\b\b\b\b\b\b\b\b\b\b\b\b\b\b\b\b\b\b\b\b\b\b\b\b\b\b\b\b\b\b\b\b\b\b\b\b\b\b\r4096/7982 [\u003d\u003d\u003d\u003d\u003d\u003d\u003d\u003d\u003d\u003d\u003d\u003d\u003d\u003d\u003e...............] - ETA: 0s - loss: 0.5670 - categorical_accuracy: 0.8821",
            "\b\b\b\b\b\b\b\b\b\b\b\b\b\b\b\b\b\b\b\b\b\b\b\b\b\b\b\b\b\b\b\b\b\b\b\b\b\b\b\b\b\b\b\b\b\b\b\b\b\b\b\b\b\b\b\b\b\b\b\b\b\b\b\b\b\b\b\b\b\b\b\b\b\b\b\b\b\b\b\b\b\b\b\b\b\b\b\b\b\b\b\b\b\b\b\b\b\b\r4608/7982 [\u003d\u003d\u003d\u003d\u003d\u003d\u003d\u003d\u003d\u003d\u003d\u003d\u003d\u003d\u003d\u003d\u003e.............] - ETA: 0s - loss: 0.5679 - categorical_accuracy: 0.8817",
            "\b\b\b\b\b\b\b\b\b\b\b\b\b\b\b\b\b\b\b\b\b\b\b\b\b\b\b\b\b\b\b\b\b\b\b\b\b\b\b\b\b\b\b\b\b\b\b\b\b\b\b\b\b\b\b\b\b\b\b\b\b\b\b\b\b\b\b\b\b\b\b\b\b\b\b\b\b\b\b\b\b\b\b\b\b\b\b\b\b\b\b\b\b\b\b\b\b\b\r5120/7982 [\u003d\u003d\u003d\u003d\u003d\u003d\u003d\u003d\u003d\u003d\u003d\u003d\u003d\u003d\u003d\u003d\u003d\u003d\u003e...........] - ETA: 0s - loss: 0.5657 - categorical_accuracy: 0.8809",
            "\b\b\b\b\b\b\b\b\b\b\b\b\b\b\b\b\b\b\b\b\b\b\b\b\b\b\b\b\b\b\b\b\b\b\b\b\b\b\b\b\b\b\b\b\b\b\b\b\b\b\b\b\b\b\b\b\b\b\b\b\b\b\b\b\b\b\b\b\b\b\b\b\b\b\b\b\b\b\b\b\b\b\b\b\b\b\b\b\b\b\b\b\b\b\b\b\b\b\r5632/7982 [\u003d\u003d\u003d\u003d\u003d\u003d\u003d\u003d\u003d\u003d\u003d\u003d\u003d\u003d\u003d\u003d\u003d\u003d\u003d\u003d\u003e.........] - ETA: 0s - loss: 0.5664 - categorical_accuracy: 0.8819",
            "\b\b\b\b\b\b\b\b\b\b\b\b\b\b\b\b\b\b\b\b\b\b\b\b\b\b\b\b\b\b\b\b\b\b\b\b\b\b\b\b\b\b\b\b\b\b\b\b\b\b\b\b\b\b\b\b\b\b\b\b\b\b\b\b\b\b\b\b\b\b\b\b\b\b\b\b\b\b\b\b\b\b\b\b\b\b\b\b\b\b\b\b\b\b\b\b\b\b\r6144/7982 [\u003d\u003d\u003d\u003d\u003d\u003d\u003d\u003d\u003d\u003d\u003d\u003d\u003d\u003d\u003d\u003d\u003d\u003d\u003d\u003d\u003d\u003d\u003e.......] - ETA: 0s - loss: 0.5653 - categorical_accuracy: 0.8810",
            "\b\b\b\b\b\b\b\b\b\b\b\b\b\b\b\b\b\b\b\b\b\b\b\b\b\b\b\b\b\b\b\b\b\b\b\b\b\b\b\b\b\b\b\b\b\b\b\b\b\b\b\b\b\b\b\b\b\b\b\b\b\b\b\b\b\b\b\b\b\b\b\b\b\b\b\b\b\b\b\b\b\b\b\b\b\b\b\b\b\b\b\b\b\b\b\b\b\b",
            "\r6656/7982 [\u003d\u003d\u003d\u003d\u003d\u003d\u003d\u003d\u003d\u003d\u003d\u003d\u003d\u003d\u003d\u003d\u003d\u003d\u003d\u003d\u003d\u003d\u003d\u003d\u003e.....] - ETA: 0s - loss: 0.5649 - categorical_accuracy: 0.8809",
            "\b\b\b\b\b\b\b\b\b\b\b\b\b\b\b\b\b\b\b\b\b\b\b\b\b\b\b\b\b\b\b\b\b\b\b\b\b\b\b\b\b\b\b\b\b\b\b\b\b\b\b\b\b\b\b\b\b\b\b\b\b\b\b\b\b\b\b\b\b\b\b\b\b\b\b\b\b\b\b\b\b\b\b\b\b\b\b\b\b\b\b\b\b\b\b\b\b\b\r7168/7982 [\u003d\u003d\u003d\u003d\u003d\u003d\u003d\u003d\u003d\u003d\u003d\u003d\u003d\u003d\u003d\u003d\u003d\u003d\u003d\u003d\u003d\u003d\u003d\u003d\u003d\u003e....] - ETA: 0s - loss: 0.5676 - categorical_accuracy: 0.8797",
            "\b\b\b\b\b\b\b\b\b\b\b\b\b\b\b\b\b\b\b\b\b\b\b\b\b\b\b\b\b\b\b\b\b\b\b\b\b\b\b\b\b\b\b\b\b\b\b\b\b\b\b\b\b\b\b\b\b\b\b\b\b\b\b\b\b\b\b\b\b\b\b\b\b\b\b\b\b\b\b\b\b\b\b\b\b\b\b\b\b\b\b\b\b\b\b\b\b\b\r7680/7982 [\u003d\u003d\u003d\u003d\u003d\u003d\u003d\u003d\u003d\u003d\u003d\u003d\u003d\u003d\u003d\u003d\u003d\u003d\u003d\u003d\u003d\u003d\u003d\u003d\u003d\u003d\u003d\u003e..] - ETA: 0s - loss: 0.5671 - categorical_accuracy: 0.8798",
            "\b\b\b\b\b\b\b\b\b\b\b\b\b\b\b\b\b\b\b\b\b\b\b\b\b\b\b\b\b\b\b\b\b\b\b\b\b\b\b\b\b\b\b\b\b\b\b\b\b\b\b\b\b\b\b\b\b\b\b\b\b\b\b\b\b\b\b\b\b\b\b\b\b\b\b\b\b\b\b\b\b\b\b\b\b\b\b\b\b\b\b\b\b\b\b\b\b\b",
            "\r7982/7982 [\u003d\u003d\u003d\u003d\u003d\u003d\u003d\u003d\u003d\u003d\u003d\u003d\u003d\u003d\u003d\u003d\u003d\u003d\u003d\u003d\u003d\u003d\u003d\u003d\u003d\u003d\u003d\u003d\u003d\u003d] - 1s 127us/step - loss: 0.5667 - categorical_accuracy: 0.8802 - val_loss: 0.9411 - val_categorical_accuracy: 0.8040\n",
            "Epoch 7/10\n",
            "\r 512/7982 [\u003e.............................] - ETA: 0s - loss: 0.4726 - categorical_accuracy: 0.9023",
            "\b\b\b\b\b\b\b\b\b\b\b\b\b\b\b\b\b\b\b\b\b\b\b\b\b\b\b\b\b\b\b\b\b\b\b\b\b\b\b\b\b\b\b\b\b\b\b\b\b\b\b\b\b\b\b\b\b\b\b\b\b\b\b\b\b\b\b\b\b\b\b\b\b\b\b\b\b\b\b\b\b\b\b\b\b\b\b\b\b\b\b\b\b\b\b\b\b\b\r1024/7982 [\u003d\u003d\u003e...........................] - ETA: 0s - loss: 0.4714 - categorical_accuracy: 0.9062",
            "\b\b\b\b\b\b\b\b\b\b\b\b\b\b\b\b\b\b\b\b\b\b\b\b\b\b\b\b\b\b\b\b\b\b\b\b\b\b\b\b\b\b\b\b\b\b\b\b\b\b\b\b\b\b\b\b\b\b\b\b\b\b\b\b\b\b\b\b\b\b\b\b\b\b\b\b\b\b\b\b\b\b\b\b\b\b\b\b\b\b\b\b\b\b\b\b\b\b",
            "\r1536/7982 [\u003d\u003d\u003d\u003d\u003e.........................] - ETA: 0s - loss: 0.4741 - categorical_accuracy: 0.9004",
            "\b\b\b\b\b\b\b\b\b\b\b\b\b\b\b\b\b\b\b\b\b\b\b\b\b\b\b\b\b\b\b\b\b\b\b\b\b\b\b\b\b\b\b\b\b\b\b\b\b\b\b\b\b\b\b\b\b\b\b\b\b\b\b\b\b\b\b\b\b\b\b\b\b\b\b\b\b\b\b\b\b\b\b\b\b\b\b\b\b\b\b\b\b\b\b\b\b\b\r2048/7982 [\u003d\u003d\u003d\u003d\u003d\u003d\u003e.......................] - ETA: 0s - loss: 0.4834 - categorical_accuracy: 0.8984",
            "\b\b\b\b\b\b\b\b\b\b\b\b\b\b\b\b\b\b\b\b\b\b\b\b\b\b\b\b\b\b\b\b\b\b\b\b\b\b\b\b\b\b\b\b\b\b\b\b\b\b\b\b\b\b\b\b\b\b\b\b\b\b\b\b\b\b\b\b\b\b\b\b\b\b\b\b\b\b\b\b\b\b\b\b\b\b\b\b\b\b\b\b\b\b\b\b\b\b\r2560/7982 [\u003d\u003d\u003d\u003d\u003d\u003d\u003d\u003d\u003e.....................] - ETA: 0s - loss: 0.4910 - categorical_accuracy: 0.8992",
            "\b\b\b\b\b\b\b\b\b\b\b\b\b\b\b\b\b\b\b\b\b\b\b\b\b\b\b\b\b\b\b\b\b\b\b\b\b\b\b\b\b\b\b\b\b\b\b\b\b\b\b\b\b\b\b\b\b\b\b\b\b\b\b\b\b\b\b\b\b\b\b\b\b\b\b\b\b\b\b\b\b\b\b\b\b\b\b\b\b\b\b\b\b\b\b\b\b\b",
            "\r3072/7982 [\u003d\u003d\u003d\u003d\u003d\u003d\u003d\u003d\u003d\u003d\u003e...................] - ETA: 0s - loss: 0.4768 - categorical_accuracy: 0.9020",
            "\b\b\b\b\b\b\b\b\b\b\b\b\b\b\b\b\b\b\b\b\b\b\b\b\b\b\b\b\b\b\b\b\b\b\b\b\b\b\b\b\b\b\b\b\b\b\b\b\b\b\b\b\b\b\b\b\b\b\b\b\b\b\b\b\b\b\b\b\b\b\b\b\b\b\b\b\b\b\b\b\b\b\b\b\b\b\b\b\b\b\b\b\b\b\b\b\b\b",
            "\r3584/7982 [\u003d\u003d\u003d\u003d\u003d\u003d\u003d\u003d\u003d\u003d\u003d\u003d\u003e.................] - ETA: 0s - loss: 0.4655 - categorical_accuracy: 0.9035",
            "\b\b\b\b\b\b\b\b\b\b\b\b\b\b\b\b\b\b\b\b\b\b\b\b\b\b\b\b\b\b\b\b\b\b\b\b\b\b\b\b\b\b\b\b\b\b\b\b\b\b\b\b\b\b\b\b\b\b\b\b\b\b\b\b\b\b\b\b\b\b\b\b\b\b\b\b\b\b\b\b\b\b\b\b\b\b\b\b\b\b\b\b\b\b\b\b\b\b",
            "\r4096/7982 [\u003d\u003d\u003d\u003d\u003d\u003d\u003d\u003d\u003d\u003d\u003d\u003d\u003d\u003d\u003e...............] - ETA: 0s - loss: 0.4587 - categorical_accuracy: 0.9045",
            "\b\b\b\b\b\b\b\b\b\b\b\b\b\b\b\b\b\b\b\b\b\b\b\b\b\b\b\b\b\b\b\b\b\b\b\b\b\b\b\b\b\b\b\b\b\b\b\b\b\b\b\b\b\b\b\b\b\b\b\b\b\b\b\b\b\b\b\b\b\b\b\b\b\b\b\b\b\b\b\b\b\b\b\b\b\b\b\b\b\b\b\b\b\b\b\b\b\b\r4608/7982 [\u003d\u003d\u003d\u003d\u003d\u003d\u003d\u003d\u003d\u003d\u003d\u003d\u003d\u003d\u003d\u003d\u003e.............] - ETA: 0s - loss: 0.4652 - categorical_accuracy: 0.9030",
            "\b\b\b\b\b\b\b\b\b\b\b\b\b\b\b\b\b\b\b\b\b\b\b\b\b\b\b\b\b\b\b\b\b\b\b\b\b\b\b\b\b\b\b\b\b\b\b\b\b\b\b\b\b\b\b\b\b\b\b\b\b\b\b\b\b\b\b\b\b\b\b\b\b\b\b\b\b\b\b\b\b\b\b\b\b\b\b\b\b\b\b\b\b\b\b\b\b\b\r5120/7982 [\u003d\u003d\u003d\u003d\u003d\u003d\u003d\u003d\u003d\u003d\u003d\u003d\u003d\u003d\u003d\u003d\u003d\u003d\u003e...........] - ETA: 0s - loss: 0.4656 - categorical_accuracy: 0.9047",
            "\b\b\b\b\b\b\b\b\b\b\b\b\b\b\b\b\b\b\b\b\b\b\b\b\b\b\b\b\b\b\b\b\b\b\b\b\b\b\b\b\b\b\b\b\b\b\b\b\b\b\b\b\b\b\b\b\b\b\b\b\b\b\b\b\b\b\b\b\b\b\b\b\b\b\b\b\b\b\b\b\b\b\b\b\b\b\b\b\b\b\b\b\b\b\b\b\b\b\r5632/7982 [\u003d\u003d\u003d\u003d\u003d\u003d\u003d\u003d\u003d\u003d\u003d\u003d\u003d\u003d\u003d\u003d\u003d\u003d\u003d\u003d\u003e.........] - ETA: 0s - loss: 0.4680 - categorical_accuracy: 0.9047",
            "\b\b\b\b\b\b\b\b\b\b\b\b\b\b\b\b\b\b\b\b\b\b\b\b\b\b\b\b\b\b\b\b\b\b\b\b\b\b\b\b\b\b\b\b\b\b\b\b\b\b\b\b\b\b\b\b\b\b\b\b\b\b\b\b\b\b\b\b\b\b\b\b\b\b\b\b\b\b\b\b\b\b\b\b\b\b\b\b\b\b\b\b\b\b\b\b\b\b",
            "\r6144/7982 [\u003d\u003d\u003d\u003d\u003d\u003d\u003d\u003d\u003d\u003d\u003d\u003d\u003d\u003d\u003d\u003d\u003d\u003d\u003d\u003d\u003d\u003d\u003e.......] - ETA: 0s - loss: 0.4649 - categorical_accuracy: 0.9046",
            "\b\b\b\b\b\b\b\b\b\b\b\b\b\b\b\b\b\b\b\b\b\b\b\b\b\b\b\b\b\b\b\b\b\b\b\b\b\b\b\b\b\b\b\b\b\b\b\b\b\b\b\b\b\b\b\b\b\b\b\b\b\b\b\b\b\b\b\b\b\b\b\b\b\b\b\b\b\b\b\b\b\b\b\b\b\b\b\b\b\b\b\b\b\b\b\b\b\b",
            "\r6656/7982 [\u003d\u003d\u003d\u003d\u003d\u003d\u003d\u003d\u003d\u003d\u003d\u003d\u003d\u003d\u003d\u003d\u003d\u003d\u003d\u003d\u003d\u003d\u003d\u003d\u003e.....] - ETA: 0s - loss: 0.4652 - categorical_accuracy: 0.9043",
            "\b\b\b\b\b\b\b\b\b\b\b\b\b\b\b\b\b\b\b\b\b\b\b\b\b\b\b\b\b\b\b\b\b\b\b\b\b\b\b\b\b\b\b\b\b\b\b\b\b\b\b\b\b\b\b\b\b\b\b\b\b\b\b\b\b\b\b\b\b\b\b\b\b\b\b\b\b\b\b\b\b\b\b\b\b\b\b\b\b\b\b\b\b\b\b\b\b\b",
            "\r7168/7982 [\u003d\u003d\u003d\u003d\u003d\u003d\u003d\u003d\u003d\u003d\u003d\u003d\u003d\u003d\u003d\u003d\u003d\u003d\u003d\u003d\u003d\u003d\u003d\u003d\u003d\u003e....] - ETA: 0s - loss: 0.4637 - categorical_accuracy: 0.9043",
            "\b\b\b\b\b\b\b\b\b\b\b\b\b\b\b\b\b\b\b\b\b\b\b\b\b\b\b\b\b\b\b\b\b\b\b\b\b\b\b\b\b\b\b\b\b\b\b\b\b\b\b\b\b\b\b\b\b\b\b\b\b\b\b\b\b\b\b\b\b\b\b\b\b\b\b\b\b\b\b\b\b\b\b\b\b\b\b\b\b\b\b\b\b\b\b\b\b\b",
            "\r7680/7982 [\u003d\u003d\u003d\u003d\u003d\u003d\u003d\u003d\u003d\u003d\u003d\u003d\u003d\u003d\u003d\u003d\u003d\u003d\u003d\u003d\u003d\u003d\u003d\u003d\u003d\u003d\u003d\u003e..] - ETA: 0s - loss: 0.4580 - categorical_accuracy: 0.9048",
            "\b\b\b\b\b\b\b\b\b\b\b\b\b\b\b\b\b\b\b\b\b\b\b\b\b\b\b\b\b\b\b\b\b\b\b\b\b\b\b\b\b\b\b\b\b\b\b\b\b\b\b\b\b\b\b\b\b\b\b\b\b\b\b\b\b\b\b\b\b\b\b\b\b\b\b\b\b\b\b\b\b\b\b\b\b\b\b\b\b\b\b\b\b\b\b\b\b\b\r7982/7982 [\u003d\u003d\u003d\u003d\u003d\u003d\u003d\u003d\u003d\u003d\u003d\u003d\u003d\u003d\u003d\u003d\u003d\u003d\u003d\u003d\u003d\u003d\u003d\u003d\u003d\u003d\u003d\u003d\u003d\u003d] - 1s 132us/step - loss: 0.4581 - categorical_accuracy: 0.9048 - val_loss: 0.9083 - val_categorical_accuracy: 0.8020\n",
            "Epoch 8/10\n",
            "\r 512/7982 [\u003e.............................] - ETA: 0s - loss: 0.3967 - categorical_accuracy: 0.9199",
            "\b\b\b\b\b\b\b\b\b\b\b\b\b\b\b\b\b\b\b\b\b\b\b\b\b\b\b\b\b\b\b\b\b\b\b\b\b\b\b\b\b\b\b\b\b\b\b\b\b\b\b\b\b\b\b\b\b\b\b\b\b\b\b\b\b\b\b\b\b\b\b\b\b\b\b\b\b\b\b\b\b\b\b\b\b\b\b\b\b\b\b\b\b\b\b\b\b\b\r1024/7982 [\u003d\u003d\u003e...........................] - ETA: 0s - loss: 0.3959 - categorical_accuracy: 0.9189",
            "\b\b\b\b\b\b\b\b\b\b\b\b\b\b\b\b\b\b\b\b\b\b\b\b\b\b\b\b\b\b\b\b\b\b\b\b\b\b\b\b\b\b\b\b\b\b\b\b\b\b\b\b\b\b\b\b\b\b\b\b\b\b\b\b\b\b\b\b\b\b\b\b\b\b\b\b\b\b\b\b\b\b\b\b\b\b\b\b\b\b\b\b\b\b\b\b\b\b\r1536/7982 [\u003d\u003d\u003d\u003d\u003e.........................] - ETA: 0s - loss: 0.3774 - categorical_accuracy: 0.9219",
            "\b\b\b\b\b\b\b\b\b\b\b\b\b\b\b\b\b\b\b\b\b\b\b\b\b\b\b\b\b\b\b\b\b\b\b\b\b\b\b\b\b\b\b\b\b\b\b\b\b\b\b\b\b\b\b\b\b\b\b\b\b\b\b\b\b\b\b\b\b\b\b\b\b\b\b\b\b\b\b\b\b\b\b\b\b\b\b\b\b\b\b\b\b\b\b\b\b\b\r2048/7982 [\u003d\u003d\u003d\u003d\u003d\u003d\u003e.......................] - ETA: 0s - loss: 0.3787 - categorical_accuracy: 0.9233",
            "\b\b\b\b\b\b\b\b\b\b\b\b\b\b\b\b\b\b\b\b\b\b\b\b\b\b\b\b\b\b\b\b\b\b\b\b\b\b\b\b\b\b\b\b\b\b\b\b\b\b\b\b\b\b\b\b\b\b\b\b\b\b\b\b\b\b\b\b\b\b\b\b\b\b\b\b\b\b\b\b\b\b\b\b\b\b\b\b\b\b\b\b\b\b\b\b\b\b",
            "\r2560/7982 [\u003d\u003d\u003d\u003d\u003d\u003d\u003d\u003d\u003e.....................] - ETA: 0s - loss: 0.3723 - categorical_accuracy: 0.9227",
            "\b\b\b\b\b\b\b\b\b\b\b\b\b\b\b\b\b\b\b\b\b\b\b\b\b\b\b\b\b\b\b\b\b\b\b\b\b\b\b\b\b\b\b\b\b\b\b\b\b\b\b\b\b\b\b\b\b\b\b\b\b\b\b\b\b\b\b\b\b\b\b\b\b\b\b\b\b\b\b\b\b\b\b\b\b\b\b\b\b\b\b\b\b\b\b\b\b\b",
            "\r3072/7982 [\u003d\u003d\u003d\u003d\u003d\u003d\u003d\u003d\u003d\u003d\u003e...................] - ETA: 0s - loss: 0.3740 - categorical_accuracy: 0.9238",
            "\b\b\b\b\b\b\b\b\b\b\b\b\b\b\b\b\b\b\b\b\b\b\b\b\b\b\b\b\b\b\b\b\b\b\b\b\b\b\b\b\b\b\b\b\b\b\b\b\b\b\b\b\b\b\b\b\b\b\b\b\b\b\b\b\b\b\b\b\b\b\b\b\b\b\b\b\b\b\b\b\b\b\b\b\b\b\b\b\b\b\b\b\b\b\b\b\b\b",
            "\r3584/7982 [\u003d\u003d\u003d\u003d\u003d\u003d\u003d\u003d\u003d\u003d\u003d\u003d\u003e.................] - ETA: 0s - loss: 0.3715 - categorical_accuracy: 0.9247",
            "\b\b\b\b\b\b\b\b\b\b\b\b\b\b\b\b\b\b\b\b\b\b\b\b\b\b\b\b\b\b\b\b\b\b\b\b\b\b\b\b\b\b\b\b\b\b\b\b\b\b\b\b\b\b\b\b\b\b\b\b\b\b\b\b\b\b\b\b\b\b\b\b\b\b\b\b\b\b\b\b\b\b\b\b\b\b\b\b\b\b\b\b\b\b\b\b\b\b",
            "\r4096/7982 [\u003d\u003d\u003d\u003d\u003d\u003d\u003d\u003d\u003d\u003d\u003d\u003d\u003d\u003d\u003e...............] - ETA: 0s - loss: 0.3667 - categorical_accuracy: 0.9260",
            "\b\b\b\b\b\b\b\b\b\b\b\b\b\b\b\b\b\b\b\b\b\b\b\b\b\b\b\b\b\b\b\b\b\b\b\b\b\b\b\b\b\b\b\b\b\b\b\b\b\b\b\b\b\b\b\b\b\b\b\b\b\b\b\b\b\b\b\b\b\b\b\b\b\b\b\b\b\b\b\b\b\b\b\b\b\b\b\b\b\b\b\b\b\b\b\b\b\b",
            "\r4608/7982 [\u003d\u003d\u003d\u003d\u003d\u003d\u003d\u003d\u003d\u003d\u003d\u003d\u003d\u003d\u003d\u003d\u003e.............] - ETA: 0s - loss: 0.3675 - categorical_accuracy: 0.9243",
            "\b\b\b\b\b\b\b\b\b\b\b\b\b\b\b\b\b\b\b\b\b\b\b\b\b\b\b\b\b\b\b\b\b\b\b\b\b\b\b\b\b\b\b\b\b\b\b\b\b\b\b\b\b\b\b\b\b\b\b\b\b\b\b\b\b\b\b\b\b\b\b\b\b\b\b\b\b\b\b\b\b\b\b\b\b\b\b\b\b\b\b\b\b\b\b\b\b\b\r5120/7982 [\u003d\u003d\u003d\u003d\u003d\u003d\u003d\u003d\u003d\u003d\u003d\u003d\u003d\u003d\u003d\u003d\u003d\u003d\u003e...........] - ETA: 0s - loss: 0.3717 - categorical_accuracy: 0.9242",
            "\b\b\b\b\b\b\b\b\b\b\b\b\b\b\b\b\b\b\b\b\b\b\b\b\b\b\b\b\b\b\b\b\b\b\b\b\b\b\b\b\b\b\b\b\b\b\b\b\b\b\b\b\b\b\b\b\b\b\b\b\b\b\b\b\b\b\b\b\b\b\b\b\b\b\b\b\b\b\b\b\b\b\b\b\b\b\b\b\b\b\b\b\b\b\b\b\b\b\r5632/7982 [\u003d\u003d\u003d\u003d\u003d\u003d\u003d\u003d\u003d\u003d\u003d\u003d\u003d\u003d\u003d\u003d\u003d\u003d\u003d\u003d\u003e.........] - ETA: 0s - loss: 0.3673 - categorical_accuracy: 0.9251",
            "\b\b\b\b\b\b\b\b\b\b\b\b\b\b\b\b\b\b\b\b\b\b\b\b\b\b\b\b\b\b\b\b\b\b\b\b\b\b\b\b\b\b\b\b\b\b\b\b\b\b\b\b\b\b\b\b\b\b\b\b\b\b\b\b\b\b\b\b\b\b\b\b\b\b\b\b\b\b\b\b\b\b\b\b\b\b\b\b\b\b\b\b\b\b\b\b\b\b\r6144/7982 [\u003d\u003d\u003d\u003d\u003d\u003d\u003d\u003d\u003d\u003d\u003d\u003d\u003d\u003d\u003d\u003d\u003d\u003d\u003d\u003d\u003d\u003d\u003e.......] - ETA: 0s - loss: 0.3701 - categorical_accuracy: 0.9240",
            "\b\b\b\b\b\b\b\b\b\b\b\b\b\b\b\b\b\b\b\b\b\b\b\b\b\b\b\b\b\b\b\b\b\b\b\b\b\b\b\b\b\b\b\b\b\b\b\b\b\b\b\b\b\b\b\b\b\b\b\b\b\b\b\b\b\b\b\b\b\b\b\b\b\b\b\b\b\b\b\b\b\b\b\b\b\b\b\b\b\b\b\b\b\b\b\b\b\b",
            "\r6656/7982 [\u003d\u003d\u003d\u003d\u003d\u003d\u003d\u003d\u003d\u003d\u003d\u003d\u003d\u003d\u003d\u003d\u003d\u003d\u003d\u003d\u003d\u003d\u003d\u003d\u003e.....] - ETA: 0s - loss: 0.3679 - categorical_accuracy: 0.9247",
            "\b\b\b\b\b\b\b\b\b\b\b\b\b\b\b\b\b\b\b\b\b\b\b\b\b\b\b\b\b\b\b\b\b\b\b\b\b\b\b\b\b\b\b\b\b\b\b\b\b\b\b\b\b\b\b\b\b\b\b\b\b\b\b\b\b\b\b\b\b\b\b\b\b\b\b\b\b\b\b\b\b\b\b\b\b\b\b\b\b\b\b\b\b\b\b\b\b\b",
            "\r7168/7982 [\u003d\u003d\u003d\u003d\u003d\u003d\u003d\u003d\u003d\u003d\u003d\u003d\u003d\u003d\u003d\u003d\u003d\u003d\u003d\u003d\u003d\u003d\u003d\u003d\u003d\u003e....] - ETA: 0s - loss: 0.3665 - categorical_accuracy: 0.9252",
            "\b\b\b\b\b\b\b\b\b\b\b\b\b\b\b\b\b\b\b\b\b\b\b\b\b\b\b\b\b\b\b\b\b\b\b\b\b\b\b\b\b\b\b\b\b\b\b\b\b\b\b\b\b\b\b\b\b\b\b\b\b\b\b\b\b\b\b\b\b\b\b\b\b\b\b\b\b\b\b\b\b\b\b\b\b\b\b\b\b\b\b\b\b\b\b\b\b\b\r7680/7982 [\u003d\u003d\u003d\u003d\u003d\u003d\u003d\u003d\u003d\u003d\u003d\u003d\u003d\u003d\u003d\u003d\u003d\u003d\u003d\u003d\u003d\u003d\u003d\u003d\u003d\u003d\u003d\u003e..] - ETA: 0s - loss: 0.3676 - categorical_accuracy: 0.9242",
            "\b\b\b\b\b\b\b\b\b\b\b\b\b\b\b\b\b\b\b\b\b\b\b\b\b\b\b\b\b\b\b\b\b\b\b\b\b\b\b\b\b\b\b\b\b\b\b\b\b\b\b\b\b\b\b\b\b\b\b\b\b\b\b\b\b\b\b\b\b\b\b\b\b\b\b\b\b\b\b\b\b\b\b\b\b\b\b\b\b\b\b\b\b\b\b\b\b\b",
            "\r7982/7982 [\u003d\u003d\u003d\u003d\u003d\u003d\u003d\u003d\u003d\u003d\u003d\u003d\u003d\u003d\u003d\u003d\u003d\u003d\u003d\u003d\u003d\u003d\u003d\u003d\u003d\u003d\u003d\u003d\u003d\u003d] - 1s 129us/step - loss: 0.3695 - categorical_accuracy: 0.9231 - val_loss: 0.9363 - val_categorical_accuracy: 0.7890\n",
            "Epoch 9/10\n",
            "\r 512/7982 [\u003e.............................] - ETA: 0s - loss: 0.3203 - categorical_accuracy: 0.9180",
            "\b\b\b\b\b\b\b\b\b\b\b\b\b\b\b\b\b\b\b\b\b\b\b\b\b\b\b\b\b\b\b\b\b\b\b\b\b\b\b\b\b\b\b\b\b\b\b\b\b\b\b\b\b\b\b\b\b\b\b\b\b\b\b\b\b\b\b\b\b\b\b\b\b\b\b\b\b\b\b\b\b\b\b\b\b\b\b\b\b\b\b\b\b\b\b\b\b\b\r1024/7982 [\u003d\u003d\u003e...........................] - ETA: 0s - loss: 0.2939 - categorical_accuracy: 0.9326",
            "\b\b\b\b\b\b\b\b\b\b\b\b\b\b\b\b\b\b\b\b\b\b\b\b\b\b\b\b\b\b\b\b\b\b\b\b\b\b\b\b\b\b\b\b\b\b\b\b\b\b\b\b\b\b\b\b\b\b\b\b\b\b\b\b\b\b\b\b\b\b\b\b\b\b\b\b\b\b\b\b\b\b\b\b\b\b\b\b\b\b\b\b\b\b\b\b\b\b\r1536/7982 [\u003d\u003d\u003d\u003d\u003e.........................] - ETA: 0s - loss: 0.2962 - categorical_accuracy: 0.9329",
            "\b\b\b\b\b\b\b\b\b\b\b\b\b\b\b\b\b\b\b\b\b\b\b\b\b\b\b\b\b\b\b\b\b\b\b\b\b\b\b\b\b\b\b\b\b\b\b\b\b\b\b\b\b\b\b\b\b\b\b\b\b\b\b\b\b\b\b\b\b\b\b\b\b\b\b\b\b\b\b\b\b\b\b\b\b\b\b\b\b\b\b\b\b\b\b\b\b\b\r2048/7982 [\u003d\u003d\u003d\u003d\u003d\u003d\u003e.......................] - ETA: 0s - loss: 0.2824 - categorical_accuracy: 0.9380",
            "\b\b\b\b\b\b\b\b\b\b\b\b\b\b\b\b\b\b\b\b\b\b\b\b\b\b\b\b\b\b\b\b\b\b\b\b\b\b\b\b\b\b\b\b\b\b\b\b\b\b\b\b\b\b\b\b\b\b\b\b\b\b\b\b\b\b\b\b\b\b\b\b\b\b\b\b\b\b\b\b\b\b\b\b\b\b\b\b\b\b\b\b\b\b\b\b\b\b\r2560/7982 [\u003d\u003d\u003d\u003d\u003d\u003d\u003d\u003d\u003e.....................] - ETA: 0s - loss: 0.2834 - categorical_accuracy: 0.9359",
            "\b\b\b\b\b\b\b\b\b\b\b\b\b\b\b\b\b\b\b\b\b\b\b\b\b\b\b\b\b\b\b\b\b\b\b\b\b\b\b\b\b\b\b\b\b\b\b\b\b\b\b\b\b\b\b\b\b\b\b\b\b\b\b\b\b\b\b\b\b\b\b\b\b\b\b\b\b\b\b\b\b\b\b\b\b\b\b\b\b\b\b\b\b\b\b\b\b\b",
            "\r3072/7982 [\u003d\u003d\u003d\u003d\u003d\u003d\u003d\u003d\u003d\u003d\u003e...................] - ETA: 0s - loss: 0.2904 - categorical_accuracy: 0.9346",
            "\b\b\b\b\b\b\b\b\b\b\b\b\b\b\b\b\b\b\b\b\b\b\b\b\b\b\b\b\b\b\b\b\b\b\b\b\b\b\b\b\b\b\b\b\b\b\b\b\b\b\b\b\b\b\b\b\b\b\b\b\b\b\b\b\b\b\b\b\b\b\b\b\b\b\b\b\b\b\b\b\b\b\b\b\b\b\b\b\b\b\b\b\b\b\b\b\b\b",
            "\r3584/7982 [\u003d\u003d\u003d\u003d\u003d\u003d\u003d\u003d\u003d\u003d\u003d\u003d\u003e.................] - ETA: 0s - loss: 0.2963 - categorical_accuracy: 0.9328",
            "\b\b\b\b\b\b\b\b\b\b\b\b\b\b\b\b\b\b\b\b\b\b\b\b\b\b\b\b\b\b\b\b\b\b\b\b\b\b\b\b\b\b\b\b\b\b\b\b\b\b\b\b\b\b\b\b\b\b\b\b\b\b\b\b\b\b\b\b\b\b\b\b\b\b\b\b\b\b\b\b\b\b\b\b\b\b\b\b\b\b\b\b\b\b\b\b\b\b\r4096/7982 [\u003d\u003d\u003d\u003d\u003d\u003d\u003d\u003d\u003d\u003d\u003d\u003d\u003d\u003d\u003e...............] - ETA: 0s - loss: 0.3033 - categorical_accuracy: 0.9329",
            "\b\b\b\b\b\b\b\b\b\b\b\b\b\b\b\b\b\b\b\b\b\b\b\b\b\b\b\b\b\b\b\b\b\b\b\b\b\b\b\b\b\b\b\b\b\b\b\b\b\b\b\b\b\b\b\b\b\b\b\b\b\b\b\b\b\b\b\b\b\b\b\b\b\b\b\b\b\b\b\b\b\b\b\b\b\b\b\b\b\b\b\b\b\b\b\b\b\b\r4608/7982 [\u003d\u003d\u003d\u003d\u003d\u003d\u003d\u003d\u003d\u003d\u003d\u003d\u003d\u003d\u003d\u003d\u003e.............] - ETA: 0s - loss: 0.3017 - categorical_accuracy: 0.9329",
            "\b\b\b\b\b\b\b\b\b\b\b\b\b\b\b\b\b\b\b\b\b\b\b\b\b\b\b\b\b\b\b\b\b\b\b\b\b\b\b\b\b\b\b\b\b\b\b\b\b\b\b\b\b\b\b\b\b\b\b\b\b\b\b\b\b\b\b\b\b\b\b\b\b\b\b\b\b\b\b\b\b\b\b\b\b\b\b\b\b\b\b\b\b\b\b\b\b\b\r5120/7982 [\u003d\u003d\u003d\u003d\u003d\u003d\u003d\u003d\u003d\u003d\u003d\u003d\u003d\u003d\u003d\u003d\u003d\u003d\u003e...........] - ETA: 0s - loss: 0.2996 - categorical_accuracy: 0.9332",
            "\b\b\b\b\b\b\b\b\b\b\b\b\b\b\b\b\b\b\b\b\b\b\b\b\b\b\b\b\b\b\b\b\b\b\b\b\b\b\b\b\b\b\b\b\b\b\b\b\b\b\b\b\b\b\b\b\b\b\b\b\b\b\b\b\b\b\b\b\b\b\b\b\b\b\b\b\b\b\b\b\b\b\b\b\b\b\b\b\b\b\b\b\b\b\b\b\b\b\r5632/7982 [\u003d\u003d\u003d\u003d\u003d\u003d\u003d\u003d\u003d\u003d\u003d\u003d\u003d\u003d\u003d\u003d\u003d\u003d\u003d\u003d\u003e.........] - ETA: 0s - loss: 0.2989 - categorical_accuracy: 0.9334",
            "\b\b\b\b\b\b\b\b\b\b\b\b\b\b\b\b\b\b\b\b\b\b\b\b\b\b\b\b\b\b\b\b\b\b\b\b\b\b\b\b\b\b\b\b\b\b\b\b\b\b\b\b\b\b\b\b\b\b\b\b\b\b\b\b\b\b\b\b\b\b\b\b\b\b\b\b\b\b\b\b\b\b\b\b\b\b\b\b\b\b\b\b\b\b\b\b\b\b\r6144/7982 [\u003d\u003d\u003d\u003d\u003d\u003d\u003d\u003d\u003d\u003d\u003d\u003d\u003d\u003d\u003d\u003d\u003d\u003d\u003d\u003d\u003d\u003d\u003e.......] - ETA: 0s - loss: 0.3045 - categorical_accuracy: 0.9315",
            "\b\b\b\b\b\b\b\b\b\b\b\b\b\b\b\b\b\b\b\b\b\b\b\b\b\b\b\b\b\b\b\b\b\b\b\b\b\b\b\b\b\b\b\b\b\b\b\b\b\b\b\b\b\b\b\b\b\b\b\b\b\b\b\b\b\b\b\b\b\b\b\b\b\b\b\b\b\b\b\b\b\b\b\b\b\b\b\b\b\b\b\b\b\b\b\b\b\b",
            "\r6656/7982 [\u003d\u003d\u003d\u003d\u003d\u003d\u003d\u003d\u003d\u003d\u003d\u003d\u003d\u003d\u003d\u003d\u003d\u003d\u003d\u003d\u003d\u003d\u003d\u003d\u003e.....] - ETA: 0s - loss: 0.3065 - categorical_accuracy: 0.9306",
            "\b\b\b\b\b\b\b\b\b\b\b\b\b\b\b\b\b\b\b\b\b\b\b\b\b\b\b\b\b\b\b\b\b\b\b\b\b\b\b\b\b\b\b\b\b\b\b\b\b\b\b\b\b\b\b\b\b\b\b\b\b\b\b\b\b\b\b\b\b\b\b\b\b\b\b\b\b\b\b\b\b\b\b\b\b\b\b\b\b\b\b\b\b\b\b\b\b\b",
            "\r7168/7982 [\u003d\u003d\u003d\u003d\u003d\u003d\u003d\u003d\u003d\u003d\u003d\u003d\u003d\u003d\u003d\u003d\u003d\u003d\u003d\u003d\u003d\u003d\u003d\u003d\u003d\u003e....] - ETA: 0s - loss: 0.3056 - categorical_accuracy: 0.9314",
            "\b\b\b\b\b\b\b\b\b\b\b\b\b\b\b\b\b\b\b\b\b\b\b\b\b\b\b\b\b\b\b\b\b\b\b\b\b\b\b\b\b\b\b\b\b\b\b\b\b\b\b\b\b\b\b\b\b\b\b\b\b\b\b\b\b\b\b\b\b\b\b\b\b\b\b\b\b\b\b\b\b\b\b\b\b\b\b\b\b\b\b\b\b\b\b\b\b\b\r7680/7982 [\u003d\u003d\u003d\u003d\u003d\u003d\u003d\u003d\u003d\u003d\u003d\u003d\u003d\u003d\u003d\u003d\u003d\u003d\u003d\u003d\u003d\u003d\u003d\u003d\u003d\u003d\u003d\u003e..] - ETA: 0s - loss: 0.3028 - categorical_accuracy: 0.9320",
            "\b\b\b\b\b\b\b\b\b\b\b\b\b\b\b\b\b\b\b\b\b\b\b\b\b\b\b\b\b\b\b\b\b\b\b\b\b\b\b\b\b\b\b\b\b\b\b\b\b\b\b\b\b\b\b\b\b\b\b\b\b\b\b\b\b\b\b\b\b\b\b\b\b\b\b\b\b\b\b\b\b\b\b\b\b\b\b\b\b\b\b\b\b\b\b\b\b\b",
            "\r7982/7982 [\u003d\u003d\u003d\u003d\u003d\u003d\u003d\u003d\u003d\u003d\u003d\u003d\u003d\u003d\u003d\u003d\u003d\u003d\u003d\u003d\u003d\u003d\u003d\u003d\u003d\u003d\u003d\u003d\u003d\u003d] - 1s 127us/step - loss: 0.3032 - categorical_accuracy: 0.9315 - val_loss: 0.8917 - val_categorical_accuracy: 0.8090\n",
            "Epoch 10/10\n",
            "\r 512/7982 [\u003e.............................] - ETA: 0s - loss: 0.2198 - categorical_accuracy: 0.9531",
            "\b\b\b\b\b\b\b\b\b\b\b\b\b\b\b\b\b\b\b\b\b\b\b\b\b\b\b\b\b\b\b\b\b\b\b\b\b\b\b\b\b\b\b\b\b\b\b\b\b\b\b\b\b\b\b\b\b\b\b\b\b\b\b\b\b\b\b\b\b\b\b\b\b\b\b\b\b\b\b\b\b\b\b\b\b\b\b\b\b\b\b\b\b\b\b\b\b\b\r1024/7982 [\u003d\u003d\u003e...........................] - ETA: 0s - loss: 0.2078 - categorical_accuracy: 0.9590",
            "\b\b\b\b\b\b\b\b\b\b\b\b\b\b\b\b\b\b\b\b\b\b\b\b\b\b\b\b\b\b\b\b\b\b\b\b\b\b\b\b\b\b\b\b\b\b\b\b\b\b\b\b\b\b\b\b\b\b\b\b\b\b\b\b\b\b\b\b\b\b\b\b\b\b\b\b\b\b\b\b\b\b\b\b\b\b\b\b\b\b\b\b\b\b\b\b\b\b",
            "\r1536/7982 [\u003d\u003d\u003d\u003d\u003e.........................] - ETA: 0s - loss: 0.2250 - categorical_accuracy: 0.9492",
            "\b\b\b\b\b\b\b\b\b\b\b\b\b\b\b\b\b\b\b\b\b\b\b\b\b\b\b\b\b\b\b\b\b\b\b\b\b\b\b\b\b\b\b\b\b\b\b\b\b\b\b\b\b\b\b\b\b\b\b\b\b\b\b\b\b\b\b\b\b\b\b\b\b\b\b\b\b\b\b\b\b\b\b\b\b\b\b\b\b\b\b\b\b\b\b\b\b\b\r2048/7982 [\u003d\u003d\u003d\u003d\u003d\u003d\u003e.......................] - ETA: 0s - loss: 0.2482 - categorical_accuracy: 0.9414",
            "\b\b\b\b\b\b\b\b\b\b\b\b\b\b\b\b\b\b\b\b\b\b\b\b\b\b\b\b\b\b\b\b\b\b\b\b\b\b\b\b\b\b\b\b\b\b\b\b\b\b\b\b\b\b\b\b\b\b\b\b\b\b\b\b\b\b\b\b\b\b\b\b\b\b\b\b\b\b\b\b\b\b\b\b\b\b\b\b\b\b\b\b\b\b\b\b\b\b",
            "\r2560/7982 [\u003d\u003d\u003d\u003d\u003d\u003d\u003d\u003d\u003e.....................] - ETA: 0s - loss: 0.2498 - categorical_accuracy: 0.9402",
            "\b\b\b\b\b\b\b\b\b\b\b\b\b\b\b\b\b\b\b\b\b\b\b\b\b\b\b\b\b\b\b\b\b\b\b\b\b\b\b\b\b\b\b\b\b\b\b\b\b\b\b\b\b\b\b\b\b\b\b\b\b\b\b\b\b\b\b\b\b\b\b\b\b\b\b\b\b\b\b\b\b\b\b\b\b\b\b\b\b\b\b\b\b\b\b\b\b\b\r3072/7982 [\u003d\u003d\u003d\u003d\u003d\u003d\u003d\u003d\u003d\u003d\u003e...................] - ETA: 0s - loss: 0.2553 - categorical_accuracy: 0.9395",
            "\b\b\b\b\b\b\b\b\b\b\b\b\b\b\b\b\b\b\b\b\b\b\b\b\b\b\b\b\b\b\b\b\b\b\b\b\b\b\b\b\b\b\b\b\b\b\b\b\b\b\b\b\b\b\b\b\b\b\b\b\b\b\b\b\b\b\b\b\b\b\b\b\b\b\b\b\b\b\b\b\b\b\b\b\b\b\b\b\b\b\b\b\b\b\b\b\b\b",
            "\r3584/7982 [\u003d\u003d\u003d\u003d\u003d\u003d\u003d\u003d\u003d\u003d\u003d\u003d\u003e.................] - ETA: 0s - loss: 0.2523 - categorical_accuracy: 0.9400",
            "\b\b\b\b\b\b\b\b\b\b\b\b\b\b\b\b\b\b\b\b\b\b\b\b\b\b\b\b\b\b\b\b\b\b\b\b\b\b\b\b\b\b\b\b\b\b\b\b\b\b\b\b\b\b\b\b\b\b\b\b\b\b\b\b\b\b\b\b\b\b\b\b\b\b\b\b\b\b\b\b\b\b\b\b\b\b\b\b\b\b\b\b\b\b\b\b\b\b\r4096/7982 [\u003d\u003d\u003d\u003d\u003d\u003d\u003d\u003d\u003d\u003d\u003d\u003d\u003d\u003d\u003e...............] - ETA: 0s - loss: 0.2549 - categorical_accuracy: 0.9402",
            "\b\b\b\b\b\b\b\b\b\b\b\b\b\b\b\b\b\b\b\b\b\b\b\b\b\b\b\b\b\b\b\b\b\b\b\b\b\b\b\b\b\b\b\b\b\b\b\b\b\b\b\b\b\b\b\b\b\b\b\b\b\b\b\b\b\b\b\b\b\b\b\b\b\b\b\b\b\b\b\b\b\b\b\b\b\b\b\b\b\b\b\b\b\b\b\b\b\b",
            "\r4608/7982 [\u003d\u003d\u003d\u003d\u003d\u003d\u003d\u003d\u003d\u003d\u003d\u003d\u003d\u003d\u003d\u003d\u003e.............] - ETA: 0s - loss: 0.2540 - categorical_accuracy: 0.9410",
            "\b\b\b\b\b\b\b\b\b\b\b\b\b\b\b\b\b\b\b\b\b\b\b\b\b\b\b\b\b\b\b\b\b\b\b\b\b\b\b\b\b\b\b\b\b\b\b\b\b\b\b\b\b\b\b\b\b\b\b\b\b\b\b\b\b\b\b\b\b\b\b\b\b\b\b\b\b\b\b\b\b\b\b\b\b\b\b\b\b\b\b\b\b\b\b\b\b\b\r5120/7982 [\u003d\u003d\u003d\u003d\u003d\u003d\u003d\u003d\u003d\u003d\u003d\u003d\u003d\u003d\u003d\u003d\u003d\u003d\u003e...........] - ETA: 0s - loss: 0.2498 - categorical_accuracy: 0.9416",
            "\b\b\b\b\b\b\b\b\b\b\b\b\b\b\b\b\b\b\b\b\b\b\b\b\b\b\b\b\b\b\b\b\b\b\b\b\b\b\b\b\b\b\b\b\b\b\b\b\b\b\b\b\b\b\b\b\b\b\b\b\b\b\b\b\b\b\b\b\b\b\b\b\b\b\b\b\b\b\b\b\b\b\b\b\b\b\b\b\b\b\b\b\b\b\b\b\b\b\r5632/7982 [\u003d\u003d\u003d\u003d\u003d\u003d\u003d\u003d\u003d\u003d\u003d\u003d\u003d\u003d\u003d\u003d\u003d\u003d\u003d\u003d\u003e.........] - ETA: 0s - loss: 0.2481 - categorical_accuracy: 0.9426",
            "\b\b\b\b\b\b\b\b\b\b\b\b\b\b\b\b\b\b\b\b\b\b\b\b\b\b\b\b\b\b\b\b\b\b\b\b\b\b\b\b\b\b\b\b\b\b\b\b\b\b\b\b\b\b\b\b\b\b\b\b\b\b\b\b\b\b\b\b\b\b\b\b\b\b\b\b\b\b\b\b\b\b\b\b\b\b\b\b\b\b\b\b\b\b\b\b\b\b\r6144/7982 [\u003d\u003d\u003d\u003d\u003d\u003d\u003d\u003d\u003d\u003d\u003d\u003d\u003d\u003d\u003d\u003d\u003d\u003d\u003d\u003d\u003d\u003d\u003e.......] - ETA: 0s - loss: 0.2463 - categorical_accuracy: 0.9425",
            "\b\b\b\b\b\b\b\b\b\b\b\b\b\b\b\b\b\b\b\b\b\b\b\b\b\b\b\b\b\b\b\b\b\b\b\b\b\b\b\b\b\b\b\b\b\b\b\b\b\b\b\b\b\b\b\b\b\b\b\b\b\b\b\b\b\b\b\b\b\b\b\b\b\b\b\b\b\b\b\b\b\b\b\b\b\b\b\b\b\b\b\b\b\b\b\b\b\b",
            "\r6656/7982 [\u003d\u003d\u003d\u003d\u003d\u003d\u003d\u003d\u003d\u003d\u003d\u003d\u003d\u003d\u003d\u003d\u003d\u003d\u003d\u003d\u003d\u003d\u003d\u003d\u003e.....] - ETA: 0s - loss: 0.2505 - categorical_accuracy: 0.9413",
            "\b\b\b\b\b\b\b\b\b\b\b\b\b\b\b\b\b\b\b\b\b\b\b\b\b\b\b\b\b\b\b\b\b\b\b\b\b\b\b\b\b\b\b\b\b\b\b\b\b\b\b\b\b\b\b\b\b\b\b\b\b\b\b\b\b\b\b\b\b\b\b\b\b\b\b\b\b\b\b\b\b\b\b\b\b\b\b\b\b\b\b\b\b\b\b\b\b\b\r7168/7982 [\u003d\u003d\u003d\u003d\u003d\u003d\u003d\u003d\u003d\u003d\u003d\u003d\u003d\u003d\u003d\u003d\u003d\u003d\u003d\u003d\u003d\u003d\u003d\u003d\u003d\u003e....] - ETA: 0s - loss: 0.2534 - categorical_accuracy: 0.9408",
            "\b\b\b\b\b\b\b\b\b\b\b\b\b\b\b\b\b\b\b\b\b\b\b\b\b\b\b\b\b\b\b\b\b\b\b\b\b\b\b\b\b\b\b\b\b\b\b\b\b\b\b\b\b\b\b\b\b\b\b\b\b\b\b\b\b\b\b\b\b\b\b\b\b\b\b\b\b\b\b\b\b\b\b\b\b\b\b\b\b\b\b\b\b\b\b\b\b\b\r7680/7982 [\u003d\u003d\u003d\u003d\u003d\u003d\u003d\u003d\u003d\u003d\u003d\u003d\u003d\u003d\u003d\u003d\u003d\u003d\u003d\u003d\u003d\u003d\u003d\u003d\u003d\u003d\u003d\u003e..] - ETA: 0s - loss: 0.2540 - categorical_accuracy: 0.9410",
            "\b\b\b\b\b\b\b\b\b\b\b\b\b\b\b\b\b\b\b\b\b\b\b\b\b\b\b\b\b\b\b\b\b\b\b\b\b\b\b\b\b\b\b\b\b\b\b\b\b\b\b\b\b\b\b\b\b\b\b\b\b\b\b\b\b\b\b\b\b\b\b\b\b\b\b\b\b\b\b\b\b\b\b\b\b\b\b\b\b\b\b\b\b\b\b\b\b\b\r7982/7982 [\u003d\u003d\u003d\u003d\u003d\u003d\u003d\u003d\u003d\u003d\u003d\u003d\u003d\u003d\u003d\u003d\u003d\u003d\u003d\u003d\u003d\u003d\u003d\u003d\u003d\u003d\u003d\u003d\u003d\u003d] - 1s 128us/step - loss: 0.2537 - categorical_accuracy: 0.9414 - val_loss: 0.9071 - val_categorical_accuracy: 0.8110\n"
          ],
          "output_type": "stream"
        }
      ],
      "source": "# create validation set\nx_val \u003d x_train[:1000]\npartial_x_train \u003d x_train[1000:]\ny_val \u003d one_hot_train_labels[:1000]\npartial_y_train \u003d one_hot_train_labels[1000:]\n\n# train network\nhistory \u003d model.fit(partial_x_train,\n                    partial_y_train,\n                    epochs\u003d10,\n                    batch_size\u003d512,\n                    validation_data\u003d(x_val, y_val))",
      "metadata": {
        "pycharm": {
          "metadata": false,
          "name": "#%%\n",
          "is_executing": false
        }
      }
    },
    {
      "cell_type": "markdown",
      "source": "#### Visualize Training Results",
      "metadata": {
        "pycharm": {
          "metadata": false,
          "name": "#%% md\n"
        }
      }
    },
    {
      "cell_type": "code",
      "execution_count": 8,
      "outputs": [
        {
          "data": {
            "text/plain": "\u003cFigure size 432x288 with 1 Axes\u003e",
            "image/png": "iVBORw0KGgoAAAANSUhEUgAAAYIAAAEWCAYAAABrDZDcAAAABHNCSVQICAgIfAhkiAAAAAlwSFlzAAALEgAACxIB0t1+/AAAADh0RVh0U29mdHdhcmUAbWF0cGxvdGxpYiB2ZXJzaW9uMy4xLjAsIGh0dHA6Ly9tYXRwbG90bGliLm9yZy+17YcXAAAgAElEQVR4nO3deZgU1bnH8e/Lvi+yuAAyuFxlcYDJBCEgoOYad+MugltMULO4Jbly3TXhxqhRAnpVkkhMmIDGXWKCiRKRJGIAWQT0orKNIJuy4zLw3j9OzUwz9GwwPdVD/T7PU093V1VXvdNo//rUqTpl7o6IiCRXvbgLEBGReCkIREQSTkEgIpJwCgIRkYRTEIiIJJyCQEQk4RQEUiPMrL6ZbTWzQ2ty3TiZ2RFmlpHzq8tu28xeMbPhmajDzG4zs0f39v2y/1MQJFT0RVw87TKzHSmv034hVcTdd7p7C3dfUZPrZisze9XMbk8z/1wz+8jMqvX/lruf5O4FNVDX181sWZlt/8Tdr97XbafZ17fN7O81vV2pfQqChIq+iFu4ewtgBXBGyrw9vpDMrEHtV5nVfgtckmb+JcBEd99Vu+WI7D0FgaRlZj81syfNbJKZbQFGmNkAM3vTzDaa2WozG2tmDaP1G5iZm1lO9HpitPzPZrbFzP5lZt2qu260/BQz+z8z22Rm48zsH2Z2eTl1V6XGq8zsfTP71MzGpry3vpk9aGYbzOwD4OQKPqJngYPM7Gsp728HnAr8Lnp9ppnNjf6mFWZ2WwWf94ziv6myOqJf4ouj7X5gZt+O5rcGXgIOTWnddYz+LX+b8v5vmtnC6DN6zcyOSllWaGY3mtmC6POeZGaNK/gcyvt7OpvZFDP7xMyWmNm3Upb1N7M5ZrbZzNaY2X3R/GZm9ofo795oZm+ZWfvq7luqT0EgFTkb+APQGngSKAKuA9oDAwlfUFdV8P6LgduAAwitjp9Ud10z6wg8Bfw42u9SoF8F26lKjacCXwH6EgLu69H8a4CTgN7RPi4obyfuvg14Grg0ZfZFwHx3Xxi93gqMIHx+ZwDXmdnpFdRerLI61gCnAa2A7wDjzCzX3TdF+1mR0rpbm/pGM+sOTAR+AHQA/ga8VByWkQuA/wQOI3xO6Vo+lXmS8G91CHAhcK+ZDYmWjQPuc/dWwBGEzxHgCqAZ0BloB3wX+Gwv9i3VpCCQisxw95fcfZe773D3f7v7THcvcvcPgfHAkAre/7S7z3L3L4ECoM9erHs6MNfdX4iWPQisL28jVazxZ+6+yd2XAX9P2dcFwIPuXujuG4B7KqgX4AnggpRfzJdG84prec3d34k+v3nA5DS1pFNhHdG/yYcevAa8ChxXhe1CCKsXo9q+jLbdCjg2ZZ0x7v5xtO8pVPzvtoeoNdcPGOXun7n7HGACpYHyJXCkmbVz9y3uPjNlfnvgiKgfaZa7b63OvmXvKAikIitTX5jZ0Wb2JzP72Mw2A3cT/sctz8cpz7cDLfZi3UNS6/AwSmJheRupYo1V2hewvIJ6AV4HNgFnmNl/EFoYk1JqGWBmfzezdWa2Cfh2mlrSqbAOMzvdzGZGh102EloPVT2Eckjq9qK+jEKgU8o61fl3K28f66NWU7HlKfu4AugBvBcd/jk1mv9bQgvlKQsd7veY+qZqhYJAKlL2lMXHgHcIv9haAbcDluEaVhMOFQBgZsbuX1pl7UuNq4EuKa8rPL01CqXfE1oClwAvu3tqa2Uy8AzQxd1bA7+uYi3l1mFmTQmHUn4GHOjubYBXUrZb2Wmmq4CuKdurR/h8P6pCXVW1CmhvZs1T5h1avA93f8/dLwI6Ar8AnjGzJu7+hbvf6e7dgUGEQ5PVPoNNqk9BINXRkvALeFt0rLmi/oGaMgXIM7Mzol+H1xGObWeixqeA682sU9Txe1MV3vMEoR/iW6QcFkqp5RN3/8zM+hMOy+xrHY2BRsA6YGfU53BiyvI1hC/hlhVs+0wzGxr1C/wY2ALMLGf9ytQzsyapk7svBWYB/2Nmjc2sD6EVUABgZpeYWfuoNbKJEF67zOwEM+sVhdNmwqGinXtZl1SDgkCq44fAZYQvjscIHYIZ5e5rCJ2NDwAbgMOBt4HPM1DjI4Tj7QuAf1PaiVlRfR8AbwFNgD+VWXwN8DMLZ13dTPgS3qc63H0jcAPwHPAJcB4hLIuXv0NohSyLzrzpWKbehYTP5xFCmJwMnBn1F+yN44AdZSYI/2ZHEg4zPQ3c7O7TomWnAoujz+V+4EJ3/4JwSOlZQggsJBwmKjnUJpljujGN1CVmVp9w6OE8d38j7npE9gdqEUjWM7OTzax1dHbObYRTRN+KuSyR/YaCQOqCQcCHhNNGTwa+6e7lHRoSkWrSoSERkYRTi0BEJOHq3MUa7du395ycnLjLEBGpU2bPnr3e3dOeel3ngiAnJ4dZs2bFXYaISJ1iZuVeKa9DQyIiCacgEBFJOAWBiEjC1bk+AhGpXV9++SWFhYV89pluDVAXNGnShM6dO9OwYcPKV44oCESkQoWFhbRs2ZKcnBzC4K+SrdydDRs2UFhYSLdu3Sp/QyQRh4YKCiAnB+rVC48F+3yLcJHk+Oyzz2jXrp1CoA4wM9q1a1ft1tt+3yIoKICRI2H79vB6+fLwGmC4RjoXqRKFQN2xN/9W+32L4JZbSkOg2PbtYb6IiGQwCMysi5lNM7PFZrbQzK5Ls85QM9tkZnOj6faarmPFiurNF5HssmHDBvr06UOfPn046KCD6NSpU8nrL774okrbuOKKK3jvvfcqXOfhhx+moIaOGw8aNIi5c+fWyLZqQyYPDRUBP3T3OdHdkmab2V/dfVGZ9d5w99MzVcShh4bDQenmi0jNKygILe4VK8L/Z6NH79th2Hbt2pV8qd555520aNGCH/3oR7ut4+64O/Xqpf9tO2HChEr3873vfW/vi6zjMtYicPfV7j4ner4FWEzF95rNiNGjoVmz3ec1axbmi0jNKu6TW74c3Ev75DJxgsb7779Pr169uPrqq8nLy2P16tWMHDmS/Px8evbsyd13312ybvEv9KKiItq0acOoUaPo3bs3AwYMYO3atQDceuutjBkzpmT9UaNG0a9fP4466ij++c9/ArBt2zbOPfdcevfuzbBhw8jPz6/0l//EiRM55phj6NWrFzfffDMARUVFXHLJJSXzx44dC8CDDz5Ijx496N27NyNGjKjxz6w8tdJHYGY5QF/S3xd1gJnNM7M/m1nPct4/0sxmmdmsdevWVWvfw4fD+PHQtSuYhcfx49VRLJIJtd0nt2jRIq688krefvttOnXqxD333MOsWbOYN28ef/3rX1m0qOwBCNi0aRNDhgxh3rx5DBgwgMcffzzttt2dt956i/vuu68kVMaNG8dBBx3EvHnzGDVqFG+//XaF9RUWFnLrrbcybdo03n77bf7xj38wZcoUZs+ezfr161mwYAHvvPMOl156KQD33nsvc+fOZd68eTz00EP7+OlUXcaDwMxaEO6her27by6zeA7Q1d17A+OA59Ntw93Hu3u+u+d36FDRfcvTGz4cli2DXbvCo0JAJDNqu0/u8MMP56tf/WrJ60mTJpGXl0deXh6LFy9OGwRNmzbllFNOAeArX/kKy5YtS7vtc845Z491ZsyYwUUXXQRA79696dkz7W/XEjNnzuSEE06gffv2NGzYkIsvvpjp06dzxBFH8N5773HdddcxdepUWrduDUDPnj0ZMWIEBQUF1bogbF9lNAjMrCEhBArc/dmyy919s7tvjZ6/DDQ0s/aZrElEMqe8vrdM9ck1b9685PmSJUv45S9/yWuvvcb8+fM5+eST055P36hRo5Ln9evXp6ioKO22GzduvMc61b2RV3nrt2vXjvnz5zNo0CDGjh3LVVddBcDUqVO5+uqreeutt8jPz2fnzp3V2t/eyuRZQwb8Bljs7g+Us85B0XqYWb+ong2ZqklEMivOPrnNmzfTsmVLWrVqxerVq5k6dWqN72PQoEE89dRTACxYsCBtiyNV//79mTZtGhs2bKCoqIjJkyczZMgQ1q1bh7tz/vnnc9dddzFnzhx27txJYWEhJ5xwAvfddx/r1q1je9njbBmSybOGBgKXAAvMrLg35WbgUAB3fxQ4D7jGzIqAHcBFrntnitRZxYdda/KsoarKy8ujR48e9OrVi8MOO4yBAwfW+D5+8IMfcOmll5Kbm0teXh69evUqOayTTufOnbn77rsZOnQo7s4ZZ5zBaaedxpw5c7jyyitxd8yMn//85xQVFXHxxRezZcsWdu3axU033UTLli1r/G9Ip87dszg/P991YxqR2rN48WK6d+8edxlZoaioiKKiIpo0acKSJUs46aSTWLJkCQ0aZNcgDen+zcxstrvnp1s/u6oXEcliW7du5cQTT6SoqAh357HHHsu6ENgbdf8vEBGpJW3atGH27Nlxl1Hj9vuxhkREpGIKAhGRhFMQiIgknIJARCThFAQiktWGDh26x8VhY8aM4bvf/W6F72vRogUAq1at4rzzzit325Wdjj5mzJjdLuw69dRT2bhxY1VKr9Cdd97J/fffv8/bqQkKAhHJasOGDWPy5Mm7zZs8eTLDhg2r0vsPOeQQnn766b3ef9kgePnll2nTps1eby8bKQhEJKudd955TJkyhc8//xyAZcuWsWrVKgYNGlRyXn9eXh7HHHMML7zwwh7vX7ZsGb169QJgx44dXHTRReTm5nLhhReyY8eOkvWuueaakiGs77jjDgDGjh3LqlWrOP744zn++OMByMnJYf369QA88MAD9OrVi169epUMYb1s2TK6d+/Od77zHXr27MlJJ520237SmTt3Lv379yc3N5ezzz6bTz/9tGT/PXr0IDc3t2Swu9dff73kxjx9+/Zly5Yte/3ZFtN1BCJSZddfDzV9460+fSD6Dk2rXbt29OvXj7/85S+cddZZTJ48mQsvvBAzo0mTJjz33HO0atWK9evX079/f84888xy79v7yCOP0KxZM+bPn8/8+fPJy8srWTZ69GgOOOAAdu7cyYknnsj8+fO59tpreeCBB5g2bRrt2+8+Hubs2bOZMGECM2fOxN059thjGTJkCG3btmXJkiVMmjSJX/3qV1xwwQU888wzFd5f4NJLL2XcuHEMGTKE22+/nbvuuosxY8Zwzz33sHTpUho3blxyOOr+++/n4YcfZuDAgWzdupUmTZpU49NOTy0CEcl6qYeHUg8LuTs333wzubm5fP3rX+ejjz5izZo15W5n+vTpJV/Iubm55Obmlix76qmnyMvLo2/fvixcuLDSAeVmzJjB2WefTfPmzWnRogXnnHMOb7zxBgDdunWjT58+QMVDXUO4P8LGjRsZMmQIAJdddhnTp08vqXH48OFMnDix5ArmgQMHcuONNzJ27Fg2btxYI1c2q0UgIlVW0S/3TPrmN7/JjTfeyJw5c9ixY0fJL/mCggLWrVvH7NmzadiwITk5OWmHnk6VrrWwdOlS7r//fv7973/Ttm1bLr/88kq3U9E4bcVDWEMYxrqyQ0Pl+dOf/sT06dN58cUX+clPfsLChQsZNWoUp512Gi+//DL9+/fnb3/7G0cfffRebb+YWgQikvVatGjB0KFD+da3vrVbJ/GmTZvo2LEjDRs2ZNq0aSxPd4PyFIMHDy65Qf0777zD/PnzgTCEdfPmzWndujVr1qzhz3/+c8l7WrZsmfY4/ODBg3n++efZvn0727Zt47nnnuO4446r9t/WunVr2rZtW9Ka+P3vf8+QIUPYtWsXK1eu5Pjjj+fee+9l48aNbN26lQ8++IBjjjmGm266ifz8fN59991q77MstQhEpE4YNmwY55xzzm5nEA0fPpwzzjiD/Px8+vTpU+kv42uuuYYrrriC3Nxc+vTpQ79+/YBwt7G+ffvSs2fPPYawHjlyJKeccgoHH3ww06ZNK5mfl5fH5ZdfXrKNb3/72/Tt27fCw0DleeKJJ7j66qvZvn07hx12GBMmTGDnzp2MGDGCTZs24e7ccMMNtGnThttuu41p06ZRv359evToUXK3tX2hYahFpEIahrruqe4w1Do0JCKScAoCEZGEUxCISKXq2iHkJNubfysFgYhUqEmTJmzYsEFhUAe4Oxs2bKj2RWY6a0hEKtS5c2cKCwtZt25d3KVIFTRp0oTOnTtX6z0KAhGpUMOGDenWrVvcZUgG6dCQiEjCKQhERBJOQSAiknAKAhGRhFMQiIgknIJARCThFAQiIgmnIBARSTgFgYhIwikIREQSTkEgIpJwCgIRkYRTEIiIJFzGgsDMupjZNDNbbGYLzey6NOuYmY01s/fNbL6Z5WWqHhERSS+Tw1AXAT909zlm1hKYbWZ/dfdFKeucAhwZTccCj0SPIiJSSzLWInD31e4+J3q+BVgMdCqz2lnA7zx4E2hjZgdnqiYREdlTrfQRmFkO0BeYWWZRJ2BlyutC9gwLzGykmc0ys1m6S5KISM3KeBCYWQvgGeB6d99cdnGat+xxY1R3H+/u+e6e36FDh0yUKSKSWBkNAjNrSAiBAnd/Ns0qhUCXlNedgVWZrElERHaXybOGDPgNsNjdHyhntReBS6Ozh/oDm9x9daZqEhGRPWXyrKGBwCXAAjObG827GTgUwN0fBV4GTgXeB7YDV2SwHhERSSNjQeDuM0jfB5C6jgPfy1QNIiJSOV1ZLCKScAoCEZGEUxCIiCScgkBEJOEUBCIiCacgEBFJOAWBiEjCKQhERBJOQSAiknAKAhGRhFMQiIgknIJARCThFAQiIgmnIBARSTgFgYhIwikIREQSTkEgIpJwiQkCd5g/P+4qRESyT2KC4IknoG/f8CgiIqUSEwTnnw8nnACXXw6PPhp3NSIi2SMxQdC8Obz0Epx2GlxzDYwZE3dFIiLZITFBANCkCTz7LJx7LtxwA/zP/8RdkYhI/BIVBACNGsHkyTB8ONxyC9x6a+hIFhFJqgZxFxCHBg1Cp3HTpjB6NGzfDr/4BZjFXZmISO1LZBAA1K8P48dDs2bw4IOwYwc8/DDUS1wbSUSSLrFBAKEFMGZMaBn8/OchDH7zmxASIiJJkegggBAGP/tZaBnccQd89hn8/vfQsGHclYmI1I7EBwGEMLj99tAy+K//CmHw5JPQuHHclYmIZJ6OiKf48Y9h3Dh44QU466zQiSwisr9TEJTx/e/Dr38Nr7wSLj7bsiXuikREMktBkMaVV8LEifDGG/CNb8DGjXFXJCKSOQqCclx8MTz1FMyaBSeeCBs2xF2RiEhmKAgqcM458PzzsHAhDB0Ka9bEXZGISM1TEFTi1FPhT3+CDz+EwYOhsDDuikREapaCoApOPBGmToXVq0MYLF0ad0UiIjUnY0FgZo+b2Voze6ec5UPNbJOZzY2m2zNVS00YNAhefTV0HA8eDP/3f3FXJCJSMzLZIvgtcHIl67zh7n2i6e4M1lIjvvpVmDYtXHA2eDC8kzbiRETqlowFgbtPBz7J1Pbj0rs3TJ8eBqcbOhTefjvuikRE9k3cfQQDzGyemf3ZzHqWt5KZjTSzWWY2a926dbVZX1rdu4cwaN4cjj8e3nwz7opERPZelYLAzA43s8bR86Fmdq2ZtdnHfc8Burp7b2Ac8Hx5K7r7eHfPd/f8Dh067ONua8YRR4QwaN8e/vM/w3MRkbqoqi2CZ4CdZnYE8BugG/CHfdmxu292963R85eBhmbWfl+2Wdu6dg0B0LkznHxyGJaiIgUFkJMTDivl5ITXIiJxq2oQ7HL3IuBsYIy73wAcvC87NrODzMI9wcysX1RLnbt+95BD4PXX4cgj4Ywz4KWX0q9XUAAjR8Ly5eHWmMuXh9cKAxGJW1WD4EszGwZcBkyJ5lU4Yr+ZTQL+BRxlZoVmdqWZXW1mV0ernAe8Y2bzgLHARe518+7BHTuGs4lyc8PVyH/8457r3HLLnqOZbt8e5ouIxKmq9yO4ArgaGO3uS82sGzCxoje4+7BKlj8EPFTF/We9Aw6Av/0tjFh60UXhFNNLLildvmJF+veVN19EpLZUqUXg7ovc/Vp3n2RmbYGW7n5Phmurc1q3DlcgDx0Kl10W7olc7NBD07+nvPkiIrWlqmcN/d3MWpnZAcA8YIKZPZDZ0uqm5s1hyhQ45RS46ir45S/D/NGjw+0wUzVrFuaLiMSpqn0Erd19M3AOMMHdvwJ8PXNl1W1Nm8Jzz4X+guuvD/dEHj48tBC6dg23xuzaNbwePjzuakUk6araR9DAzA4GLgDUvVkFjRqF+x5fdhncfHPoGL77bn3xi0j2qWoQ3A1MBf7h7v82s8OAJZkra//QoAH87nfQpAn89KewYwfcd19oEYiIZIsqBYG7/xH4Y8rrD4FzM1XU/qR+ffjVr8Lhol/8IoTBuHHhojIRkWxQ1c7izmb2XDSs9Boze8bMOme6uP1FvXrhy/9HP4L//V8YMQJWroy7KhGRoKq/SycALwKHAJ2Al6J5UkVmcO+9oZ/gySfhsMNCIGj0UhGJW1WDoIO7T3D3omj6LZAdo7/VIWZw223wwQfw/e/DCy9AXl4YwXTKFNi1K+4KRSSJqhoE681shJnVj6YR1MFxgbJFTg48+GA4PHTvvfD++2Gcop49wymlO3bEXaGIJElVg+BbhFNHPwZWE8YJuiJTRSVFmzbw4x/Dhx/CxImhQ/mqq8I1BnfeCWvXxl2hiCRBVYeYWOHuZ7p7B3fv6O7fJFxcJjWgYcNwfcHs2fDaa9CvH9x1Vxh+YuRIePfduCsUkf3ZvpzEeGONVSFA6EMo7i9YtAguvTRch9C9O5x+Ovz972EIaxGRmrQvQaDLojKoe/fQX7BiBdxxB8ycGUIiPx/+8Af48su4KxSR/cW+BIF+m9aCjh1Df8GKFfDYY7BtWziMdNhhcP/9sGlT3BWKSF1XYRCY2RYz25xm2kK4pkBqSdOmob9g0aJwF7QjjggdzV26wI03hjueiYjsjQqDwN1bunurNFNLd6/qOEVSg+rVC/0F06aFzuUzzoCxY+Hww+HCC+Gtt+KuUETqGo14U4fl5YV7Hi9dCjfcAH/5Cxx7LBx3HDz/POzcGXeFIlIXKAj2A126hFFNV66EBx4Ij2efDUcfHcY2KnuvZBGRVAqC/UirVqFl8P77MHkytG0L3/teCIrbboOPP467QhHJRgqC/VCDBqG/YOZMmD49HCoaPTpcsXzllbBwYdwVikg2URDsx8xK+wvefTeEwKRJ0KtXuKfys8/C+vVxVykicTOvY5eq5ufn+6xZs+Iuo85avx4efRQeegjWrAnzjj4aBg0qnQ47THdRE9nfmNlsd89Pu0xBkExffBFONZ0xI0z/+Ads3BiWHXRQCITjjguPubnhcJOI1F0VBYH+906oRo1KWwAQ7oWwaFFpMMyYAU8/HZa1aAEDBpSuf+yx0Lx5fLWLSM1Si0DKtXLl7sGwYEEY9K5+/XANQ3EwDBwIBx4Yd7UiUhEdGpLdFBTALbeE8YsOPTScUTR8eOXv27gR/vWv0mCYORM+/zwsO/LI0kNJgwaFITDUzyCSPRQEUqKgIIxZlHqRWbNmYaTTqoRBqs8/hzlzdm81fPJJWNax4+4d0H36hPsuiEg8FARSIicn/QB1XbvCsmX7tu1du8JpqqnBsHRpWNasGfTvXxoM/ftDy5b7tj8RqToFgZSoVy/9zW3Mwhd5Tfvoo3BGUnEwzJsX9lO/fmglFJ+ddNxxoRUhIpmhIJASmWwRVMXmzfDmmyEU3ngj9DPs2BGWHX00DBkCgweHqXPnzNcjkhQKAilRk30ENeGLL8Jw2tOnh2nGjBAWEC5sKw6FIUOgWzd1QIvsLQWB7GZvzxqqDTt3hsNH06fD66+HVsOGDWFZp06loTB4cGhBKBhEqkZBIHXWrl2weHEIheJwKB5FtUOH0hbD4MFwzDGh70FE9hRLEJjZ48DpwFp375VmuQG/BE4FtgOXu/ucyrarIEg2d/jgg9JgmD69tG+jTZvQ+VzcaujbV6esihSLa4iJ3wIPAb8rZ/kpwJHRdCzwSPQoUi6zcLHaEUeE0VQhHOIqDoXXX4cpU8L85s3ha18rPZT01a9Ckybx1S6SrTJ6aMjMcoAp5bQIHgP+7u6TotfvAUPdfXVF21SLQCrz8cehb6G41bBgQZjfuHG4fqH4UNKAARozSZIjWwed6wSsTHldGM3bIwjMbCQwEuDQQw+tleKk7jroIDj//DBBuNp5xozSYBg9Gn7ykzCian5+aTAcfXTokFarQZImziBId75H2uaJu48HxkNoEWSyKNn/HHAAnHlmmCCcnvrPf5YeTnrwQbj33tL1O3QI1zB07hxu81n2UWEh+5s4g6AQ6JLyujOwKqZaJEFatYKTTw4ThGsqZs0Kw2GsXAmFhWFavjxcFV08flKq9u3Th4TCQuqiOIPgReD7ZjaZ0Em8qbL+AZFMaNas9PBQOtu2haEyikOiJsKieFJYSDbIWBCY2SRgKNDezAqBO4CGAO7+KPAy4dTR9wmnj16RqVpE9kXz5vAf/xGm8pQNi9TAqE5YdOoU7u3QsWM4RFX82KJF8i6eKyoK15E0ahR3Jfs/XVAmUksqCovix3RhAaHlkBoMlT1m09lQO3fCp5+Gv23DhvBY3vPUeZs2hfcfeGC4Ar5LlzClPu/SJZwcoAsJK5etZw2JJEpVWhbbt8O6dWFau7b8x8WLw2PxgH1lNWtWveBo2rTy+nfuDF/OlX2Bl51XfC/sdMygbVto1y506h94IHTvHp63axcuICwOysWL4ZVXYOvW3bfRoEFoSaULieLXBxyQvBZVdSgIRLJIs2ZhJNiuXau2/rZtFQfG2rXhuor588O84jvKldWixe7B0LJl+AJP/YL/9NP0Q5hD+JJt06b0C7xdu3DXuuIv+OLH1Oft2kHr1mFo9KpyD2G0YkUIh5Urd3/+5pvwxz/Cl1/u+bmmC4jUqUWLqtexr9zhs89C8BdP27bt/jrdNHAgfOMbNV+PgkBik82D39UVzZuHUVm7dat8XXfYsqXy1kZhYVivbdvwhX344em/xFPntWlTO4dnigOnTRvIzU2/zq5d4e8oGxLFz6dOhdWr9wy1tm3Lb1U0bVrxF3RlX+Lplu/N39gG4Y0AAAhhSURBVP7f/52ZIFAfgcQi24bDlmT54gtYtSp9q6L4eXn9Nek0bBj++y1vat5835c3arRvh7c0+qhknbhvkCNSmW3bQutoxYoQHBV9UdeFwQ3VWSxZZ8WK6s0XqW3Nm8NRR4Vpf1eNbhqRmlPekFEaSkqk9ikIJBajR4cmdapmzcJ8EaldCgKJxfDhoWO4a9fQAda1qzqKReKiPgKJzfDh+uIXyQZqEYiIJJyCQEQk4RQEIiIJpyAQEUk4BYGISMIpCEREEk5BICKScAoCSbyCgjAIXr164bGgIO6KRGqXLiiTRCs7HPby5eE16GI3SQ61CCTRbrllz5uEbN8e5oskhYJAEk3DYYsoCCThNBy2iIJAEk7DYYsoCCThNBy2iM4aEtFw2JJ4ahGIiCScgkBEJOEUBCIiCacgEBFJOAWBSJbQmEcSF501JJIFNOaRxEktApEsoDGPJE4KApEsoDGPJE4KApEsoDGPJE4ZDQIzO9nM3jOz981sVJrll5vZOjObG03fzmQ9ItlKYx5JnDIWBGZWH3gYOAXoAQwzsx5pVn3S3ftE068zVY9INtOYRxKnTJ411A94390/BDCzycBZwKIM7lOkztKYRxKXTB4a6gSsTHldGM0r61wzm29mT5tZlwzWIyIiaWQyCCzNPC/z+iUgx91zgb8BT6TdkNlIM5tlZrPWrVtXw2WKSDFd1JZMmQyCQiD1F35nYFXqCu6+wd0/j17+CvhKug25+3h3z3f3/A4dOmSkWJGkK76obflycC+9qE1hsP/LZBD8GzjSzLqZWSPgIuDF1BXM7OCUl2cCizNYj4hUQBe1JVfGOovdvcjMvg9MBeoDj7v7QjO7G5jl7i8C15rZmUAR8AlweabqEZGK6aK25DL3softs1t+fr7PmjUr7jJE9js5OeFwUFldu8KyZbVdjdQ0M5vt7vnplunKYhEBdFFbkikIRATQRW1JpmGoRaSELmpLJrUIRCTr6HqG2qUWgYhkFd2kp/apRSAiWUXXM9Q+BYGIZBVdz1D7FAQiklV0k57apyAQkayi6xlqn4JARLJKNl3PkJSzl3TWkIhknWy4niFJZy+pRSAikkaSzl5SEIiIpJGks5cUBCIiaWTT2UuZ7qtQEIiIpJEtZy/Vxp3jFAQiImlky9lLtdFXoRvTiIhksXr1QkugLDPYtavq29GNaURE6qja6KtQEIiIZLHa6KtQEIiIZLHa6KvQlcUiIlku01daq0UgIpJwCgIRkYRTEIiIJJyCQEQk4RQEIiIJV+euLDazdcDyuOvYR+2B9XEXkUX0eexOn0cpfRa725fPo6u7d0i3oM4Fwf7AzGaVd6l3Eunz2J0+j1L6LHaXqc9Dh4ZERBJOQSAiknAKgniMj7uALKPPY3f6PErps9hdRj4P9RGIiCScWgQiIgmnIBARSTgFQS0ysy5mNs3MFpvZQjO7Lu6a4mZm9c3sbTObEnctcTOzNmb2tJm9G/03MiDumuJkZjdE/5+8Y2aTzKxJ3DXVJjN73MzWmtk7KfMOMLO/mtmS6LFtTexLQVC7ioAfunt3oD/wPTPrEXNNcbsOWBx3EVnil8Bf3P1ooDcJ/lzMrBNwLZDv7r2A+sBF8VZV634LnFxm3ijgVXc/Eng1er3PFAS1yN1Xu/uc6PkWwv/oneKtKj5m1hk4Dfh13LXEzcxaAYOB3wC4+xfuvjHeqmLXAGhqZg2AZsCqmOupVe4+HfikzOyzgCei508A36yJfSkIYmJmOUBfYGa8lcRqDPBfQDVuwb3fOgxYB0yIDpX92syax11UXNz9I+B+YAWwGtjk7q/EW1VWONDdV0P4YQl0rImNKghiYGYtgGeA6919c9z1xMHMTgfWuvvsuGvJEg2APOARd+8LbKOGmv11UXTs+yygG3AI0NzMRsRb1f5LQVDLzKwhIQQK3P3ZuOuJ0UDgTDNbBkwGTjCzifGWFKtCoNDdi1uITxOCIam+Dix193Xu/iXwLPC1mGvKBmvM7GCA6HFtTWxUQVCLzMwIx4AXu/sDcdcTJ3f/b3fv7O45hE7A19w9sb/43P1jYKWZHRXNOhFYFGNJcVsB9DezZtH/NyeS4M7zFC8Cl0XPLwNeqImN6ub1tWsgcAmwwMzmRvNudveXY6xJsscPgAIzawR8CFwRcz2xcfeZZvY0MIdwtt3bJGy4CTObBAwF2ptZIXAHcA/wlJldSQjL82tkXxpiQkQk2XRoSEQk4RQEIiIJpyAQEUk4BYGISMIpCEREEk5BIBIxs51mNjdlqrEre80sJ3UUSZFsousIRErtcPc+cRchUtvUIhCphJktM7Ofm9lb0XRENL+rmb1qZvOjx0Oj+Qea2XNmNi+aiodGqG9mv4rG2H/FzJpG619rZoui7UyO6c+UBFMQiJRqWubQ0IUpyza7ez/gIcKoqUTPf+fuuUABMDaaPxZ43d17E8YLWhjNPxJ42N17AhuBc6P5o4C+0XauztQfJ1IeXVksEjGzre7eIs38ZcAJ7v5hNGjgx+7ezszWAwe7+5fR/NXu3t7M1gGd3f3zlG3kAH+NbiiCmd0ENHT3n5rZX4CtwPPA8+6+NcN/qshu1CIQqRov53l566TzecrznZT20Z0GPAx8BZgd3YhFpNYoCESq5sKUx39Fz/9J6e0ThwMzouevAtdAyT2ZW5W3UTOrB3Rx92mEm/S0AfZolYhkkn55iJRqmjIqLIT7BxefQtrYzGYSfjwNi+ZdCzxuZj8m3F2seLTQ64Dx0QiROwmhsLqcfdYHJppZa8CAB3WLSqlt6iMQqUTUR5Dv7uvjrkUkE3RoSEQk4dQiEBFJOLUIREQSTkEgIpJwCgIRkYRTEIiIJJyCQEQk4f4fG1Mmxg7sTy4AAAAASUVORK5CYII\u003d\n"
          },
          "metadata": {
            "needs_background": "light"
          },
          "output_type": "display_data"
        }
      ],
      "source": "import matplotlib.pyplot as plt\n\nloss \u003d history.history[\"loss\"]\nval_loss \u003d history.history[\"val_loss\"]\n\nepochs \u003d range(1, len(loss)+1)\n\n# training loss blue dotted\nplt.plot(epochs, loss, \"bo\", label\u003d\"Training loss\")\n# validation loss blue solid\nplt.plot(epochs, val_loss, \"b\", label\u003d\"Validation loss\")\n# title, labels, legend\nplt.title(\"Training and Validation Loss\")\nplt.xlabel(\"Epochs\")\nplt.ylabel(\"Loss\")\nplt.legend()\n\nplt.show()",
      "metadata": {
        "pycharm": {
          "metadata": false,
          "name": "#%%\n",
          "is_executing": false
        }
      }
    },
    {
      "cell_type": "code",
      "execution_count": 9,
      "outputs": [
        {
          "data": {
            "text/plain": "\u003cFigure size 432x288 with 1 Axes\u003e",
            "image/png": "iVBORw0KGgoAAAANSUhEUgAAAYIAAAEWCAYAAABrDZDcAAAABHNCSVQICAgIfAhkiAAAAAlwSFlzAAALEgAACxIB0t1+/AAAADh0RVh0U29mdHdhcmUAbWF0cGxvdGxpYiB2ZXJzaW9uMy4xLjAsIGh0dHA6Ly9tYXRwbG90bGliLm9yZy+17YcXAAAgAElEQVR4nO3deXxV1bn/8c/DDCJDQa0FITiihARiBC2oKIpQFccW+OHIVa4D2up1ulWrtVJ7nfVKvUUr6jVXRK0KFqUVcapVGaQoooCKGkBlBpmH5/fH2gkn4SQ5aE52wv6+X6/zytnD2ec5J8l69l5r7bXM3RERkeSqF3cAIiISLyUCEZGEUyIQEUk4JQIRkYRTIhARSTglAhGRhFMikDLMrL6ZfWdmHapz3ziZ2f5mlpV+0uWPbWZ/M7Oh2YjDzG40s//5vq8XqYgSQR0XFcQlj21mtj5lOW2BVBl33+ruzd39y+rct7Yys8lm9ps0688ws4VmtlP/I+7ez92LqiGu48xsQblj/87dL/qhx67iPd3MrszWe0jtpERQx0UFcXN3bw58CZycsm6HAsnMGtR8lLXao8DZadafDTzh7ttqNpxYnQssj37WKP1dxkuJYBdnZrea2VNm9qSZrQHOMrMjzOwdM1tpZovN7H4zaxjt3yA6K8yJlp+Itr9kZmvM7J9m1mln9422DzCzuWa2ysz+28z+YWbnVRB3JjH+u5nNN7MVZnZ/ymvrm9k9ZrbMzD4F+lfyFf0F+LGZ/TTl9W2AnwGPR8sDzWxm9Jm+NLMbK/m+3yr5TFXFYWYXmNmc6LifmtkF0fqWwASgQ8rV3Z7R7/LRlNefamazo+/oVTM7KGVbsZldaWYfRN/3k2bWuJK4mwOnAxcDh5hZt3Lbj4p+H6vM7CszOzta3yz6jF9G294ws8bprmiimPpEz3fq7zJ6TVcze8XMlpvZ12Z2jZm1M7N1ZtYqZb+e0XYll0y5ux67yANYABxXbt2twCbgZELibwocBvQEGgD7AnOBEdH+DQAHcqLlJ4ClQCHQEHiKcKa8s/vuCawBTom2XQlsBs6r4LNkEuMLQEsgh3Ame1y0fQQwG2gPtAHeCH/qFX5vY4D/SVm+FJiWsnwskBt9f/nRZzwp2rZ/6rGBt0o+U1VxRL+TfQGL3mM9kBdtOw5YkOZ3+Wj0/GDgu+h1DYFfR99Rw2h7MfAO8OPovecCF1TyHZwfvaYe8BJwd8q2TtHv7hfRd98W6BZt+xMwGdgbqA/0juJJF38x0Od7/l22BL4Bfgk0BloAPaJtfwMuTHmf/wbuifv/sS49Yg9Aj2r8ZVacCF6t4nVXAU9Hz9MV7qmF5EDgw++x7zDgzZRtBiymgkSQYYyHp2z/C3BV9PyN1EKPcHbvlRy7DyGRNI6W3wUuq2T/B4A7oueVJYKdjeNF4NLoeVWJ4LfA/6Vsqwd8DfSOlouBwSnb7wYeqOS9XwPujJ6fHRW6DaLlG0u++3KvqQ9sBLqk2ZZJItiZv8uzSUnO5fYbCrye8rfxLVBQ3f9fu/JDVUPJ8FXqgpl1NrO/RpfPq4FbCGd5Ffk65fk6oPn32PcnqXF4+K8truggGcaY0XsBX1QSL8DrwCrgZDM7EOgOPJkSyxFm9pqZLTGzVcAFaWJJp9I4zOwkM3s3qupYCfTL8Lglxy49noe2jGKgXco+Gf3eoqq9o4CSNqXnon1LqrL2AT5N89K9gEYVbMvEzvxd7gPMr+A4zwH5Fnqv9QeWuPuM7xlTIikRJEP5Lot/Aj4E9nf3FsBvCGfo2bSYUEUCgJkZZQut8n5IjIsJBUeJSru3Rknpf4FzCGeeE919acouY4FngX3cvSXwcIaxVBiHmTUFngFuA/Zy91aEKo6S41bVzXQR0DHlePUI3+/CDOIq75zofV8ys68JBW6jaD2EAnu/NK/7hlC9k27bWqBZSnwNCFVUqXbm77KiGHD3dYTfz1DC7+9/0+0nFVMiSKbdCWfAa83sYODfa+A9XwQKzOzkqFD4JbBHlmIcB/wqakhsA1ybwWseI5xNDouel49lubtvMLPDgcHVEEdjQmG7BNhqZicBfVO2fwO0NbPdKzn2QDPrEzWoXk2ox383w9hSnUModLulPAZFx29NqPLrb6FLbQMza2tm+e6+ldDr6l4z+3HUON4riudjYHczOyFavonQdlCZyn7n4wmN5yPMrJGZtTCzHinbHyf87k6M4pWdoESQTP9B6CK4hnAW9lS239DdvyEULncDywhnd+8T6pirO8YHCQ2YHwBTCWfeVcX3KfAe0AT4a7nNFwO3Rb1bfk0ohH9QHO6+EriCUK2xHDiTkCxLtn9IOMtdEPWi2bNcvLMJ38+DhGTSHxjo7pszjA0AM+tNqGYa5e5flzyiuBYAg9z9c0Kj7rVRrDOArtEhrgDmANOjbb8HzN1XAJcRkurCaFtqVVU6Ff7O3X0VcDxwBqENYC5wdMpr3yC0Wbzr7hVWOUp6FjWwiNQoM6tPqN44093fjDseqfvM7A3gEXd/NO5Y6hpdEUiNMbP+ZtYy6s9+I7CFcBYu8oNEVXa5wNNxx1IXKRFITeoNfEboh98fONXdK6oaEsmImRUBLwO/dPe1ccdTF6lqSEQk4XRFICKScHVuLI62bdt6Tk5O3GGIiNQp06dPX+ruabts17lEkJOTw7Rp0+IOQ0SkTjGzCu+wV9WQiEjCKRGIiCScEoGISMLVuTaCdDZv3kxxcTEbNmyIOxSpRZo0aUL79u1p2LCqIW5Ekm2XSATFxcXsvvvu5OTkEAa1lKRzd5YtW0ZxcTGdOnWq+gUiCbZLVA1t2LCBNm3aKAlIKTOjTZs2ukqUXUJREeTkQL164WfRDrOR/zC7xBUBoCQgO9DfhOwKiopg+HBYty4sf/FFWAYYOrR63mOXuCIQEdlVXX/99iRQYt26sL66KBFUg2XLltGtWze6devGj3/8Y9q1a1e6vGnTpoyOcf755/PJJ59Uus+oUaMoqu5rQhGp1b78cufWfx+7TNXQzigqCtn0yy+hQwcYOfKHXWK1adOGmTNnAnDzzTfTvHlzrrrqqjL7lE4SXS997h0zZkyV73PppZd+/yBjsmXLFho0SOSfmUi16NAhVAelW19dEndFUFLf9sUX4L69vi0bJ9rz588nNzeXiy66iIKCAhYvXszw4cMpLCykS5cu3HLLLaX79u7dm5kzZ7JlyxZatWrFddddR35+PkcccQTffvstADfccAP33ntv6f7XXXcdPXr04KCDDuLtt98GYO3atZxxxhnk5+czZMgQCgsLS5NUqptuuonDDjusNL6SUWjnzp3LscceS35+PgUFBSxYsACA3//+93Tt2pX8/Hyuj65JS2IG+Prrr9l///0BePjhhxk8eDAnnXQSAwYMYPXq1Rx77LEUFBSQl5fHiy+WTsTFmDFjyMvLIz8/n/PPP5+VK1ey7777smXLFgBWrlxJp06d2Lp1a7X9XkQyle1G2kyMHAnNmpVd16xZWF9tSs5U68rj0EMP9fI++uijHdZVpGNH95ACyj46dsz4EJW66aab/I477nB393nz5rmZ+XvvvVe6fdmyZe7uvnnzZu/du7fPnj3b3d179erl77//vm/evNkBnzhxoru7X3HFFX7bbbe5u/v111/v99xzT+n+11xzjbu7v/DCC37CCSe4u/ttt93ml1xyibu7z5w50+vVq+fvv//+DnGWxLFt2zYfPHhw6fsVFBT4+PHj3d19/fr1vnbtWh8/frz37t3b161bV+a1JTG7uy9evNj3228/d3d/6KGHvEOHDr58+XJ3d9+0aZOvXr3a3d2/+eYb33///UvjO+igg0qPV/LzrLPO8gkTJri7+6hRo0o/5/exM38bIqmeeMK9WbOy5USzZmF9HLF07OhuFn5+nxiAaV5BuZq4K4KaqG9Ltd9++3HYYYeVLj/55JMUFBRQUFDAnDlz+Oijj3Z4TdOmTRkwYAAAhx56aOlZeXmnn376Dvu89dZbDB4c5lbPz8+nS5cuaV87efJkevToQX5+Pq+//jqzZ89mxYoVLF26lJNPPhkIN2Q1a9aMV155hWHDhtG0aVMAfvSjH1X5ufv160fr1q2BcLJx7bXXkpeXR79+/fjqq69YunQpr776KoMGDSo9XsnPCy64oLSqbMyYMZx//vlVvp9IdauJRtpMDR0KCxbAtm3hZ3X1FiqRuERQUb1adda3pdptt91Kn8+bN4/77ruPV199lVmzZtG/f/+0/dwbNWpU+rx+/fql1STlNW7ceId9PIOJhtatW8eIESN47rnnmDVrFsOGDSuNI12XS3dPu75BgwZs27YNYIfPkfq5H3/8cVatWsWMGTOYOXMmbdu2ZcOGDRUe9+ijj2bu3LlMmTKFhg0b0rlz5yo/k+xaakOVTE2fNMYpcYmgRurbKrB69Wp23313WrRoweLFi5k0aVK1v0fv3r0ZN24cAB988EHaK47169dTr1492rZty5o1a3j22WcBaN26NW3btmXChAlAKNzXrVtHv379+POf/8z69esBWL58ORCGBJ8+fToAzzzzTIUxrVq1ij333JMGDRrw97//nYULFwJw3HHHMXbs2NLjlfwEOOussxg6dKiuBhKoJtvxKlPTJ41xSlwiGDoURo+Gjh3BLPwcPbr6L7XSKSgo4JBDDiE3N5cLL7yQXr16Vft7XHbZZSxcuJC8vDzuuusucnNzadmyZZl92rRpw7nnnktubi6nnXYaPXv2LN1WVFTEXXfdRV5eHr1792bJkiWcdNJJ9O/fn8LCQrp168Y999wDwNVXX819993HT3/6U1asWFFhTGeffTZvv/02hYWFPP300xxwwAEA5OXlcc0113DUUUfRrVs3rr766tLXDB06lFWrVjFo0KDq/HqkDqgtVTJxnjTWtDo3Z3FhYaGXn5hmzpw5HHzwwTFFVLts2bKFLVu20KRJE+bNm0e/fv2YN29enevCOXbsWCZNmpRRt9rK6G+j7qlXL1wJlGcW6shrUnV3NY+TmU1398J02+pW6SBV+u677+jbty9btmzB3fnTn/5U55LAxRdfzCuvvMLLL78cdygSg5roN5+poUPrbsG/M+pWCSFVatWqVWm9fV314IMPxh2CxGjkyLJj68CuWyVTWySujUBEarc42/GSSlcEIlLrJKVKprbQFYGIlKoN/fel5umKQESAmhn3XmqnrF4RmFl/M/vEzOab2XVptnc0s8lmNsvMXjOz9tmMJ1v69Omzw81h9957L5dcckmlr2vevDkAixYt4swzz6zw2OW7y5Z37733si6lZe1nP/sZK1euzCR0kVK1pf++1LysJQIzqw+MAgYAhwBDzOyQcrvdCTzu7nnALcBt2Yonm4YMGcLYsWPLrBs7dixDhgzJ6PU/+clPKr0ztyrlE8HEiRNp1arV9z5eTXP30qEqJD5JGlJBysrmFUEPYL67f+bum4CxwCnl9jkEmBw9n5Jme51w5pln8uKLL7Jx40YAFixYwKJFi+jdu3dpv/6CggK6du3KCy+8sMPrFyxYQG5uLhCGfxg8eDB5eXkMGjSodFgHCP3rS4awvummmwC4//77WbRoEccccwzHHHMMEIZ+WLp0KQB33303ubm55Obmlg5hvWDBAg4++GAuvPBCunTpQr9+/cq8T4kJEybQs2dPunfvznHHHcc333wDhHsVzj//fLp27UpeXl7pEBUvv/wyBQUF5Ofn07dvXyDMz3DnnXeWHjM3N5cFCxaUxnDJJZdQUFDAV199lfbzAUydOpWf/vSn5Ofn06NHD9asWcORRx5ZZnjtXr16MWvWrJ36vUlZSRpSQcrKZhtBO+CrlOVioGe5ff4FnAHcB5wG7G5mbdx92fd901/9CtIMv/+DdOsGURmaVps2bejRowcvv/wyp5xyCmPHjmXQoEGYGU2aNOG5556jRYsWLF26lMMPP5yBAwdWOJ/ugw8+SLNmzZg1axazZs2ioKCgdNvIkSP50Y9+xNatW+nbty+zZs3i8ssv5+6772bKlCm0bdu2zLGmT5/OmDFjePfdd3F3evbsydFHH03r1q2ZN28eTz75JA899BC/+MUvePbZZznrrLPKvL5379688847mBkPP/wwt99+O3fddRe/+93vaNmyJR988AEAK1asYMmSJVx44YW88cYbdOrUqcy4QRX55JNPGDNmDH/84x8r/HydO3dm0KBBPPXUUxx22GGsXr2apk2bcsEFF/Doo49y7733MnfuXDZu3EheXl6V7ykVU//95MrmFUG6kq78jeNXAUeb2fvA0cBCYIehNs1suJlNM7NpS5Ysqf5Iq0Fq9VBqtZC78+tf/5q8vDyOO+44Fi5cWHpmnc4bb7xRWiDn5eWVKdzGjRtHQUEB3bt3Z/bs2WkHlEv11ltvcdppp7HbbrvRvHlzTj/9dN58800AOnXqRLdu3YCKh7ouLi7mhBNOoGvXrtxxxx3Mnj0bgFdeeaXMbGmtW7fmnXfe4aijjqJTp05AZkNVd+zYkcMPP7zSz/fJJ5+w9957lw7l3aJFCxo0aMDPf/5zXnzxRTZv3swjjzzCeeedV+X7SeXUfz+5snlFUAzsk7LcHliUuoO7LwJOBzCz5sAZ7r6q/IHcfTQwGsJYQ5W9aWVn7tl06qmncuWVVzJjxgzWr19feiZfVFTEkiVLmD59Og0bNiQnJyft0NOp0l0tfP7559x5551MnTqV1q1bc95551V5nMrGkSoZwhrCMNbpqoYuu+wyrrzySgYOHMhrr73GzTffXHrc8jFmMlQ1lB2uOnWo6oo+X0XHbdasGccffzwvvPAC48aNq7JBXTKj/vvJlM0rgqnAAWbWycwaAYOB8ak7mFlbMyuJ4T+BR7IYT1Y1b96cPn36MGzYsDKNxCVDMDds2JApU6bwRbpBVFIcddRRpRPUf/jhh6X13qtXr2a33XajZcuWfPPNN7z00kulr9l9991Zs2ZN2mM9//zzrFu3jrVr1/Lcc89x5JFHZvyZVq1aRbt27QB47LHHStf369ePBx54oHR5xYoVHHHEEbz++ut8/vnnQNmhqmfMmAHAjBkzSreXV9Hn69y5M4sWLWLq1KkArFmzpnTuhQsuuIDLL7+cww47LKMrEBFJL2uJwN23ACOAScAcYJy7zzazW8xsYLRbH+ATM5sL7AXU6drIIUOG8K9//at0hjAIwylPmzaNwsJCioqKqpxk5eKLL+a7774jLy+P22+/nR49egBhtrHu3bvTpUsXhg0bVmYI6+HDhzNgwIDSxuISBQUFnHfeefTo0YOePXtywQUX0L1794w/z80338zPf/5zjjzyyDLtDzfccAMrVqwgNzeX/Px8pkyZwh577MHo0aM5/fTTyc/PLx0++owzzmD58uV069aNBx98kAMPPDDte1X0+Ro1asRTTz3FZZddRn5+Pscff3zpVcWhhx5KixYtNGeByA+kYailzlq0aBF9+vTh448/pl699Oc0+tsQCSobhlpDTEid9Pjjj9OzZ09GjhxZYRKoSzS0g8RJQ0xInXTOOedwzjnnxB1GtdDQDhK3un8qFalrVVySfXXlb0JDO0jcdolE0KRJE5YtW1Zn/vEl+9ydZcuW0aRJk7hDqZKGdpC47RJVQ+3bt6e4uJjaerOZxKNJkya0b1/7xzGsTVMzSjLtEomgYcOGpXe0itQ1GtpB4rZLVA2J1GUa2kHitktcEYjUdRraQeKkKwIRkYRTIhARSTglAhGRhFMiEBFJOCUCEZGEUyIQEUk4JQIRkYRTIpDE0xDQknS6oUwSTUNAi+iKQBJOQ0CLKBFIwmkIaBElAkm4ioZ61hDQkiRKBJJoI0eGIZ9TaQhoSRolAkk0DQEtol5DIhoCWhJPVwQiIgmnRCAiknBKBCIiCadEICKScEoEIiIJp0QgIpJwSgQSG436KVI76D4CiYVG/RSpPXRFILHQqJ8itYcSgcRCo36K1B6qGpJYdOgQqoPSrRepK9xh0ybYuHH7I3W5OralPh8xAn72s+r/HEoEEouRI8u2EYBG/ZTaY9MmePddmDwZpkyBb75JX2hv3ly979uwITRuDI0ahZ/ln2/YUL3vV0KJQGJR0iB8/fWhOqhDh5AE1FAscdi2DWbNgldeCYX/m2/C2rVhRNpDD4X8/B0L5coK7O+zb6NGoQddHLKaCMysP3AfUB942N3/UG57B+AxoFW0z3XuPjGbMUntoVE/t/v2W5g4MZyF1q+feQGzs/uZxf1Jawd3+PTTUOiXnPUvXRq2de4M550HfftCnz7QunWckdaMrCUCM6sPjAKOB4qBqWY23t0/StntBmCcuz9oZocAE4GcbMUkUlu4w+zZMGFCeLzzTljXqlVIBCVVD5s2Ve/7VlX1ULLcqhV06RIeublw4IFhfV329dfbC/7Jk7d3TGjXDk48MRT8xx4blpMmm1cEPYD57v4ZgJmNBU4BUhOBAy2i5y2BRVmMRyRWmzbBG29sL/w//zysLyyEm2+Gk0+Gbt3KnrWXNEZWdwNkVds++gjGj4etW0McDRqEZJCbuz055ObCfvuFxFUbrVoFr7++veCfPTusb90ajjkGrr02FP4HHqgrpWwmgnbAVynLxUDPcvvcDPzNzC4DdgOOS3cgMxsODAfooG4lUocsWxaqfCZMgEmTYPVqaNIEjjsOrrsOTjoJfvKTil9vtv1Mfffday5uCAnhk0/gww9DIfrhhzBtGjz9dEhQEOI6+OAdE0SHDjVf371hA7z99vaCf+rUUPfftCkceSScc04o+Lt1q73JKy7ZTATpcqyXWx4CPOrud5nZEcD/mlmuu28r8yL30cBogMLCwvLHEKk13EPhWXLW/49/hMJo771h0KBw1t+3747zJNdGjRtDXl54pFq7FubMKZsgXn8dnnhi+z677bY9MaT+/MlPqu/se+tWmDEjFPqvvBK+6w0bQiHfowf8+tfhuz7iiPBZpGLZTATFwD4py+3Zsern34D+AO7+TzNrArQFvs1iXCLVavPmUAhNmBCqU+bPD+u7dQu9ok4+OfQ8iatHSHXbbbdQnVVYWHb9qlUhMZQkhw8/hL/+FR55ZPs+rVrtePXQpQvssUfV7+sOH3+8/Yz/tddg5cqwrWtXuOiiUPAfdRS0aFHpoaQcc8/OCbaZNQDmAn2BhcBU4P+5++yUfV4CnnL3R83sYGAy0M4rCaqwsNCnTZuWlZhFMrVyJbz0Uij8X3opLDdqFBobBw4MVT777FP1cZJg6dKyyaHk+YoV2/fZc8/0CWL16u0F/6uvwqLoVDInJxT6JQ28e+0Vy0erU8xsursXptuWtSsCd99iZiOASYSuoY+4+2wzuwWY5u7jgf8AHjKzKwjVRudVlgRE4jR//vYqnzffhC1bwpnsaaeFs/7jj4fmzeOOsvZp2xaOPjo8SrjD4sXbk0LJzzFj4LvvdjzGHnuEAr+k8N9335qLPwmydkWQLboikJqydSv885/bq3w+/jisz80NBf/JJ4e6aDU8Vp9t2+Crr7ZfPTRqFAr+3Nxdp2otLrFcEYjURatXh949EyaE3j7LloW+90cfDZdcEqp8OnWKO8pdV7160LFjeJx4YtzRJIcSgSTep59u7+L52muh8bdNmzC418knwwknqPFRdm1KBJI4GzeGG7smTgyPuXPD+s6d4Ve/CoX/EUeEm6hEkkB/6pIIX3wRevdMnBh6oKxbF27s6tMnDO07YADsv3/cUYrEQ4lAdkmbNoW+/SWFf8nwAjk5cP75odqnT5+6cWOXSLYpEcguY9Gi7QX/3/8Oa9Zsb+gdNiwU/gcdpHFlRMpTIkigoqJdYx6ALVvCqJ0lhf/MmWF9+/YwZEgo+I89tubH6BGpa5QIEqaoqOzMYF98EZahbiSDb7+Fl18OBf+kSeGO3vr1oXdv+K//CnX9ubk66xfZGbqhLGFyctLPFdyxIyxYUNPRVG3r1jDiZUkPn5Jf/Y9/HAr9n/0sjOTZqlW8cYrUdrqhTEqVTMaR6fo4LFsWzvZfeimc/S9dGm40OvxwuPXWUPjn5+tOU5HqUmUiiMYLKnL3FVXtK7Vfhw7prwjinOZh27ZQv19y1v/uu2Fd27bhrH/AAOjXL9zkJSLVL5Mrgh8TppmcATwCTNLAcHXXyJFl2wggdKEcObLmYti4MUwUPnVqaOz929/gm2/CtsMOgxtvDGf9hx6qcXxEakKVicDdbzCzG4F+wPnAA2Y2Dvizu3+a7QClepU0CNdUr6Ft28Kdu++9Fx5Tp4az/5K5ePfcM/TsGTAgDOWg4YRFal5GbQTu7mb2NfA1sAVoDTxjZn9392uyGaBUv6FDs1fwL1y4vdB/773QuLt6ddjWvHmYzOSXvwyjdvboEcbsVw8fkXhl0kZwOXAusBR4GLja3TebWT1gHqBEkFArVoSCfurU7QX/4sVhW4MGoUF36NBQ3dOjRxjLR1U9IrVPJlcEbYHT3b1ME6O7bzOzk7ITltQ2GzaEKp3UKp6Swdog3LHbt+/2M/38/DCWj4jUfpkkgonA8pIFM9sdOMTd33X3OVmLTGKzdWuYnDz1TH/WrHAnL4SJ2Hv2hHPPDYV+YaH68YvUZZkkggeBgpTltWnWSR3lHhqNU8/0p02DtWvD9hYtQtXO1VeHQv+ww6Bdu3hjFpHqlUkisNTuolGVkG5Eq8PWroVHHgndNt97LwzbAGFawO7dw+icJVU8BxygG7dEdnWZFOifRQ3GD0bLlwCfZS8kyZbVq2HUKLj77nC3bufOob9+SWNuXl5IBiKSLJkkgouA+4EbAAcmA8OzGZRUr+XL4b774P77wyBtAwaE+wh69Yo7MhGpDTK5oexbYHANxCLV7Ntvw9n/qFHw3Xdw2mkhARx6aNyRiUhtksl9BE2AfwO6AKUdAt19WBbjkh9g4UK44w4YPTp0+xw0KCSA3Ny4IxOR2iiTZsD/JYw3dALwOtAeWJPNoOT7WbAALr4Y9t0XHnggJIA5c+DJJ5UERKRimSSC/d39RmCtuz8GnAh0zW5YsjPmzg09ffbfP/QGGjYM5s2DMWPCjV4iIpXJpLF4c/RzpZnlEsYbyslaRJKxDz6A3/8exo2Dxo1hxIjQ31/9/FJQtlMAAA+wSURBVEVkZ2SSCEabWWtCr6HxQHPgxqxGJZWaPj1M0PL882Egt6uvhiuu0MidIvL9VJoIooHlVkeT0rwB7FsjUUlab78dEsBLL4UhHX7zmzCS549+FHdkIlKXVdpG4O7bgBE1FIuk4Q6vvhrG7O/VKwwB8fvfh4bh3/5WSUBEfrhMqob+bmZXAU8RxhkCwN2XV/wS+aHcw3y9t94argT23jvcEzB8OOy2W9zRiciuJJNEUHK/wKUp6xxVE2XFtm3wwgshAcyYEWYQ++MfQ68gDessItmQyZ3FnWoikKTbujX0/hk5EmbPhv32gz//Gc46S+P/iEh2ZXJn8Tnp1rv749UfTvJs3gxFRaHef948OOSQsPyLX4RZvkREsi2TouawlOdNgL7ADECJ4AfYuDHc8PWHP8AXX4Thn599Fk49VcM+i0jNyqRq6LLUZTNrSRh2Qr6H9evDGEC33w6LFoWZvkaNCsNBaxJ3EYnD96l8WAcckMmOZtYfuA+oDzzs7n8ot/0e4JhosRmwp7vvspMebtoE/frBW2/B0UfD44+HbqFKACISp0zaCCYQeglBuO/gEGBcBq+rD4wCjgeKgalmNt7dPyrZx92vSNn/MqD7TkVfh7iHISDeegseewzOSdvyIiJS8zK5Irgz5fkW4At3L87gdT2A+e7+GYCZjQVOAT6qYP8hwE0ZHLdO+p//gYceguuuUxIQkdolk0TwJbDY3TcAmFlTM8tx9wVVvK4d8FXKcjHQM92OZtYR6AS8WsH24USzonXo0CGDkGuXN96Ayy8P7QC33hp3NCIiZWXSP+VpYFvK8tZoXVXS1Xx7mnUQZkB7xt23ptvo7qPdvdDdC/fYY48M3rr2+OILOPPMcF/A//0f1K8fd0QiImVlkggauPumkoXoeSa3OBUD+6QstwcWVbDvYODJDI5Zp6xbF7qDbtwY7hZu2TLuiEREdpRJIlhiZgNLFszsFGBpBq+bChxgZp3MrBGhsB9fficzOwhoDfwzs5DrBvcwQcy//hWuBA46KNwolpMT7hPIyQnLIiJxy6SN4CKgyMweiJaLgSqbO919i5mNACYRuo8+4u6zzewWYJq7lySFIcBYd6+o2qhOuv12eOopuO02OPHEUOgPHx6uEiBUGQ0fHp4PHRpfnCIilmn5a2bNo/1jna+4sLDQp02bFmcIVZo4EU46KQwT8eST4T6BnJxQ+JfXsWMYUlpEJJvMbLq7F6bbVmXVkJn93sxauft37r7GzFqbmfq+VOCTT2DIEMjPD/MHl9ws9uWX6fevaL2ISE3JpI1ggLuvLFmIZiv7WfZCqrtWrYJTTgmjhT7/PDRrtn1bRb1e62BvWBHZxWSSCOqbWeOSBTNrCjSuZP9E2ro11PV/+ik880yo8kk1cmTZxABheeTImotRRCSdTBqLnwAmm9mYaPl84LHshVQ33Xgj/PWvYRKZo4/ecXtJg/D114fqoA4dQhJQQ7GIxC2jxuJo8LjjCDeJrQD2dvdLK39VdtTGxuKnnoLBg+HCC+FPf9IgciJS+/ygxuLI14S7i88gzEcwp5piq/NmzgzTSPbqBQ88oCQgInVPhVVDZnYg4SawIcAywuT15u7HVPSapFmyJDQOt2kTJpXRlJIiUhdV1kbwMfAmcLK7zwcwsysq2T9RNm8OYwh9+y28+SbstVfcEYmIfD+VVQ2dQagSmmJmD5lZX9IPJJdIV1wRRhV9+GEoTFvrJiJSN1SYCNz9OXcfBHQGXgOuAPYyswfNrF8NxVcrPfRQmF7yqqvU60dE6r4qG4vdfa27F7n7SYQRRGcC12U9slrqH/+ASy8NU07+4Q9V7y8iUttl2msIAHdf7u5/cvdjsxVQbVZcDGecEW4WGztWcwuIyK7h+0xen0jr18Npp8HatfDqq9C6ddwRiYhUDyWCDLiHIaOnTQsTzBxySNwRiYhUn52qGkqqu++GJ56A3/0OBg6sen8RkbpEiaAKkybBNdeEewauvz7uaEREqp8SQSXmzw9jCHXpAmPGaPgIEdk1KRFUYPXqUA1Ur15oF2jePO6IRESyQ43FaWzbBmefDXPnwt/+Bp06xR2RiEj2KBGk8dvfwvjxcP/9cGwi75gQkSRR1VA5zz4Lt9wShpYeMSLuaEREsk+JIMWsWXDuuXD44fDgg2ocFpFkUCKILFsGp54KLVvCX/4CjTUrs4gkhNoIgC1b4Be/gEWLwtDSe+8dd0QiIjVHiYAwnPSrr8Kjj0KPHnFHIyJSsxJfNTRmDNx3H/zqV6F9QEQkaRKdCN55By66CPr2hTvuiDsaEZF4JDYRLFoEp58O7drBU09BA1WSiUhCJbL427AhJIHVq8Ogcm3axB2RiEh8EpcI3OHii+Hdd8PNY127xh2RiEi8Elc19N//HXoH3XRTuCoQEUm6RCWCyZPhyivDjWO/+U3c0YiI1A6JSQSffRZuGuvcGR5/PAwvLSIiCUoETz8d2gdeeAF23z3uaEREao/EJIJrr4UPPoD99os7EhGR2iWricDM+pvZJ2Y238yuq2CfX5jZR2Y228z+L5vxtGuXzaOLiNRNWes+amb1gVHA8UAxMNXMxrv7Ryn7HAD8J9DL3VeY2Z7ZikdERNLL5hVBD2C+u3/m7puAscAp5fa5EBjl7isA3P3bLMYjIiJpZDMRtAO+SlkujtalOhA40Mz+YWbvmFn/LMYjIiJpZPPO4nTze3ma9z8A6AO0B940s1x3X1nmQGbDgeEAHTp0qP5IRUQSLJtXBMXAPinL7YFFafZ5wd03u/vnwCeExFCGu49290J3L9xjjz2yFrCISBJlMxFMBQ4ws05m1ggYDIwvt8/zwDEAZtaWUFX0WRZjEhGRcrKWCNx9CzACmATMAca5+2wzu8XMBka7TQKWmdlHwBTgandflq2YRERkR+Zevtq+dissLPRp06bFHYaISJ1iZtPdvTDdtsTcWSwiIukpEYiIJJwSgYhIwikRiIgknBKBiEjCKRGIiCScEoGISMIpEYiIJJwSgYhIwikRiIgknBKBiEjCKRGIiCScEoGISMIpEYiIJJwSgYhIwikRiIgknBKBiEjCKRGIiCScEoGISMIpEYiIJJwSgYhIwikRiIgknBKBiEjCKRGIiCScEoGISMIpEYiIJJwSgYhIwikRiIgknBKBiEjCKRGIiCScEoGISMIpEYiIJJwSgYhIwikRiIgknBKBiEjCKRGIiCRcVhOBmfU3s0/MbL6ZXZdm+3lmtsTMZkaPC7IZj4iI7KhBtg5sZvWBUcDxQDEw1czGu/tH5XZ9yt1HZCsOERGpXDavCHoA8939M3ffBIwFTsni+1WoqAhycqBevfCzqCiOKEREaqdsJoJ2wFcpy8XRuvLOMLNZZvaMme2T7kBmNtzMppnZtCVLluxUEEVFMHw4fPEFuIefw4crGYiIlMhmIrA067zc8gQgx93zgFeAx9IdyN1Hu3uhuxfuscceOxXE9dfDunVl161bF9aLiEh2E0ExkHqG3x5YlLqDuy9z943R4kPAodUdxJdf7tx6EZGkyWYimAocYGadzKwRMBgYn7qDme2dsjgQmFPdQXTosHPrRUSSJmuJwN23ACOASYQCfpy7zzazW8xsYLTb5WY228z+BVwOnFfdcYwcCc2alV3XrFlYLyIiYO7lq+1rt8LCQp82bdpOvaaoKLQJfPlluBIYORKGDs1SgCIitZCZTXf3wnTbsnYfQW0ydKgKfhGRimiICRGRhFMiEBFJOCUCEZGEUyIQEUk4JQIRkYSrc91HzWwJ8EXccfxAbYGlcQdRi+j72E7fRVn6Psr6Id9HR3dPO0ZPnUsEuwIzm1ZRf94k0vexnb6LsvR9lJWt70NVQyIiCadEICKScEoE8RgddwC1jL6P7fRdlKXvo6ysfB9qIxARSThdEYiIJJwSgYhIwikR1CAz28fMppjZnGgehl/GHVPczKy+mb1vZi/GHUvczKxVNHf3x9HfyBFxxxQnM7si+j/50MyeNLMmccdUU8zsETP71sw+TFn3IzP7u5nNi362rq73UyKoWVuA/3D3g4HDgUvN7JCYY4rbL8nCzHR11H3Ay+7eGcgnwd+LmbUjTFZV6O65QH3CLIdJ8SjQv9y664DJ7n4AMDlarhZKBDXI3Re7+4zo+RrCP3q7eKOKj5m1B04EHo47lriZWQvgKODPAO6+yd1XxhtV7BoATc2sAdCMcnOe78rc/Q1gebnVpwCPRc8fA06trvdTIoiJmeUA3YF3440kVvcC1wDb4g6kFtgXWAKMiarKHjaz3eIOKi7uvhC4E/gSWAyscve/xRtV7PZy98UQTiqBPavrwEoEMTCz5sCzwK/cfXXc8cTBzE4CvnX36XHHUks0AAqAB929O7CWarz0r2ui+u9TgE7AT4DdzOyseKPadSkR1DAza0hIAkXu/pe444lRL2CgmS0AxgLHmtkT8YYUq2Kg2N1LrhCfISSGpDoO+Nzdl7j7ZuAvwE9jjilu35jZ3gDRz2+r68BKBDXIzIxQBzzH3e+OO544uft/unt7d88hNAK+6u6JPeNz96+Br8zsoGhVX+CjGEOK25fA4WbWLPq/6UuCG88j44Fzo+fnAi9U14ETMXl9LdILOBv4wMxmRut+7e4TY4xJao/LgCIzawR8Bpwfczyxcfd3zewZYAaht937JGi4CTN7EugDtDWzYuAm4A/AODP7N0Ki/Hm1vZ+GmBARSTZVDYmIJJwSgYhIwikRiIgknBKBiEjCKRGIiCScEoFIxMy2mtnMlEe13dlrZjmpI0mK1Ca6j0Bku/Xu3i3uIERqmq4IRKpgZgvM7L/M7L3osX+0vqOZTTazWdHPDtH6vczsOTP7V/QoGRqhvpk9FI2x/zczaxrtf7mZfRQdZ2xMH1MSTIlAZLum5aqGBqVsW+3uPYAHCKOmEj1/3N3zgCLg/mj9/cDr7p5PGC9odrT+AGCUu3cBVgJnROuvA7pHx7koWx9OpCK6s1gkYmbfuXvzNOsXAMe6+2fRoIFfu3sbM1sK7O3um6P1i929rZktAdq7+8aUY+QAf48mFcHMrgUauvutZvYy8B3wPPC8u3+X5Y8qUoauCEQy4xU8r2ifdDamPN/K9ja6E4FRwKHA9GgiFpEao0QgkplBKT//GT1/m+3TJw4F3oqeTwYuhtI5mVtUdFAzqwfs4+5TCJP0tAJ2uCoRySadeYhs1zRlVFgI8weXdCFtbGbvEk6ehkTrLgceMbOrCbOLlYwW+ktgdDRK5FZCUlhcwXvWB54ws5aAAfdoikqpaWojEKlC1EZQ6O5L445FJBtUNSQiknC6IhARSThdEYiIJJwSgYhIwikRiIgknBKBiEjCKRGIiCTc/wcP4Jb/NUPYKQAAAABJRU5ErkJggg\u003d\u003d\n"
          },
          "metadata": {
            "needs_background": "light"
          },
          "output_type": "display_data"
        }
      ],
      "source": "plt. clf()\n\nacc \u003d history.history[\"categorical_accuracy\"]\nval_acc \u003d history.history[\"val_categorical_accuracy\"]\n\n# training accuracy blue dotted\nplt.plot(epochs, acc, \"bo\", label\u003d\"Training accuracy\")\n# validation accuracy blue solid\nplt.plot(epochs, val_acc, \"b\", label\u003d\"Validation accuracy\")\n# title, labels, legend\nplt.title(\"Training and Validation Accuracy\")\nplt.xlabel(\"Epochs\")\nplt.ylabel(\"Accuracy\")\nplt.legend()\n\nplt.show()",
      "metadata": {
        "pycharm": {
          "metadata": false,
          "name": "#%%\n",
          "is_executing": false
        }
      }
    },
    {
      "cell_type": "markdown",
      "source": "### Evaluate Test Data",
      "metadata": {
        "pycharm": {
          "metadata": false,
          "name": "#%% md\n"
        }
      }
    },
    {
      "cell_type": "code",
      "execution_count": 10,
      "outputs": [
        {
          "name": "stdout",
          "text": [
            "\r  32/2246 [..............................] - ETA: 0s",
            "\b\b\b\b\b\b\b\b\b\b\b\b\b\b\b\b\b\b\b\b\b\b\b\b\b\b\b\b\b\b\b\b\b\b\b\b\b\b\b\b\b\b\b\b\b\b\b\b\b\b\b\b\r 352/2246 [\u003d\u003d\u003d\u003e..........................] - ETA: 0s",
            "\b\b\b\b\b\b\b\b\b\b\b\b\b\b\b\b\b\b\b\b\b\b\b\b\b\b\b\b\b\b\b\b\b\b\b\b\b\b\b\b\b\b\b\b\b\b\b\b\b\b\b\b\r 672/2246 [\u003d\u003d\u003d\u003d\u003d\u003d\u003d\u003e......................] - ETA: 0s",
            "\b\b\b\b\b\b\b\b\b\b\b\b\b\b\b\b\b\b\b\b\b\b\b\b\b\b\b\b\b\b\b\b\b\b\b\b\b\b\b\b\b\b\b\b\b\b\b\b\b\b\b\b\r 992/2246 [\u003d\u003d\u003d\u003d\u003d\u003d\u003d\u003d\u003d\u003d\u003d\u003d\u003e.................] - ETA: 0s",
            "\b\b\b\b\b\b\b\b\b\b\b\b\b\b\b\b\b\b\b\b\b\b\b\b\b\b\b\b\b\b\b\b\b\b\b\b\b\b\b\b\b\b\b\b\b\b\b\b\b\b\b\b\r1312/2246 [\u003d\u003d\u003d\u003d\u003d\u003d\u003d\u003d\u003d\u003d\u003d\u003d\u003d\u003d\u003d\u003d\u003e.............] - ETA: 0s",
            "\b\b\b\b\b\b\b\b\b\b\b\b\b\b\b\b\b\b\b\b\b\b\b\b\b\b\b\b\b\b\b\b\b\b\b\b\b\b\b\b\b\b\b\b\b\b\b\b\b\b\b\b\r1632/2246 [\u003d\u003d\u003d\u003d\u003d\u003d\u003d\u003d\u003d\u003d\u003d\u003d\u003d\u003d\u003d\u003d\u003d\u003d\u003d\u003d\u003e.........] - ETA: 0s",
            "\b\b\b\b\b\b\b\b\b\b\b\b\b\b\b\b\b\b\b\b\b\b\b\b\b\b\b\b\b\b\b\b\b\b\b\b\b\b\b\b\b\b\b\b\b\b\b\b\b\b\b\b\r1984/2246 [\u003d\u003d\u003d\u003d\u003d\u003d\u003d\u003d\u003d\u003d\u003d\u003d\u003d\u003d\u003d\u003d\u003d\u003d\u003d\u003d\u003d\u003d\u003d\u003d\u003d\u003e....] - ETA: 0s",
            "\b\b\b\b\b\b\b\b\b\b\b\b\b\b\b\b\b\b\b\b\b\b\b\b\b\b\b\b\b\b\b\b\b\b\b\b\b\b\b\b\b\b\b\b\b\b\b\b\b\b\b\b\r2246/2246 [\u003d\u003d\u003d\u003d\u003d\u003d\u003d\u003d\u003d\u003d\u003d\u003d\u003d\u003d\u003d\u003d\u003d\u003d\u003d\u003d\u003d\u003d\u003d\u003d\u003d\u003d\u003d\u003d\u003d\u003d] - 0s 161us/step\n",
            "[1.0101341785115, 0.780053428317008]\n"
          ],
          "output_type": "stream"
        }
      ],
      "source": "results \u003d model.evaluate(x_test, one_hot_test_labels)\nprint(results)",
      "metadata": {
        "pycharm": {
          "metadata": false,
          "name": "#%%\n",
          "is_executing": false
        }
      }
    },
    {
      "cell_type": "markdown",
      "source": "#### Generate Predictions on New Data",
      "metadata": {
        "pycharm": {
          "metadata": false,
          "name": "#%% md\n"
        }
      }
    },
    {
      "cell_type": "code",
      "execution_count": 11,
      "outputs": [
        {
          "name": "stdout",
          "text": [
            "looking at entry: 493\nShape: (46,)\nLargest entry (predicted class): 3\n"
          ],
          "output_type": "stream"
        }
      ],
      "source": "predictions \u003d model.predict(x_test)\n\nrandom_pick \u003d np.random.randint(0, len(x_test)-1)\nprint(\"looking at entry: {}\".format(random_pick))\nprint(\"Shape: {}\".format(predictions[random_pick].shape))\nprint(\"Largest entry (predicted class): {}\".format(np.argmax(predictions[random_pick])))\n",
      "metadata": {
        "pycharm": {
          "metadata": false,
          "name": "#%%\n",
          "is_executing": false
        }
      }
    }
  ],
  "metadata": {
    "language_info": {
      "codemirror_mode": {
        "name": "ipython",
        "version": 2
      },
      "file_extension": ".py",
      "mimetype": "text/x-python",
      "name": "python",
      "nbconvert_exporter": "python",
      "pygments_lexer": "ipython2",
      "version": "2.7.6"
    },
    "kernelspec": {
      "name": "python3",
      "language": "python",
      "display_name": "Python 3"
    },
    "pycharm": {
      "stem_cell": {
        "cell_type": "raw",
        "source": [],
        "metadata": {
          "collapsed": false
        }
      }
    }
  },
  "nbformat": 4,
  "nbformat_minor": 0
}
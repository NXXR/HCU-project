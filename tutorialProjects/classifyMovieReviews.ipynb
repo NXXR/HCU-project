{
  "cells": [
    {
      "cell_type": "markdown",
      "metadata": {
        "pycharm": {
          "metadata": false,
          "name": "#%% md\n"
        }
      },
      "source": [
        "## Classifying Movie Reviews\n",
        "*A binary classification example*\n",
        "### Loading the Dataset\n",
        "Load the dataset and keep the 10.000 most frequently occurring words.\n",
        "The loaded data is split 50/50 into train data and test data."
      ]
    },
    {
      "cell_type": "code",
      "execution_count": 24,
      "metadata": {
        "pycharm": {
          "is_executing": false,
          "name": "#%%\n"
        }
      },
      "outputs": [],
      "source": "# for running on CPU only (Laptop)\nimport os\n# (opt.) force CPU use\nos.environ[\"CUDA_DEVICE_ORDER\"] \u003d \"PCI_BUS_ID\"\nos.environ[\"CUDA_VISIBLE_DEVICES\"] \u003d \"-1\""
    },
    {
      "cell_type": "code",
      "execution_count": 31,
      "metadata": {
        "pycharm": {
          "is_executing": false,
          "name": "#%%\n"
        }
      },
      "outputs": [
        {
          "name": "stdout",
          "text": [
            "? this film was just brilliant casting location scenery story direction everyone\u0027s really suited the part they played and you could just imagine being there robert ? is an amazing actor and now the same being director ? father came from the same scottish island as myself so i loved the fact there was a real connection with this film the witty remarks throughout the film were great it was just brilliant so much that i bought the film as soon as it was released for ? and would recommend it to everyone to watch and the fly fishing was amazing really cried at the end it was so sad and you know what they say if you cry at a film it must have been good and this definitely was also ? to the two little boy\u0027s that played the ? of norman and paul they were just brilliant children are often left out of the ? list i think because the stars that play them all grown up are such a big profile for the whole film but these children are amazing and should be praised for what they have done don\u0027t you think the whole story was so lovely because it was true and was someone\u0027s life after all that was shared with us all\n"
          ],
          "output_type": "stream"
        }
      ],
      "source": [
        "from keras.datasets import imdb\n",
        "\n",
        "# load data and split into training and test (50/50)\n",
        "(train_data, train_labels), (test_data, test_labels) \u003d imdb.load_data(num_words\u003d10000)\n",
        "\n",
        "## decode and display single entry of dataset\n",
        "# get word -\u003e index mapping from dataset\n",
        "word_index \u003d imdb.get_word_index()\n",
        "# reverse to get index -\u003e word mapping\n",
        "reverse_word_index \u003d dict([(value, key) for (key, value) in word_index.items()])\n",
        "# decode review\n",
        "decoded_review \u003d \" \".join(reverse_word_index.get(i - 3, \"?\") for i in train_data[0])\n",
        "#--- index offset because 0, 1, and 2 are reserved for \"padding\", \"start of sequence\" and \"unknown\"\n",
        "print(decoded_review)"
      ]
    },
    {
      "cell_type": "markdown",
      "metadata": {
        "pycharm": {
          "metadata": false,
          "name": "#%% md\n"
        }
      },
      "source": [
        "### Prepare the Data\n",
        "Only Tensors can be fed into a neural network, therefore two options:\n",
        "1. pad lists to same length and turn into tensor of shape (samples, word_indices) e.g. for *Embedding Layer*\n",
        "2. encode lists into vectors of size 10.000 e.g. for *Dense Layer*\n",
        "    - index list of [3, 5] turns into vector with all 0 except for position 3 \u0026 5"
      ]
    },
    {
      "cell_type": "code",
      "execution_count": 32,
      "metadata": {
        "pycharm": {
          "is_executing": false,
          "metadata": false,
          "name": "#%%\n"
        }
      },
      "outputs": [],
      "source": [
        "import numpy as np\n",
        "\n",
        "# function to turn list of indices into vector with indices set to 1 (default 0)\n",
        "def vectorize_sequences(sequences, dimension\u003d10000):\n",
        "    # create matrix of size: number of sequences (reviews) X dimension of sequence (10.000)\n",
        "    results \u003d np.zeros((len(sequences), dimension))\n",
        "    # set indices of sequence to 1\n",
        "    for i, seq in enumerate(sequences):\n",
        "        results[i, seq] \u003d 1\n",
        "    return results\n",
        "\n",
        "# vectorize training and test data\n",
        "x_train \u003d vectorize_sequences(train_data)\n",
        "x_test \u003d vectorize_sequences(test_data)\n",
        "\n",
        "# vectorize labels (already 1 \u003d positive / 0 \u003d negative)\n",
        "y_train \u003d np.asarray(train_labels).astype(\"float32\")\n",
        "y_test \u003d np.asarray(test_labels).astype(\"float32\")"
      ]
    },
    {
      "cell_type": "markdown",
      "metadata": {
        "pycharm": {
          "metadata": false,
          "name": "#%% md\n"
        }
      },
      "source": [
        "### Building the Network\n",
        "The network is proposed as:\n",
        "+ 2 intermediate layers (Dense) with 16 hidden units \u0026 relu activations\n",
        "+ 1 output layer (Dense) with 1 hidden unit \u0026 sigmoid activation"
      ]
    },
    {
      "cell_type": "code",
      "execution_count": 38,
      "metadata": {
        "pycharm": {
          "is_executing": false,
          "metadata": false,
          "name": "#%%\n"
        }
      },
      "outputs": [],
      "source": [
        "from keras import models, layers, optimizers, losses, metrics\n",
        "\n",
        "# create sequential model to add layers\n",
        "model \u003d models.Sequential()\n",
        "# add intermediate layers\n",
        "model.add(layers.Dense(16, activation\u003d\"relu\", input_shape\u003d(10000,)))\n",
        "model.add(layers.Dense(16, activation\u003d\"relu\"))\n",
        "# add output layer\n",
        "model.add(layers.Dense(1, activation\u003d\"sigmoid\"))\n",
        "\n",
        "# compiling model with rmsprop optimizer \u0026 binary_crossentropy loss function\n",
        "model.compile(\n",
        "    # configure optimizer\n",
        "    optimizer\u003doptimizers.RMSprop(lr\u003d0.001),\n",
        "    # configure loss function\n",
        "    loss\u003dlosses.binary_crossentropy,\n",
        "    # configure metrics\n",
        "    metrics\u003d[metrics.binary_accuracy]\n",
        ")"
      ]
    },
    {
      "cell_type": "markdown",
      "metadata": {
        "pycharm": {
          "metadata": false,
          "name": "#%% md\n"
        }
      },
      "source": [
        "### Validate \u0026 Train Model\n",
        "Monitoring accuracy on never before seen images during training, by setting apart validation set from the training data (10.000 entries)"
      ]
    },
    {
      "cell_type": "code",
      "execution_count": 39,
      "metadata": {
        "pycharm": {
          "is_executing": false,
          "metadata": false,
          "name": "#%%\n"
        }
      },
      "outputs": [
        {
          "name": "stdout",
          "text": [
            "Train on 15000 samples, validate on 10000 samples\nEpoch 1/5\n",
            "\r  512/15000 [\u003e.............................] - ETA: 11s - loss: 0.6925 - binary_accuracy: 0.5078",
            "\b\b\b\b\b\b\b\b\b\b\b\b\b\b\b\b\b\b\b\b\b\b\b\b\b\b\b\b\b\b\b\b\b\b\b\b\b\b\b\b\b\b\b\b\b\b\b\b\b\b\b\b\b\b\b\b\b\b\b\b\b\b\b\b\b\b\b\b\b\b\b\b\b\b\b\b\b\b\b\b\b\b\b\b\b\b\b\b\b\b\b\b\b\b\b\b\r 1024/15000 [\u003d\u003e............................] - ETA: 6s - loss: 0.6915 - binary_accuracy: 0.5127 ",
            "\b\b\b\b\b\b\b\b\b\b\b\b\b\b\b\b\b\b\b\b\b\b\b\b\b\b\b\b\b\b\b\b\b\b\b\b\b\b\b\b\b\b\b\b\b\b\b\b\b\b\b\b\b\b\b\b\b\b\b\b\b\b\b\b\b\b\b\b\b\b\b\b\b\b\b\b\b\b\b\b\b\b\b\b\b\b\b\b\b\b\b\b\b\b\b\r 1536/15000 [\u003d\u003d\u003e...........................] - ETA: 4s - loss: 0.6867 - binary_accuracy: 0.5534",
            "\b\b\b\b\b\b\b\b\b\b\b\b\b\b\b\b\b\b\b\b\b\b\b\b\b\b\b\b\b\b\b\b\b\b\b\b\b\b\b\b\b\b\b\b\b\b\b\b\b\b\b\b\b\b\b\b\b\b\b\b\b\b\b\b\b\b\b\b\b\b\b\b\b\b\b\b\b\b\b\b\b\b\b\b\b\b\b\b\b\b\b\b\b\b\b\r 2048/15000 [\u003d\u003d\u003d\u003e..........................] - ETA: 3s - loss: 0.6806 - binary_accuracy: 0.5728",
            "\b\b\b\b\b\b\b\b\b\b\b\b\b\b\b\b\b\b\b\b\b\b\b\b\b\b\b\b\b\b\b\b\b\b\b\b\b\b\b\b\b\b\b\b\b\b\b\b\b\b\b\b\b\b\b\b\b\b\b\b\b\b\b\b\b\b\b\b\b\b\b\b\b\b\b\b\b\b\b\b\b\b\b\b\b\b\b\b\b\b\b\b\b\b\b\r 2560/15000 [\u003d\u003d\u003d\u003d\u003e.........................] - ETA: 2s - loss: 0.6754 - binary_accuracy: 0.5730",
            "\b\b\b\b\b\b\b\b\b\b\b\b\b\b\b\b\b\b\b\b\b\b\b\b\b\b\b\b\b\b\b\b\b\b\b\b\b\b\b\b\b\b\b\b\b\b\b\b\b\b\b\b\b\b\b\b\b\b\b\b\b\b\b\b\b\b\b\b\b\b\b\b\b\b\b\b\b\b\b\b\b\b\b\b\b\b\b\b\b\b\b\b\b\b\b\r 3072/15000 [\u003d\u003d\u003d\u003d\u003d\u003e........................] - ETA: 2s - loss: 0.6664 - binary_accuracy: 0.5866",
            "\b\b\b\b\b\b\b\b\b\b\b\b\b\b\b\b\b\b\b\b\b\b\b\b\b\b\b\b\b\b\b\b\b\b\b\b\b\b\b\b\b\b\b\b\b\b\b\b\b\b\b\b\b\b\b\b\b\b\b\b\b\b\b\b\b\b\b\b\b\b\b\b\b\b\b\b\b\b\b\b\b\b\b\b\b\b\b\b\b\b\b\b\b\b\b\r 3584/15000 [\u003d\u003d\u003d\u003d\u003d\u003d\u003e.......................] - ETA: 2s - loss: 0.6582 - binary_accuracy: 0.6018",
            "\b\b\b\b\b\b\b\b\b\b\b\b\b\b\b\b\b\b\b\b\b\b\b\b\b\b\b\b\b\b\b\b\b\b\b\b\b\b\b\b\b\b\b\b\b\b\b\b\b\b\b\b\b\b\b\b\b\b\b\b\b\b\b\b\b\b\b\b\b\b\b\b\b\b\b\b\b\b\b\b\b\b\b\b\b\b\b\b\b\b\b\b\b\b\b\r 4096/15000 [\u003d\u003d\u003d\u003d\u003d\u003d\u003d\u003e......................] - ETA: 2s - loss: 0.6489 - binary_accuracy: 0.6230",
            "\b\b\b\b\b\b\b\b\b\b\b\b\b\b\b\b\b\b\b\b\b\b\b\b\b\b\b\b\b\b\b\b\b\b\b\b\b\b\b\b\b\b\b\b\b\b\b\b\b\b\b\b\b\b\b\b\b\b\b\b\b\b\b\b\b\b\b\b\b\b\b\b\b\b\b\b\b\b\b\b\b\b\b\b\b\b\b\b\b\b\b\b\b\b\b\r 4608/15000 [\u003d\u003d\u003d\u003d\u003d\u003d\u003d\u003d\u003e.....................] - ETA: 1s - loss: 0.6387 - binary_accuracy: 0.6400",
            "\b\b\b\b\b\b\b\b\b\b\b\b\b\b\b\b\b\b\b\b\b\b\b\b\b\b\b\b\b\b\b\b\b\b\b\b\b\b\b\b\b\b\b\b\b\b\b\b\b\b\b\b\b\b\b\b\b\b\b\b\b\b\b\b\b\b\b\b\b\b\b\b\b\b\b\b\b\b\b\b\b\b\b\b\b\b\b\b\b\b\b\b\b\b\b\r 5120/15000 [\u003d\u003d\u003d\u003d\u003d\u003d\u003d\u003d\u003d\u003e....................] - ETA: 1s - loss: 0.6291 - binary_accuracy: 0.6584",
            "\b\b\b\b\b\b\b\b\b\b\b\b\b\b\b\b\b\b\b\b\b\b\b\b\b\b\b\b\b\b\b\b\b\b\b\b\b\b\b\b\b\b\b\b\b\b\b\b\b\b\b\b\b\b\b\b\b\b\b\b\b\b\b\b\b\b\b\b\b\b\b\b\b\b\b\b\b\b\b\b\b\b\b\b\b\b\b\b\b\b\b\b\b\b\b\r 5632/15000 [\u003d\u003d\u003d\u003d\u003d\u003d\u003d\u003d\u003d\u003d\u003e...................] - ETA: 1s - loss: 0.6196 - binary_accuracy: 0.6731",
            "\b\b\b\b\b\b\b\b\b\b\b\b\b\b\b\b\b\b\b\b\b\b\b\b\b\b\b\b\b\b\b\b\b\b\b\b\b\b\b\b\b\b\b\b\b\b\b\b\b\b\b\b\b\b\b\b\b\b\b\b\b\b\b\b\b\b\b\b\b\b\b\b\b\b\b\b\b\b\b\b\b\b\b\b\b\b\b\b\b\b\b\b\b\b\b\r 6144/15000 [\u003d\u003d\u003d\u003d\u003d\u003d\u003d\u003d\u003d\u003d\u003d\u003e..................] - ETA: 1s - loss: 0.6121 - binary_accuracy: 0.6875",
            "\b\b\b\b\b\b\b\b\b\b\b\b\b\b\b\b\b\b\b\b\b\b\b\b\b\b\b\b\b\b\b\b\b\b\b\b\b\b\b\b\b\b\b\b\b\b\b\b\b\b\b\b\b\b\b\b\b\b\b\b\b\b\b\b\b\b\b\b\b\b\b\b\b\b\b\b\b\b\b\b\b\b\b\b\b\b\b\b\b\b\b\b\b\b\b\r 6656/15000 [\u003d\u003d\u003d\u003d\u003d\u003d\u003d\u003d\u003d\u003d\u003d\u003d\u003e.................] - ETA: 1s - loss: 0.6041 - binary_accuracy: 0.6979",
            "\b\b\b\b\b\b\b\b\b\b\b\b\b\b\b\b\b\b\b\b\b\b\b\b\b\b\b\b\b\b\b\b\b\b\b\b\b\b\b\b\b\b\b\b\b\b\b\b\b\b\b\b\b\b\b\b\b\b\b\b\b\b\b\b\b\b\b\b\b\b\b\b\b\b\b\b\b\b\b\b\b\b\b\b\b\b\b\b\b\b\b\b\b\b\b\r 7168/15000 [\u003d\u003d\u003d\u003d\u003d\u003d\u003d\u003d\u003d\u003d\u003d\u003d\u003d\u003e................] - ETA: 1s - loss: 0.5975 - binary_accuracy: 0.7068",
            "\b\b\b\b\b\b\b\b\b\b\b\b\b\b\b\b\b\b\b\b\b\b\b\b\b\b\b\b\b\b\b\b\b\b\b\b\b\b\b\b\b\b\b\b\b\b\b\b\b\b\b\b\b\b\b\b\b\b\b\b\b\b\b\b\b\b\b\b\b\b\b\b\b\b\b\b\b\b\b\b\b\b\b\b\b\b\b\b\b\b\b\b\b\b\b\r 7680/15000 [\u003d\u003d\u003d\u003d\u003d\u003d\u003d\u003d\u003d\u003d\u003d\u003d\u003d\u003d\u003e...............] - ETA: 1s - loss: 0.5915 - binary_accuracy: 0.7126",
            "\b\b\b\b\b\b\b\b\b\b\b\b\b\b\b\b\b\b\b\b\b\b\b\b\b\b\b\b\b\b\b\b\b\b\b\b\b\b\b\b\b\b\b\b\b\b\b\b\b\b\b\b\b\b\b\b\b\b\b\b\b\b\b\b\b\b\b\b\b\b\b\b\b\b\b\b\b\b\b\b\b\b\b\b\b\b\b\b\b\b\b\b\b\b\b\r 8192/15000 [\u003d\u003d\u003d\u003d\u003d\u003d\u003d\u003d\u003d\u003d\u003d\u003d\u003d\u003d\u003d\u003e..............] - ETA: 1s - loss: 0.5857 - binary_accuracy: 0.7205",
            "\b\b\b\b\b\b\b\b\b\b\b\b\b\b\b\b\b\b\b\b\b\b\b\b\b\b\b\b\b\b\b\b\b\b\b\b\b\b\b\b\b\b\b\b\b\b\b\b\b\b\b\b\b\b\b\b\b\b\b\b\b\b\b\b\b\b\b\b\b\b\b\b\b\b\b\b\b\b\b\b\b\b\b\b\b\b\b\b\b\b\b\b\b\b\b",
            "\r 8704/15000 [\u003d\u003d\u003d\u003d\u003d\u003d\u003d\u003d\u003d\u003d\u003d\u003d\u003d\u003d\u003d\u003d\u003e.............] - ETA: 0s - loss: 0.5789 - binary_accuracy: 0.7285",
            "\b\b\b\b\b\b\b\b\b\b\b\b\b\b\b\b\b\b\b\b\b\b\b\b\b\b\b\b\b\b\b\b\b\b\b\b\b\b\b\b\b\b\b\b\b\b\b\b\b\b\b\b\b\b\b\b\b\b\b\b\b\b\b\b\b\b\b\b\b\b\b\b\b\b\b\b\b\b\b\b\b\b\b\b\b\b\b\b\b\b\b\b\b\b\b\r 9216/15000 [\u003d\u003d\u003d\u003d\u003d\u003d\u003d\u003d\u003d\u003d\u003d\u003d\u003d\u003d\u003d\u003d\u003d\u003e............] - ETA: 0s - loss: 0.5727 - binary_accuracy: 0.7346",
            "\b\b\b\b\b\b\b\b\b\b\b\b\b\b\b\b\b\b\b\b\b\b\b\b\b\b\b\b\b\b\b\b\b\b\b\b\b\b\b\b\b\b\b\b\b\b\b\b\b\b\b\b\b\b\b\b\b\b\b\b\b\b\b\b\b\b\b\b\b\b\b\b\b\b\b\b\b\b\b\b\b\b\b\b\b\b\b\b\b\b\b\b\b\b\b\r 9728/15000 [\u003d\u003d\u003d\u003d\u003d\u003d\u003d\u003d\u003d\u003d\u003d\u003d\u003d\u003d\u003d\u003d\u003d\u003d\u003e...........] - ETA: 0s - loss: 0.5670 - binary_accuracy: 0.7390",
            "\b\b\b\b\b\b\b\b\b\b\b\b\b\b\b\b\b\b\b\b\b\b\b\b\b\b\b\b\b\b\b\b\b\b\b\b\b\b\b\b\b\b\b\b\b\b\b\b\b\b\b\b\b\b\b\b\b\b\b\b\b\b\b\b\b\b\b\b\b\b\b\b\b\b\b\b\b\b\b\b\b\b\b\b\b\b\b\b\b\b\b\b\b\b\b\r10240/15000 [\u003d\u003d\u003d\u003d\u003d\u003d\u003d\u003d\u003d\u003d\u003d\u003d\u003d\u003d\u003d\u003d\u003d\u003d\u003d\u003e..........] - ETA: 0s - loss: 0.5617 - binary_accuracy: 0.7442",
            "\b\b\b\b\b\b\b\b\b\b\b\b\b\b\b\b\b\b\b\b\b\b\b\b\b\b\b\b\b\b\b\b\b\b\b\b\b\b\b\b\b\b\b\b\b\b\b\b\b\b\b\b\b\b\b\b\b\b\b\b\b\b\b\b\b\b\b\b\b\b\b\b\b\b\b\b\b\b\b\b\b\b\b\b\b\b\b\b\b\b\b\b\b\b\b\r10752/15000 [\u003d\u003d\u003d\u003d\u003d\u003d\u003d\u003d\u003d\u003d\u003d\u003d\u003d\u003d\u003d\u003d\u003d\u003d\u003d\u003d\u003e.........] - ETA: 0s - loss: 0.5562 - binary_accuracy: 0.7489",
            "\b\b\b\b\b\b\b\b\b\b\b\b\b\b\b\b\b\b\b\b\b\b\b\b\b\b\b\b\b\b\b\b\b\b\b\b\b\b\b\b\b\b\b\b\b\b\b\b\b\b\b\b\b\b\b\b\b\b\b\b\b\b\b\b\b\b\b\b\b\b\b\b\b\b\b\b\b\b\b\b\b\b\b\b\b\b\b\b\b\b\b\b\b\b\b\r11264/15000 [\u003d\u003d\u003d\u003d\u003d\u003d\u003d\u003d\u003d\u003d\u003d\u003d\u003d\u003d\u003d\u003d\u003d\u003d\u003d\u003d\u003d\u003e........] - ETA: 0s - loss: 0.5513 - binary_accuracy: 0.7537",
            "\b\b\b\b\b\b\b\b\b\b\b\b\b\b\b\b\b\b\b\b\b\b\b\b\b\b\b\b\b\b\b\b\b\b\b\b\b\b\b\b\b\b\b\b\b\b\b\b\b\b\b\b\b\b\b\b\b\b\b\b\b\b\b\b\b\b\b\b\b\b\b\b\b\b\b\b\b\b\b\b\b\b\b\b\b\b\b\b\b\b\b\b\b\b\b\r11776/15000 [\u003d\u003d\u003d\u003d\u003d\u003d\u003d\u003d\u003d\u003d\u003d\u003d\u003d\u003d\u003d\u003d\u003d\u003d\u003d\u003d\u003d\u003d\u003e.......] - ETA: 0s - loss: 0.5462 - binary_accuracy: 0.7574",
            "\b\b\b\b\b\b\b\b\b\b\b\b\b\b\b\b\b\b\b\b\b\b\b\b\b\b\b\b\b\b\b\b\b\b\b\b\b\b\b\b\b\b\b\b\b\b\b\b\b\b\b\b\b\b\b\b\b\b\b\b\b\b\b\b\b\b\b\b\b\b\b\b\b\b\b\b\b\b\b\b\b\b\b\b\b\b\b\b\b\b\b\b\b\b\b\r12288/15000 [\u003d\u003d\u003d\u003d\u003d\u003d\u003d\u003d\u003d\u003d\u003d\u003d\u003d\u003d\u003d\u003d\u003d\u003d\u003d\u003d\u003d\u003d\u003d\u003e......] - ETA: 0s - loss: 0.5414 - binary_accuracy: 0.7611",
            "\b\b\b\b\b\b\b\b\b\b\b\b\b\b\b\b\b\b\b\b\b\b\b\b\b\b\b\b\b\b\b\b\b\b\b\b\b\b\b\b\b\b\b\b\b\b\b\b\b\b\b\b\b\b\b\b\b\b\b\b\b\b\b\b\b\b\b\b\b\b\b\b\b\b\b\b\b\b\b\b\b\b\b\b\b\b\b\b\b\b\b\b\b\b\b\r12800/15000 [\u003d\u003d\u003d\u003d\u003d\u003d\u003d\u003d\u003d\u003d\u003d\u003d\u003d\u003d\u003d\u003d\u003d\u003d\u003d\u003d\u003d\u003d\u003d\u003d\u003e.....] - ETA: 0s - loss: 0.5365 - binary_accuracy: 0.7650",
            "\b\b\b\b\b\b\b\b\b\b\b\b\b\b\b\b\b\b\b\b\b\b\b\b\b\b\b\b\b\b\b\b\b\b\b\b\b\b\b\b\b\b\b\b\b\b\b\b\b\b\b\b\b\b\b\b\b\b\b\b\b\b\b\b\b\b\b\b\b\b\b\b\b\b\b\b\b\b\b\b\b\b\b\b\b\b\b\b\b\b\b\b\b\b\b\r13312/15000 [\u003d\u003d\u003d\u003d\u003d\u003d\u003d\u003d\u003d\u003d\u003d\u003d\u003d\u003d\u003d\u003d\u003d\u003d\u003d\u003d\u003d\u003d\u003d\u003d\u003d\u003e....] - ETA: 0s - loss: 0.5321 - binary_accuracy: 0.7677",
            "\b\b\b\b\b\b\b\b\b\b\b\b\b\b\b\b\b\b\b\b\b\b\b\b\b\b\b\b\b\b\b\b\b\b\b\b\b\b\b\b\b\b\b\b\b\b\b\b\b\b\b\b\b\b\b\b\b\b\b\b\b\b\b\b\b\b\b\b\b\b\b\b\b\b\b\b\b\b\b\b\b\b\b\b\b\b\b\b\b\b\b\b\b\b\b\r13824/15000 [\u003d\u003d\u003d\u003d\u003d\u003d\u003d\u003d\u003d\u003d\u003d\u003d\u003d\u003d\u003d\u003d\u003d\u003d\u003d\u003d\u003d\u003d\u003d\u003d\u003d\u003d\u003e...] - ETA: 0s - loss: 0.5269 - binary_accuracy: 0.7711",
            "\b\b\b\b\b\b\b\b\b\b\b\b\b\b\b\b\b\b\b\b\b\b\b\b\b\b\b\b\b\b\b\b\b\b\b\b\b\b\b\b\b\b\b\b\b\b\b\b\b\b\b\b\b\b\b\b\b\b\b\b\b\b\b\b\b\b\b\b\b\b\b\b\b\b\b\b\b\b\b\b\b\b\b\b\b\b\b\b\b\b\b\b\b\b\b\r14336/15000 [\u003d\u003d\u003d\u003d\u003d\u003d\u003d\u003d\u003d\u003d\u003d\u003d\u003d\u003d\u003d\u003d\u003d\u003d\u003d\u003d\u003d\u003d\u003d\u003d\u003d\u003d\u003d\u003e..] - ETA: 0s - loss: 0.5224 - binary_accuracy: 0.7748",
            "\b\b\b\b\b\b\b\b\b\b\b\b\b\b\b\b\b\b\b\b\b\b\b\b\b\b\b\b\b\b\b\b\b\b\b\b\b\b\b\b\b\b\b\b\b\b\b\b\b\b\b\b\b\b\b\b\b\b\b\b\b\b\b\b\b\b\b\b\b\b\b\b\b\b\b\b\b\b\b\b\b\b\b\b\b\b\b\b\b\b\b\b\b\b\b\r14848/15000 [\u003d\u003d\u003d\u003d\u003d\u003d\u003d\u003d\u003d\u003d\u003d\u003d\u003d\u003d\u003d\u003d\u003d\u003d\u003d\u003d\u003d\u003d\u003d\u003d\u003d\u003d\u003d\u003d\u003e.] - ETA: 0s - loss: 0.5172 - binary_accuracy: 0.7789",
            "\b\b\b\b\b\b\b\b\b\b\b\b\b\b\b\b\b\b\b\b\b\b\b\b\b\b\b\b\b\b\b\b\b\b\b\b\b\b\b\b\b\b\b\b\b\b\b\b\b\b\b\b\b\b\b\b\b\b\b\b\b\b\b\b\b\b\b\b\b\b\b\b\b\b\b\b\b\b\b\b\b\b\b\b\b\b\b\b\b\b\b\b\b\b\b\r15000/15000 [\u003d\u003d\u003d\u003d\u003d\u003d\u003d\u003d\u003d\u003d\u003d\u003d\u003d\u003d\u003d\u003d\u003d\u003d\u003d\u003d\u003d\u003d\u003d\u003d\u003d\u003d\u003d\u003d\u003d\u003d] - 3s 198us/step - loss: 0.5156 - binary_accuracy: 0.7803 - val_loss: 0.3926 - val_binary_accuracy: 0.8620\n",
            "Epoch 2/5\n\r  512/15000 [\u003e.............................] - ETA: 1s - loss: 0.3399 - binary_accuracy: 0.9043",
            "\b\b\b\b\b\b\b\b\b\b\b\b\b\b\b\b\b\b\b\b\b\b\b\b\b\b\b\b\b\b\b\b\b\b\b\b\b\b\b\b\b\b\b\b\b\b\b\b\b\b\b\b\b\b\b\b\b\b\b\b\b\b\b\b\b\b\b\b\b\b\b\b\b\b\b\b\b\b\b\b\b\b\b\b\b\b\b\b\b\b\b\b\b\b\b\r 1024/15000 [\u003d\u003e............................] - ETA: 1s - loss: 0.3389 - binary_accuracy: 0.8984",
            "\b\b\b\b\b\b\b\b\b\b\b\b\b\b\b\b\b\b\b\b\b\b\b\b\b\b\b\b\b\b\b\b\b\b\b\b\b\b\b\b\b\b\b\b\b\b\b\b\b\b\b\b\b\b\b\b\b\b\b\b\b\b\b\b\b\b\b\b\b\b\b\b\b\b\b\b\b\b\b\b\b\b\b\b\b\b\b\b\b\b\b\b\b\b\b\r 2048/15000 [\u003d\u003d\u003d\u003e..........................] - ETA: 1s - loss: 0.3435 - binary_accuracy: 0.8960",
            "\b\b\b\b\b\b\b\b\b\b\b\b\b\b\b\b\b\b\b\b\b\b\b\b\b\b\b\b\b\b\b\b\b\b\b\b\b\b\b\b\b\b\b\b\b\b\b\b\b\b\b\b\b\b\b\b\b\b\b\b\b\b\b\b\b\b\b\b\b\b\b\b\b\b\b\b\b\b\b\b\b\b\b\b\b\b\b\b\b\b\b\b\b\b\b\r 2560/15000 [\u003d\u003d\u003d\u003d\u003e.........................] - ETA: 1s - loss: 0.3382 - binary_accuracy: 0.8996",
            "\b\b\b\b\b\b\b\b\b\b\b\b\b\b\b\b\b\b\b\b\b\b\b\b\b\b\b\b\b\b\b\b\b\b\b\b\b\b\b\b\b\b\b\b\b\b\b\b\b\b\b\b\b\b\b\b\b\b\b\b\b\b\b\b\b\b\b\b\b\b\b\b\b\b\b\b\b\b\b\b\b\b\b\b\b\b\b\b\b\b\b\b\b\b\b\r 3072/15000 [\u003d\u003d\u003d\u003d\u003d\u003e........................] - ETA: 1s - loss: 0.3358 - binary_accuracy: 0.8997",
            "\b\b\b\b\b\b\b\b\b\b\b\b\b\b\b\b\b\b\b\b\b\b\b\b\b\b\b\b\b\b\b\b\b\b\b\b\b\b\b\b\b\b\b\b\b\b\b\b\b\b\b\b\b\b\b\b\b\b\b\b\b\b\b\b\b\b\b\b\b\b\b\b\b\b\b\b\b\b\b\b\b\b\b\b\b\b\b\b\b\b\b\b\b\b\b\r 3584/15000 [\u003d\u003d\u003d\u003d\u003d\u003d\u003e.......................] - ETA: 1s - loss: 0.3342 - binary_accuracy: 0.9015",
            "\b\b\b\b\b\b\b\b\b\b\b\b\b\b\b\b\b\b\b\b\b\b\b\b\b\b\b\b\b\b\b\b\b\b\b\b\b\b\b\b\b\b\b\b\b\b\b\b\b\b\b\b\b\b\b\b\b\b\b\b\b\b\b\b\b\b\b\b\b\b\b\b\b\b\b\b\b\b\b\b\b\b\b\b\b\b\b\b\b\b\b\b\b\b\b\r 4096/15000 [\u003d\u003d\u003d\u003d\u003d\u003d\u003d\u003e......................] - ETA: 1s - loss: 0.3368 - binary_accuracy: 0.8997",
            "\b\b\b\b\b\b\b\b\b\b\b\b\b\b\b\b\b\b\b\b\b\b\b\b\b\b\b\b\b\b\b\b\b\b\b\b\b\b\b\b\b\b\b\b\b\b\b\b\b\b\b\b\b\b\b\b\b\b\b\b\b\b\b\b\b\b\b\b\b\b\b\b\b\b\b\b\b\b\b\b\b\b\b\b\b\b\b\b\b\b\b\b\b\b\b\r 4608/15000 [\u003d\u003d\u003d\u003d\u003d\u003d\u003d\u003d\u003e.....................] - ETA: 1s - loss: 0.3341 - binary_accuracy: 0.8997",
            "\b\b\b\b\b\b\b\b\b\b\b\b\b\b\b\b\b\b\b\b\b\b\b\b\b\b\b\b\b\b\b\b\b\b\b\b\b\b\b\b\b\b\b\b\b\b\b\b\b\b\b\b\b\b\b\b\b\b\b\b\b\b\b\b\b\b\b\b\b\b\b\b\b\b\b\b\b\b\b\b\b\b\b\b\b\b\b\b\b\b\b\b\b\b\b\r 5120/15000 [\u003d\u003d\u003d\u003d\u003d\u003d\u003d\u003d\u003d\u003e....................] - ETA: 0s - loss: 0.3306 - binary_accuracy: 0.9002",
            "\b\b\b\b\b\b\b\b\b\b\b\b\b\b\b\b\b\b\b\b\b\b\b\b\b\b\b\b\b\b\b\b\b\b\b\b\b\b\b\b\b\b\b\b\b\b\b\b\b\b\b\b\b\b\b\b\b\b\b\b\b\b\b\b\b\b\b\b\b\b\b\b\b\b\b\b\b\b\b\b\b\b\b\b\b\b\b\b\b\b\b\b\b\b\b\r 5632/15000 [\u003d\u003d\u003d\u003d\u003d\u003d\u003d\u003d\u003d\u003d\u003e...................] - ETA: 0s - loss: 0.3297 - binary_accuracy: 0.8990",
            "\b\b\b\b\b\b\b\b\b\b\b\b\b\b\b\b\b\b\b\b\b\b\b\b\b\b\b\b\b\b\b\b\b\b\b\b\b\b\b\b\b\b\b\b\b\b\b\b\b\b\b\b\b\b\b\b\b\b\b\b\b\b\b\b\b\b\b\b\b\b\b\b\b\b\b\b\b\b\b\b\b\b\b\b\b\b\b\b\b\b\b\b\b\b\b\r 6144/15000 [\u003d\u003d\u003d\u003d\u003d\u003d\u003d\u003d\u003d\u003d\u003d\u003e..................] - ETA: 0s - loss: 0.3294 - binary_accuracy: 0.8979",
            "\b\b\b\b\b\b\b\b\b\b\b\b\b\b\b\b\b\b\b\b\b\b\b\b\b\b\b\b\b\b\b\b\b\b\b\b\b\b\b\b\b\b\b\b\b\b\b\b\b\b\b\b\b\b\b\b\b\b\b\b\b\b\b\b\b\b\b\b\b\b\b\b\b\b\b\b\b\b\b\b\b\b\b\b\b\b\b\b\b\b\b\b\b\b\b\r 6656/15000 [\u003d\u003d\u003d\u003d\u003d\u003d\u003d\u003d\u003d\u003d\u003d\u003d\u003e.................] - ETA: 0s - loss: 0.3278 - binary_accuracy: 0.8983",
            "\b\b\b\b\b\b\b\b\b\b\b\b\b\b\b\b\b\b\b\b\b\b\b\b\b\b\b\b\b\b\b\b\b\b\b\b\b\b\b\b\b\b\b\b\b\b\b\b\b\b\b\b\b\b\b\b\b\b\b\b\b\b\b\b\b\b\b\b\b\b\b\b\b\b\b\b\b\b\b\b\b\b\b\b\b\b\b\b\b\b\b\b\b\b\b\r 7168/15000 [\u003d\u003d\u003d\u003d\u003d\u003d\u003d\u003d\u003d\u003d\u003d\u003d\u003d\u003e................] - ETA: 0s - loss: 0.3261 - binary_accuracy: 0.8984",
            "\b\b\b\b\b\b\b\b\b\b\b\b\b\b\b\b\b\b\b\b\b\b\b\b\b\b\b\b\b\b\b\b\b\b\b\b\b\b\b\b\b\b\b\b\b\b\b\b\b\b\b\b\b\b\b\b\b\b\b\b\b\b\b\b\b\b\b\b\b\b\b\b\b\b\b\b\b\b\b\b\b\b\b\b\b\b\b\b\b\b\b\b\b\b\b\r 7680/15000 [\u003d\u003d\u003d\u003d\u003d\u003d\u003d\u003d\u003d\u003d\u003d\u003d\u003d\u003d\u003e...............] - ETA: 0s - loss: 0.3248 - binary_accuracy: 0.8992",
            "\b\b\b\b\b\b\b\b\b\b\b\b\b\b\b\b\b\b\b\b\b\b\b\b\b\b\b\b\b\b\b\b\b\b\b\b\b\b\b\b\b\b\b\b\b\b\b\b\b\b\b\b\b\b\b\b\b\b\b\b\b\b\b\b\b\b\b\b\b\b\b\b\b\b\b\b\b\b\b\b\b\b\b\b\b\b\b\b\b\b\b\b\b\b\b\r 8192/15000 [\u003d\u003d\u003d\u003d\u003d\u003d\u003d\u003d\u003d\u003d\u003d\u003d\u003d\u003d\u003d\u003e..............] - ETA: 0s - loss: 0.3220 - binary_accuracy: 0.9008",
            "\b\b\b\b\b\b\b\b\b\b\b\b\b\b\b\b\b\b\b\b\b\b\b\b\b\b\b\b\b\b\b\b\b\b\b\b\b\b\b\b\b\b\b\b\b\b\b\b\b\b\b\b\b\b\b\b\b\b\b\b\b\b\b\b\b\b\b\b\b\b\b\b\b\b\b\b\b\b\b\b\b\b\b\b\b\b\b\b\b\b\b\b\b\b\b\r 9216/15000 [\u003d\u003d\u003d\u003d\u003d\u003d\u003d\u003d\u003d\u003d\u003d\u003d\u003d\u003d\u003d\u003d\u003d\u003e............] - ETA: 0s - loss: 0.3186 - binary_accuracy: 0.9013",
            "\b\b\b\b\b\b\b\b\b\b\b\b\b\b\b\b\b\b\b\b\b\b\b\b\b\b\b\b\b\b\b\b\b\b\b\b\b\b\b\b\b\b\b\b\b\b\b\b\b\b\b\b\b\b\b\b\b\b\b\b\b\b\b\b\b\b\b\b\b\b\b\b\b\b\b\b\b\b\b\b\b\b\b\b\b\b\b\b\b\b\b\b\b\b\b\r 9728/15000 [\u003d\u003d\u003d\u003d\u003d\u003d\u003d\u003d\u003d\u003d\u003d\u003d\u003d\u003d\u003d\u003d\u003d\u003d\u003e...........] - ETA: 0s - loss: 0.3180 - binary_accuracy: 0.9011",
            "\b\b\b\b\b\b\b\b\b\b\b\b\b\b\b\b\b\b\b\b\b\b\b\b\b\b\b\b\b\b\b\b\b\b\b\b\b\b\b\b\b\b\b\b\b\b\b\b\b\b\b\b\b\b\b\b\b\b\b\b\b\b\b\b\b\b\b\b\b\b\b\b\b\b\b\b\b\b\b\b\b\b\b\b\b\b\b\b\b\b\b\b\b\b\b\r10240/15000 [\u003d\u003d\u003d\u003d\u003d\u003d\u003d\u003d\u003d\u003d\u003d\u003d\u003d\u003d\u003d\u003d\u003d\u003d\u003d\u003e..........] - ETA: 0s - loss: 0.3165 - binary_accuracy: 0.9010",
            "\b\b\b\b\b\b\b\b\b\b\b\b\b\b\b\b\b\b\b\b\b\b\b\b\b\b\b\b\b\b\b\b\b\b\b\b\b\b\b\b\b\b\b\b\b\b\b\b\b\b\b\b\b\b\b\b\b\b\b\b\b\b\b\b\b\b\b\b\b\b\b\b\b\b\b\b\b\b\b\b\b\b\b\b\b\b\b\b\b\b\b\b\b\b\b\r10752/15000 [\u003d\u003d\u003d\u003d\u003d\u003d\u003d\u003d\u003d\u003d\u003d\u003d\u003d\u003d\u003d\u003d\u003d\u003d\u003d\u003d\u003e.........] - ETA: 0s - loss: 0.3151 - binary_accuracy: 0.9014",
            "\b\b\b\b\b\b\b\b\b\b\b\b\b\b\b\b\b\b\b\b\b\b\b\b\b\b\b\b\b\b\b\b\b\b\b\b\b\b\b\b\b\b\b\b\b\b\b\b\b\b\b\b\b\b\b\b\b\b\b\b\b\b\b\b\b\b\b\b\b\b\b\b\b\b\b\b\b\b\b\b\b\b\b\b\b\b\b\b\b\b\b\b\b\b\b\r11776/15000 [\u003d\u003d\u003d\u003d\u003d\u003d\u003d\u003d\u003d\u003d\u003d\u003d\u003d\u003d\u003d\u003d\u003d\u003d\u003d\u003d\u003d\u003d\u003e.......] - ETA: 0s - loss: 0.3112 - binary_accuracy: 0.9021",
            "\b\b\b\b\b\b\b\b\b\b\b\b\b\b\b\b\b\b\b\b\b\b\b\b\b\b\b\b\b\b\b\b\b\b\b\b\b\b\b\b\b\b\b\b\b\b\b\b\b\b\b\b\b\b\b\b\b\b\b\b\b\b\b\b\b\b\b\b\b\b\b\b\b\b\b\b\b\b\b\b\b\b\b\b\b\b\b\b\b\b\b\b\b\b\b\r12288/15000 [\u003d\u003d\u003d\u003d\u003d\u003d\u003d\u003d\u003d\u003d\u003d\u003d\u003d\u003d\u003d\u003d\u003d\u003d\u003d\u003d\u003d\u003d\u003d\u003e......] - ETA: 0s - loss: 0.3097 - binary_accuracy: 0.9022",
            "\b\b\b\b\b\b\b\b\b\b\b\b\b\b\b\b\b\b\b\b\b\b\b\b\b\b\b\b\b\b\b\b\b\b\b\b\b\b\b\b\b\b\b\b\b\b\b\b\b\b\b\b\b\b\b\b\b\b\b\b\b\b\b\b\b\b\b\b\b\b\b\b\b\b\b\b\b\b\b\b\b\b\b\b\b\b\b\b\b\b\b\b\b\b\b\r12800/15000 [\u003d\u003d\u003d\u003d\u003d\u003d\u003d\u003d\u003d\u003d\u003d\u003d\u003d\u003d\u003d\u003d\u003d\u003d\u003d\u003d\u003d\u003d\u003d\u003d\u003e.....] - ETA: 0s - loss: 0.3088 - binary_accuracy: 0.9027",
            "\b\b\b\b\b\b\b\b\b\b\b\b\b\b\b\b\b\b\b\b\b\b\b\b\b\b\b\b\b\b\b\b\b\b\b\b\b\b\b\b\b\b\b\b\b\b\b\b\b\b\b\b\b\b\b\b\b\b\b\b\b\b\b\b\b\b\b\b\b\b\b\b\b\b\b\b\b\b\b\b\b\b\b\b\b\b\b\b\b\b\b\b\b\b\b\r13312/15000 [\u003d\u003d\u003d\u003d\u003d\u003d\u003d\u003d\u003d\u003d\u003d\u003d\u003d\u003d\u003d\u003d\u003d\u003d\u003d\u003d\u003d\u003d\u003d\u003d\u003d\u003e....] - ETA: 0s - loss: 0.3077 - binary_accuracy: 0.9030",
            "\b\b\b\b\b\b\b\b\b\b\b\b\b\b\b\b\b\b\b\b\b\b\b\b\b\b\b\b\b\b\b\b\b\b\b\b\b\b\b\b\b\b\b\b\b\b\b\b\b\b\b\b\b\b\b\b\b\b\b\b\b\b\b\b\b\b\b\b\b\b\b\b\b\b\b\b\b\b\b\b\b\b\b\b\b\b\b\b\b\b\b\b\b\b\b\r13824/15000 [\u003d\u003d\u003d\u003d\u003d\u003d\u003d\u003d\u003d\u003d\u003d\u003d\u003d\u003d\u003d\u003d\u003d\u003d\u003d\u003d\u003d\u003d\u003d\u003d\u003d\u003d\u003e...] - ETA: 0s - loss: 0.3060 - binary_accuracy: 0.9035",
            "\b\b\b\b\b\b\b\b\b\b\b\b\b\b\b\b\b\b\b\b\b\b\b\b\b\b\b\b\b\b\b\b\b\b\b\b\b\b\b\b\b\b\b\b\b\b\b\b\b\b\b\b\b\b\b\b\b\b\b\b\b\b\b\b\b\b\b\b\b\b\b\b\b\b\b\b\b\b\b\b\b\b\b\b\b\b\b\b\b\b\b\b\b\b\b\r14336/15000 [\u003d\u003d\u003d\u003d\u003d\u003d\u003d\u003d\u003d\u003d\u003d\u003d\u003d\u003d\u003d\u003d\u003d\u003d\u003d\u003d\u003d\u003d\u003d\u003d\u003d\u003d\u003d\u003e..] - ETA: 0s - loss: 0.3039 - binary_accuracy: 0.9041",
            "\b\b\b\b\b\b\b\b\b\b\b\b\b\b\b\b\b\b\b\b\b\b\b\b\b\b\b\b\b\b\b\b\b\b\b\b\b\b\b\b\b\b\b\b\b\b\b\b\b\b\b\b\b\b\b\b\b\b\b\b\b\b\b\b\b\b\b\b\b\b\b\b\b\b\b\b\b\b\b\b\b\b\b\b\b\b\b\b\b\b\b\b\b\b\b\r14848/15000 [\u003d\u003d\u003d\u003d\u003d\u003d\u003d\u003d\u003d\u003d\u003d\u003d\u003d\u003d\u003d\u003d\u003d\u003d\u003d\u003d\u003d\u003d\u003d\u003d\u003d\u003d\u003d\u003d\u003e.] - ETA: 0s - loss: 0.3023 - binary_accuracy: 0.9047",
            "\b\b\b\b\b\b\b\b\b\b\b\b\b\b\b\b\b\b\b\b\b\b\b\b\b\b\b\b\b\b\b\b\b\b\b\b\b\b\b\b\b\b\b\b\b\b\b\b\b\b\b\b\b\b\b\b\b\b\b\b\b\b\b\b\b\b\b\b\b\b\b\b\b\b\b\b\b\b\b\b\b\b\b\b\b\b\b\b\b\b\b\b\b\b\b\r15000/15000 [\u003d\u003d\u003d\u003d\u003d\u003d\u003d\u003d\u003d\u003d\u003d\u003d\u003d\u003d\u003d\u003d\u003d\u003d\u003d\u003d\u003d\u003d\u003d\u003d\u003d\u003d\u003d\u003d\u003d\u003d] - 2s 163us/step - loss: 0.3023 - binary_accuracy: 0.9046 - val_loss: 0.3022 - val_binary_accuracy: 0.8877\n",
            "Epoch 3/5\n\r  512/15000 [\u003e.............................] - ETA: 1s - loss: 0.2188 - binary_accuracy: 0.9336",
            "\b\b\b\b\b\b\b\b\b\b\b\b\b\b\b\b\b\b\b\b\b\b\b\b\b\b\b\b\b\b\b\b\b\b\b\b\b\b\b\b\b\b\b\b\b\b\b\b\b\b\b\b\b\b\b\b\b\b\b\b\b\b\b\b\b\b\b\b\b\b\b\b\b\b\b\b\b\b\b\b\b\b\b\b\b\b\b\b\b\b\b\b\b\b\b\r 1024/15000 [\u003d\u003e............................] - ETA: 1s - loss: 0.2245 - binary_accuracy: 0.9326",
            "\b\b\b\b\b\b\b\b\b\b\b\b\b\b\b\b\b\b\b\b\b\b\b\b\b\b\b\b\b\b\b\b\b\b\b\b\b\b\b\b\b\b\b\b\b\b\b\b\b\b\b\b\b\b\b\b\b\b\b\b\b\b\b\b\b\b\b\b\b\b\b\b\b\b\b\b\b\b\b\b\b\b\b\b\b\b\b\b\b\b\b\b\b\b\b\r 2048/15000 [\u003d\u003d\u003d\u003e..........................] - ETA: 1s - loss: 0.2231 - binary_accuracy: 0.9360",
            "\b\b\b\b\b\b\b\b\b\b\b\b\b\b\b\b\b\b\b\b\b\b\b\b\b\b\b\b\b\b\b\b\b\b\b\b\b\b\b\b\b\b\b\b\b\b\b\b\b\b\b\b\b\b\b\b\b\b\b\b\b\b\b\b\b\b\b\b\b\b\b\b\b\b\b\b\b\b\b\b\b\b\b\b\b\b\b\b\b\b\b\b\b\b\b\r 2560/15000 [\u003d\u003d\u003d\u003d\u003e.........................] - ETA: 1s - loss: 0.2205 - binary_accuracy: 0.9383",
            "\b\b\b\b\b\b\b\b\b\b\b\b\b\b\b\b\b\b\b\b\b\b\b\b\b\b\b\b\b\b\b\b\b\b\b\b\b\b\b\b\b\b\b\b\b\b\b\b\b\b\b\b\b\b\b\b\b\b\b\b\b\b\b\b\b\b\b\b\b\b\b\b\b\b\b\b\b\b\b\b\b\b\b\b\b\b\b\b\b\b\b\b\b\b\b\r 3072/15000 [\u003d\u003d\u003d\u003d\u003d\u003e........................] - ETA: 1s - loss: 0.2177 - binary_accuracy: 0.9401",
            "\b\b\b\b\b\b\b\b\b\b\b\b\b\b\b\b\b\b\b\b\b\b\b\b\b\b\b\b\b\b\b\b\b\b\b\b\b\b\b\b\b\b\b\b\b\b\b\b\b\b\b\b\b\b\b\b\b\b\b\b\b\b\b\b\b\b\b\b\b\b\b\b\b\b\b\b\b\b\b\b\b\b\b\b\b\b\b\b\b\b\b\b\b\b\b\r 3584/15000 [\u003d\u003d\u003d\u003d\u003d\u003d\u003e.......................] - ETA: 1s - loss: 0.2240 - binary_accuracy: 0.9361",
            "\b\b\b\b\b\b\b\b\b\b\b\b\b\b\b\b\b\b\b\b\b\b\b\b\b\b\b\b\b\b\b\b\b\b\b\b\b\b\b\b\b\b\b\b\b\b\b\b\b\b\b\b\b\b\b\b\b\b\b\b\b\b\b\b\b\b\b\b\b\b\b\b\b\b\b\b\b\b\b\b\b\b\b\b\b\b\b\b\b\b\b\b\b\b\b\r 4096/15000 [\u003d\u003d\u003d\u003d\u003d\u003d\u003d\u003e......................] - ETA: 1s - loss: 0.2266 - binary_accuracy: 0.9331",
            "\b\b\b\b\b\b\b\b\b\b\b\b\b\b\b\b\b\b\b\b\b\b\b\b\b\b\b\b\b\b\b\b\b\b\b\b\b\b\b\b\b\b\b\b\b\b\b\b\b\b\b\b\b\b\b\b\b\b\b\b\b\b\b\b\b\b\b\b\b\b\b\b\b\b\b\b\b\b\b\b\b\b\b\b\b\b\b\b\b\b\b\b\b\b\b\r 4608/15000 [\u003d\u003d\u003d\u003d\u003d\u003d\u003d\u003d\u003e.....................] - ETA: 1s - loss: 0.2313 - binary_accuracy: 0.9301",
            "\b\b\b\b\b\b\b\b\b\b\b\b\b\b\b\b\b\b\b\b\b\b\b\b\b\b\b\b\b\b\b\b\b\b\b\b\b\b\b\b\b\b\b\b\b\b\b\b\b\b\b\b\b\b\b\b\b\b\b\b\b\b\b\b\b\b\b\b\b\b\b\b\b\b\b\b\b\b\b\b\b\b\b\b\b\b\b\b\b\b\b\b\b\b\b\r 5120/15000 [\u003d\u003d\u003d\u003d\u003d\u003d\u003d\u003d\u003d\u003e....................] - ETA: 0s - loss: 0.2358 - binary_accuracy: 0.9264",
            "\b\b\b\b\b\b\b\b\b\b\b\b\b\b\b\b\b\b\b\b\b\b\b\b\b\b\b\b\b\b\b\b\b\b\b\b\b\b\b\b\b\b\b\b\b\b\b\b\b\b\b\b\b\b\b\b\b\b\b\b\b\b\b\b\b\b\b\b\b\b\b\b\b\b\b\b\b\b\b\b\b\b\b\b\b\b\b\b\b\b\b\b\b\b\b\r 5632/15000 [\u003d\u003d\u003d\u003d\u003d\u003d\u003d\u003d\u003d\u003d\u003e...................] - ETA: 0s - loss: 0.2345 - binary_accuracy: 0.9263",
            "\b\b\b\b\b\b\b\b\b\b\b\b\b\b\b\b\b\b\b\b\b\b\b\b\b\b\b\b\b\b\b\b\b\b\b\b\b\b\b\b\b\b\b\b\b\b\b\b\b\b\b\b\b\b\b\b\b\b\b\b\b\b\b\b\b\b\b\b\b\b\b\b\b\b\b\b\b\b\b\b\b\b\b\b\b\b\b\b\b\b\b\b\b\b\b\r 6144/15000 [\u003d\u003d\u003d\u003d\u003d\u003d\u003d\u003d\u003d\u003d\u003d\u003e..................] - ETA: 0s - loss: 0.2344 - binary_accuracy: 0.9268",
            "\b\b\b\b\b\b\b\b\b\b\b\b\b\b\b\b\b\b\b\b\b\b\b\b\b\b\b\b\b\b\b\b\b\b\b\b\b\b\b\b\b\b\b\b\b\b\b\b\b\b\b\b\b\b\b\b\b\b\b\b\b\b\b\b\b\b\b\b\b\b\b\b\b\b\b\b\b\b\b\b\b\b\b\b\b\b\b\b\b\b\b\b\b\b\b\r 6656/15000 [\u003d\u003d\u003d\u003d\u003d\u003d\u003d\u003d\u003d\u003d\u003d\u003d\u003e.................] - ETA: 0s - loss: 0.2338 - binary_accuracy: 0.9265",
            "\b\b\b\b\b\b\b\b\b\b\b\b\b\b\b\b\b\b\b\b\b\b\b\b\b\b\b\b\b\b\b\b\b\b\b\b\b\b\b\b\b\b\b\b\b\b\b\b\b\b\b\b\b\b\b\b\b\b\b\b\b\b\b\b\b\b\b\b\b\b\b\b\b\b\b\b\b\b\b\b\b\b\b\b\b\b\b\b\b\b\b\b\b\b\b\r 7168/15000 [\u003d\u003d\u003d\u003d\u003d\u003d\u003d\u003d\u003d\u003d\u003d\u003d\u003d\u003e................] - ETA: 0s - loss: 0.2318 - binary_accuracy: 0.9272",
            "\b\b\b\b\b\b\b\b\b\b\b\b\b\b\b\b\b\b\b\b\b\b\b\b\b\b\b\b\b\b\b\b\b\b\b\b\b\b\b\b\b\b\b\b\b\b\b\b\b\b\b\b\b\b\b\b\b\b\b\b\b\b\b\b\b\b\b\b\b\b\b\b\b\b\b\b\b\b\b\b\b\b\b\b\b\b\b\b\b\b\b\b\b\b\b\r 7680/15000 [\u003d\u003d\u003d\u003d\u003d\u003d\u003d\u003d\u003d\u003d\u003d\u003d\u003d\u003d\u003e...............] - ETA: 0s - loss: 0.2305 - binary_accuracy: 0.9273",
            "\b\b\b\b\b\b\b\b\b\b\b\b\b\b\b\b\b\b\b\b\b\b\b\b\b\b\b\b\b\b\b\b\b\b\b\b\b\b\b\b\b\b\b\b\b\b\b\b\b\b\b\b\b\b\b\b\b\b\b\b\b\b\b\b\b\b\b\b\b\b\b\b\b\b\b\b\b\b\b\b\b\b\b\b\b\b\b\b\b\b\b\b\b\b\b\r 8704/15000 [\u003d\u003d\u003d\u003d\u003d\u003d\u003d\u003d\u003d\u003d\u003d\u003d\u003d\u003d\u003d\u003d\u003e.............] - ETA: 0s - loss: 0.2281 - binary_accuracy: 0.9287",
            "\b\b\b\b\b\b\b\b\b\b\b\b\b\b\b\b\b\b\b\b\b\b\b\b\b\b\b\b\b\b\b\b\b\b\b\b\b\b\b\b\b\b\b\b\b\b\b\b\b\b\b\b\b\b\b\b\b\b\b\b\b\b\b\b\b\b\b\b\b\b\b\b\b\b\b\b\b\b\b\b\b\b\b\b\b\b\b\b\b\b\b\b\b\b\b\r 9216/15000 [\u003d\u003d\u003d\u003d\u003d\u003d\u003d\u003d\u003d\u003d\u003d\u003d\u003d\u003d\u003d\u003d\u003d\u003e............] - ETA: 0s - loss: 0.2260 - binary_accuracy: 0.9295",
            "\b\b\b\b\b\b\b\b\b\b\b\b\b\b\b\b\b\b\b\b\b\b\b\b\b\b\b\b\b\b\b\b\b\b\b\b\b\b\b\b\b\b\b\b\b\b\b\b\b\b\b\b\b\b\b\b\b\b\b\b\b\b\b\b\b\b\b\b\b\b\b\b\b\b\b\b\b\b\b\b\b\b\b\b\b\b\b\b\b\b\b\b\b\b\b\r 9728/15000 [\u003d\u003d\u003d\u003d\u003d\u003d\u003d\u003d\u003d\u003d\u003d\u003d\u003d\u003d\u003d\u003d\u003d\u003d\u003e...........] - ETA: 0s - loss: 0.2228 - binary_accuracy: 0.9307",
            "\b\b\b\b\b\b\b\b\b\b\b\b\b\b\b\b\b\b\b\b\b\b\b\b\b\b\b\b\b\b\b\b\b\b\b\b\b\b\b\b\b\b\b\b\b\b\b\b\b\b\b\b\b\b\b\b\b\b\b\b\b\b\b\b\b\b\b\b\b\b\b\b\b\b\b\b\b\b\b\b\b\b\b\b\b\b\b\b\b\b\b\b\b\b\b\r10240/15000 [\u003d\u003d\u003d\u003d\u003d\u003d\u003d\u003d\u003d\u003d\u003d\u003d\u003d\u003d\u003d\u003d\u003d\u003d\u003d\u003e..........] - ETA: 0s - loss: 0.2221 - binary_accuracy: 0.9313",
            "\b\b\b\b\b\b\b\b\b\b\b\b\b\b\b\b\b\b\b\b\b\b\b\b\b\b\b\b\b\b\b\b\b\b\b\b\b\b\b\b\b\b\b\b\b\b\b\b\b\b\b\b\b\b\b\b\b\b\b\b\b\b\b\b\b\b\b\b\b\b\b\b\b\b\b\b\b\b\b\b\b\b\b\b\b\b\b\b\b\b\b\b\b\b\b\r10752/15000 [\u003d\u003d\u003d\u003d\u003d\u003d\u003d\u003d\u003d\u003d\u003d\u003d\u003d\u003d\u003d\u003d\u003d\u003d\u003d\u003d\u003e.........] - ETA: 0s - loss: 0.2214 - binary_accuracy: 0.9317",
            "\b\b\b\b\b\b\b\b\b\b\b\b\b\b\b\b\b\b\b\b\b\b\b\b\b\b\b\b\b\b\b\b\b\b\b\b\b\b\b\b\b\b\b\b\b\b\b\b\b\b\b\b\b\b\b\b\b\b\b\b\b\b\b\b\b\b\b\b\b\b\b\b\b\b\b\b\b\b\b\b\b\b\b\b\b\b\b\b\b\b\b\b\b\b\b\r11776/15000 [\u003d\u003d\u003d\u003d\u003d\u003d\u003d\u003d\u003d\u003d\u003d\u003d\u003d\u003d\u003d\u003d\u003d\u003d\u003d\u003d\u003d\u003d\u003e.......] - ETA: 0s - loss: 0.2199 - binary_accuracy: 0.9319",
            "\b\b\b\b\b\b\b\b\b\b\b\b\b\b\b\b\b\b\b\b\b\b\b\b\b\b\b\b\b\b\b\b\b\b\b\b\b\b\b\b\b\b\b\b\b\b\b\b\b\b\b\b\b\b\b\b\b\b\b\b\b\b\b\b\b\b\b\b\b\b\b\b\b\b\b\b\b\b\b\b\b\b\b\b\b\b\b\b\b\b\b\b\b\b\b\r12288/15000 [\u003d\u003d\u003d\u003d\u003d\u003d\u003d\u003d\u003d\u003d\u003d\u003d\u003d\u003d\u003d\u003d\u003d\u003d\u003d\u003d\u003d\u003d\u003d\u003e......] - ETA: 0s - loss: 0.2197 - binary_accuracy: 0.9313",
            "\b\b\b\b\b\b\b\b\b\b\b\b\b\b\b\b\b\b\b\b\b\b\b\b\b\b\b\b\b\b\b\b\b\b\b\b\b\b\b\b\b\b\b\b\b\b\b\b\b\b\b\b\b\b\b\b\b\b\b\b\b\b\b\b\b\b\b\b\b\b\b\b\b\b\b\b\b\b\b\b\b\b\b\b\b\b\b\b\b\b\b\b\b\b\b\r12800/15000 [\u003d\u003d\u003d\u003d\u003d\u003d\u003d\u003d\u003d\u003d\u003d\u003d\u003d\u003d\u003d\u003d\u003d\u003d\u003d\u003d\u003d\u003d\u003d\u003d\u003e.....] - ETA: 0s - loss: 0.2200 - binary_accuracy: 0.9307",
            "\b\b\b\b\b\b\b\b\b\b\b\b\b\b\b\b\b\b\b\b\b\b\b\b\b\b\b\b\b\b\b\b\b\b\b\b\b\b\b\b\b\b\b\b\b\b\b\b\b\b\b\b\b\b\b\b\b\b\b\b\b\b\b\b\b\b\b\b\b\b\b\b\b\b\b\b\b\b\b\b\b\b\b\b\b\b\b\b\b\b\b\b\b\b\b\r13312/15000 [\u003d\u003d\u003d\u003d\u003d\u003d\u003d\u003d\u003d\u003d\u003d\u003d\u003d\u003d\u003d\u003d\u003d\u003d\u003d\u003d\u003d\u003d\u003d\u003d\u003d\u003e....] - ETA: 0s - loss: 0.2198 - binary_accuracy: 0.9305",
            "\b\b\b\b\b\b\b\b\b\b\b\b\b\b\b\b\b\b\b\b\b\b\b\b\b\b\b\b\b\b\b\b\b\b\b\b\b\b\b\b\b\b\b\b\b\b\b\b\b\b\b\b\b\b\b\b\b\b\b\b\b\b\b\b\b\b\b\b\b\b\b\b\b\b\b\b\b\b\b\b\b\b\b\b\b\b\b\b\b\b\b\b\b\b\b\r13824/15000 [\u003d\u003d\u003d\u003d\u003d\u003d\u003d\u003d\u003d\u003d\u003d\u003d\u003d\u003d\u003d\u003d\u003d\u003d\u003d\u003d\u003d\u003d\u003d\u003d\u003d\u003d\u003e...] - ETA: 0s - loss: 0.2215 - binary_accuracy: 0.9295",
            "\b\b\b\b\b\b\b\b\b\b\b\b\b\b\b\b\b\b\b\b\b\b\b\b\b\b\b\b\b\b\b\b\b\b\b\b\b\b\b\b\b\b\b\b\b\b\b\b\b\b\b\b\b\b\b\b\b\b\b\b\b\b\b\b\b\b\b\b\b\b\b\b\b\b\b\b\b\b\b\b\b\b\b\b\b\b\b\b\b\b\b\b\b\b\b\r14336/15000 [\u003d\u003d\u003d\u003d\u003d\u003d\u003d\u003d\u003d\u003d\u003d\u003d\u003d\u003d\u003d\u003d\u003d\u003d\u003d\u003d\u003d\u003d\u003d\u003d\u003d\u003d\u003d\u003e..] - ETA: 0s - loss: 0.2219 - binary_accuracy: 0.9289",
            "\b\b\b\b\b\b\b\b\b\b\b\b\b\b\b\b\b\b\b\b\b\b\b\b\b\b\b\b\b\b\b\b\b\b\b\b\b\b\b\b\b\b\b\b\b\b\b\b\b\b\b\b\b\b\b\b\b\b\b\b\b\b\b\b\b\b\b\b\b\b\b\b\b\b\b\b\b\b\b\b\b\b\b\b\b\b\b\b\b\b\b\b\b\b\b\r14848/15000 [\u003d\u003d\u003d\u003d\u003d\u003d\u003d\u003d\u003d\u003d\u003d\u003d\u003d\u003d\u003d\u003d\u003d\u003d\u003d\u003d\u003d\u003d\u003d\u003d\u003d\u003d\u003d\u003d\u003e.] - ETA: 0s - loss: 0.2215 - binary_accuracy: 0.9288",
            "\b\b\b\b\b\b\b\b\b\b\b\b\b\b\b\b\b\b\b\b\b\b\b\b\b\b\b\b\b\b\b\b\b\b\b\b\b\b\b\b\b\b\b\b\b\b\b\b\b\b\b\b\b\b\b\b\b\b\b\b\b\b\b\b\b\b\b\b\b\b\b\b\b\b\b\b\b\b\b\b\b\b\b\b\b\b\b\b\b\b\b\b\b\b\b\r15000/15000 [\u003d\u003d\u003d\u003d\u003d\u003d\u003d\u003d\u003d\u003d\u003d\u003d\u003d\u003d\u003d\u003d\u003d\u003d\u003d\u003d\u003d\u003d\u003d\u003d\u003d\u003d\u003d\u003d\u003d\u003d] - 2s 164us/step - loss: 0.2209 - binary_accuracy: 0.9291 - val_loss: 0.2772 - val_binary_accuracy: 0.8911\n",
            "Epoch 4/5\n\r  512/15000 [\u003e.............................] - ETA: 1s - loss: 0.1704 - binary_accuracy: 0.9414",
            "\b\b\b\b\b\b\b\b\b\b\b\b\b\b\b\b\b\b\b\b\b\b\b\b\b\b\b\b\b\b\b\b\b\b\b\b\b\b\b\b\b\b\b\b\b\b\b\b\b\b\b\b\b\b\b\b\b\b\b\b\b\b\b\b\b\b\b\b\b\b\b\b\b\b\b\b\b\b\b\b\b\b\b\b\b\b\b\b\b\b\b\b\b\b\b\r 1024/15000 [\u003d\u003e............................] - ETA: 1s - loss: 0.1688 - binary_accuracy: 0.9482",
            "\b\b\b\b\b\b\b\b\b\b\b\b\b\b\b\b\b\b\b\b\b\b\b\b\b\b\b\b\b\b\b\b\b\b\b\b\b\b\b\b\b\b\b\b\b\b\b\b\b\b\b\b\b\b\b\b\b\b\b\b\b\b\b\b\b\b\b\b\b\b\b\b\b\b\b\b\b\b\b\b\b\b\b\b\b\b\b\b\b\b\b\b\b\b\b\r 1536/15000 [\u003d\u003d\u003e...........................] - ETA: 1s - loss: 0.1684 - binary_accuracy: 0.9499",
            "\b\b\b\b\b\b\b\b\b\b\b\b\b\b\b\b\b\b\b\b\b\b\b\b\b\b\b\b\b\b\b\b\b\b\b\b\b\b\b\b\b\b\b\b\b\b\b\b\b\b\b\b\b\b\b\b\b\b\b\b\b\b\b\b\b\b\b\b\b\b\b\b\b\b\b\b\b\b\b\b\b\b\b\b\b\b\b\b\b\b\b\b\b\b\b\r 2048/15000 [\u003d\u003d\u003d\u003e..........................] - ETA: 1s - loss: 0.1671 - binary_accuracy: 0.9487",
            "\b\b\b\b\b\b\b\b\b\b\b\b\b\b\b\b\b\b\b\b\b\b\b\b\b\b\b\b\b\b\b\b\b\b\b\b\b\b\b\b\b\b\b\b\b\b\b\b\b\b\b\b\b\b\b\b\b\b\b\b\b\b\b\b\b\b\b\b\b\b\b\b\b\b\b\b\b\b\b\b\b\b\b\b\b\b\b\b\b\b\b\b\b\b\b\r 2560/15000 [\u003d\u003d\u003d\u003d\u003e.........................] - ETA: 1s - loss: 0.1645 - binary_accuracy: 0.9492",
            "\b\b\b\b\b\b\b\b\b\b\b\b\b\b\b\b\b\b\b\b\b\b\b\b\b\b\b\b\b\b\b\b\b\b\b\b\b\b\b\b\b\b\b\b\b\b\b\b\b\b\b\b\b\b\b\b\b\b\b\b\b\b\b\b\b\b\b\b\b\b\b\b\b\b\b\b\b\b\b\b\b\b\b\b\b\b\b\b\b\b\b\b\b\b\b\r 3072/15000 [\u003d\u003d\u003d\u003d\u003d\u003e........................] - ETA: 1s - loss: 0.1644 - binary_accuracy: 0.9479",
            "\b\b\b\b\b\b\b\b\b\b\b\b\b\b\b\b\b\b\b\b\b\b\b\b\b\b\b\b\b\b\b\b\b\b\b\b\b\b\b\b\b\b\b\b\b\b\b\b\b\b\b\b\b\b\b\b\b\b\b\b\b\b\b\b\b\b\b\b\b\b\b\b\b\b\b\b\b\b\b\b\b\b\b\b\b\b\b\b\b\b\b\b\b\b\b\r 3584/15000 [\u003d\u003d\u003d\u003d\u003d\u003d\u003e.......................] - ETA: 1s - loss: 0.1656 - binary_accuracy: 0.9470",
            "\b\b\b\b\b\b\b\b\b\b\b\b\b\b\b\b\b\b\b\b\b\b\b\b\b\b\b\b\b\b\b\b\b\b\b\b\b\b\b\b\b\b\b\b\b\b\b\b\b\b\b\b\b\b\b\b\b\b\b\b\b\b\b\b\b\b\b\b\b\b\b\b\b\b\b\b\b\b\b\b\b\b\b\b\b\b\b\b\b\b\b\b\b\b\b\r 4096/15000 [\u003d\u003d\u003d\u003d\u003d\u003d\u003d\u003e......................] - ETA: 1s - loss: 0.1681 - binary_accuracy: 0.9468",
            "\b\b\b\b\b\b\b\b\b\b\b\b\b\b\b\b\b\b\b\b\b\b\b\b\b\b\b\b\b\b\b\b\b\b\b\b\b\b\b\b\b\b\b\b\b\b\b\b\b\b\b\b\b\b\b\b\b\b\b\b\b\b\b\b\b\b\b\b\b\b\b\b\b\b\b\b\b\b\b\b\b\b\b\b\b\b\b\b\b\b\b\b\b\b\b\r 4608/15000 [\u003d\u003d\u003d\u003d\u003d\u003d\u003d\u003d\u003e.....................] - ETA: 1s - loss: 0.1676 - binary_accuracy: 0.9475",
            "\b\b\b\b\b\b\b\b\b\b\b\b\b\b\b\b\b\b\b\b\b\b\b\b\b\b\b\b\b\b\b\b\b\b\b\b\b\b\b\b\b\b\b\b\b\b\b\b\b\b\b\b\b\b\b\b\b\b\b\b\b\b\b\b\b\b\b\b\b\b\b\b\b\b\b\b\b\b\b\b\b\b\b\b\b\b\b\b\b\b\b\b\b\b\b\r 5120/15000 [\u003d\u003d\u003d\u003d\u003d\u003d\u003d\u003d\u003d\u003e....................] - ETA: 1s - loss: 0.1667 - binary_accuracy: 0.9482",
            "\b\b\b\b\b\b\b\b\b\b\b\b\b\b\b\b\b\b\b\b\b\b\b\b\b\b\b\b\b\b\b\b\b\b\b\b\b\b\b\b\b\b\b\b\b\b\b\b\b\b\b\b\b\b\b\b\b\b\b\b\b\b\b\b\b\b\b\b\b\b\b\b\b\b\b\b\b\b\b\b\b\b\b\b\b\b\b\b\b\b\b\b\b\b\b\r 5632/15000 [\u003d\u003d\u003d\u003d\u003d\u003d\u003d\u003d\u003d\u003d\u003e...................] - ETA: 0s - loss: 0.1664 - binary_accuracy: 0.9474",
            "\b\b\b\b\b\b\b\b\b\b\b\b\b\b\b\b\b\b\b\b\b\b\b\b\b\b\b\b\b\b\b\b\b\b\b\b\b\b\b\b\b\b\b\b\b\b\b\b\b\b\b\b\b\b\b\b\b\b\b\b\b\b\b\b\b\b\b\b\b\b\b\b\b\b\b\b\b\b\b\b\b\b\b\b\b\b\b\b\b\b\b\b\b\b\b\r 6144/15000 [\u003d\u003d\u003d\u003d\u003d\u003d\u003d\u003d\u003d\u003d\u003d\u003e..................] - ETA: 0s - loss: 0.1675 - binary_accuracy: 0.9474",
            "\b\b\b\b\b\b\b\b\b\b\b\b\b\b\b\b\b\b\b\b\b\b\b\b\b\b\b\b\b\b\b\b\b\b\b\b\b\b\b\b\b\b\b\b\b\b\b\b\b\b\b\b\b\b\b\b\b\b\b\b\b\b\b\b\b\b\b\b\b\b\b\b\b\b\b\b\b\b\b\b\b\b\b\b\b\b\b\b\b\b\b\b\b\b\b\r 6656/15000 [\u003d\u003d\u003d\u003d\u003d\u003d\u003d\u003d\u003d\u003d\u003d\u003d\u003e.................] - ETA: 0s - loss: 0.1666 - binary_accuracy: 0.9471",
            "\b\b\b\b\b\b\b\b\b\b\b\b\b\b\b\b\b\b\b\b\b\b\b\b\b\b\b\b\b\b\b\b\b\b\b\b\b\b\b\b\b\b\b\b\b\b\b\b\b\b\b\b\b\b\b\b\b\b\b\b\b\b\b\b\b\b\b\b\b\b\b\b\b\b\b\b\b\b\b\b\b\b\b\b\b\b\b\b\b\b\b\b\b\b\b\r 7168/15000 [\u003d\u003d\u003d\u003d\u003d\u003d\u003d\u003d\u003d\u003d\u003d\u003d\u003d\u003e................] - ETA: 0s - loss: 0.1672 - binary_accuracy: 0.9463",
            "\b\b\b\b\b\b\b\b\b\b\b\b\b\b\b\b\b\b\b\b\b\b\b\b\b\b\b\b\b\b\b\b\b\b\b\b\b\b\b\b\b\b\b\b\b\b\b\b\b\b\b\b\b\b\b\b\b\b\b\b\b\b\b\b\b\b\b\b\b\b\b\b\b\b\b\b\b\b\b\b\b\b\b\b\b\b\b\b\b\b\b\b\b\b\b\r 7680/15000 [\u003d\u003d\u003d\u003d\u003d\u003d\u003d\u003d\u003d\u003d\u003d\u003d\u003d\u003d\u003e...............] - ETA: 0s - loss: 0.1670 - binary_accuracy: 0.9462",
            "\b\b\b\b\b\b\b\b\b\b\b\b\b\b\b\b\b\b\b\b\b\b\b\b\b\b\b\b\b\b\b\b\b\b\b\b\b\b\b\b\b\b\b\b\b\b\b\b\b\b\b\b\b\b\b\b\b\b\b\b\b\b\b\b\b\b\b\b\b\b\b\b\b\b\b\b\b\b\b\b\b\b\b\b\b\b\b\b\b\b\b\b\b\b\b\r 8704/15000 [\u003d\u003d\u003d\u003d\u003d\u003d\u003d\u003d\u003d\u003d\u003d\u003d\u003d\u003d\u003d\u003d\u003e.............] - ETA: 0s - loss: 0.1685 - binary_accuracy: 0.9446",
            "\b\b\b\b\b\b\b\b\b\b\b\b\b\b\b\b\b\b\b\b\b\b\b\b\b\b\b\b\b\b\b\b\b\b\b\b\b\b\b\b\b\b\b\b\b\b\b\b\b\b\b\b\b\b\b\b\b\b\b\b\b\b\b\b\b\b\b\b\b\b\b\b\b\b\b\b\b\b\b\b\b\b\b\b\b\b\b\b\b\b\b\b\b\b\b\r 9216/15000 [\u003d\u003d\u003d\u003d\u003d\u003d\u003d\u003d\u003d\u003d\u003d\u003d\u003d\u003d\u003d\u003d\u003d\u003e............] - ETA: 0s - loss: 0.1684 - binary_accuracy: 0.9443",
            "\b\b\b\b\b\b\b\b\b\b\b\b\b\b\b\b\b\b\b\b\b\b\b\b\b\b\b\b\b\b\b\b\b\b\b\b\b\b\b\b\b\b\b\b\b\b\b\b\b\b\b\b\b\b\b\b\b\b\b\b\b\b\b\b\b\b\b\b\b\b\b\b\b\b\b\b\b\b\b\b\b\b\b\b\b\b\b\b\b\b\b\b\b\b\b",
            "\r 9728/15000 [\u003d\u003d\u003d\u003d\u003d\u003d\u003d\u003d\u003d\u003d\u003d\u003d\u003d\u003d\u003d\u003d\u003d\u003d\u003e...........] - ETA: 0s - loss: 0.1684 - binary_accuracy: 0.9443",
            "\b\b\b\b\b\b\b\b\b\b\b\b\b\b\b\b\b\b\b\b\b\b\b\b\b\b\b\b\b\b\b\b\b\b\b\b\b\b\b\b\b\b\b\b\b\b\b\b\b\b\b\b\b\b\b\b\b\b\b\b\b\b\b\b\b\b\b\b\b\b\b\b\b\b\b\b\b\b\b\b\b\b\b\b\b\b\b\b\b\b\b\b\b\b\b\r10240/15000 [\u003d\u003d\u003d\u003d\u003d\u003d\u003d\u003d\u003d\u003d\u003d\u003d\u003d\u003d\u003d\u003d\u003d\u003d\u003d\u003e..........] - ETA: 0s - loss: 0.1693 - binary_accuracy: 0.9437",
            "\b\b\b\b\b\b\b\b\b\b\b\b\b\b\b\b\b\b\b\b\b\b\b\b\b\b\b\b\b\b\b\b\b\b\b\b\b\b\b\b\b\b\b\b\b\b\b\b\b\b\b\b\b\b\b\b\b\b\b\b\b\b\b\b\b\b\b\b\b\b\b\b\b\b\b\b\b\b\b\b\b\b\b\b\b\b\b\b\b\b\b\b\b\b\b\r10752/15000 [\u003d\u003d\u003d\u003d\u003d\u003d\u003d\u003d\u003d\u003d\u003d\u003d\u003d\u003d\u003d\u003d\u003d\u003d\u003d\u003d\u003e.........] - ETA: 0s - loss: 0.1724 - binary_accuracy: 0.9421",
            "\b\b\b\b\b\b\b\b\b\b\b\b\b\b\b\b\b\b\b\b\b\b\b\b\b\b\b\b\b\b\b\b\b\b\b\b\b\b\b\b\b\b\b\b\b\b\b\b\b\b\b\b\b\b\b\b\b\b\b\b\b\b\b\b\b\b\b\b\b\b\b\b\b\b\b\b\b\b\b\b\b\b\b\b\b\b\b\b\b\b\b\b\b\b\b\r11264/15000 [\u003d\u003d\u003d\u003d\u003d\u003d\u003d\u003d\u003d\u003d\u003d\u003d\u003d\u003d\u003d\u003d\u003d\u003d\u003d\u003d\u003d\u003e........] - ETA: 0s - loss: 0.1733 - binary_accuracy: 0.9416",
            "\b\b\b\b\b\b\b\b\b\b\b\b\b\b\b\b\b\b\b\b\b\b\b\b\b\b\b\b\b\b\b\b\b\b\b\b\b\b\b\b\b\b\b\b\b\b\b\b\b\b\b\b\b\b\b\b\b\b\b\b\b\b\b\b\b\b\b\b\b\b\b\b\b\b\b\b\b\b\b\b\b\b\b\b\b\b\b\b\b\b\b\b\b\b\b\r12288/15000 [\u003d\u003d\u003d\u003d\u003d\u003d\u003d\u003d\u003d\u003d\u003d\u003d\u003d\u003d\u003d\u003d\u003d\u003d\u003d\u003d\u003d\u003d\u003d\u003e......] - ETA: 0s - loss: 0.1746 - binary_accuracy: 0.9412",
            "\b\b\b\b\b\b\b\b\b\b\b\b\b\b\b\b\b\b\b\b\b\b\b\b\b\b\b\b\b\b\b\b\b\b\b\b\b\b\b\b\b\b\b\b\b\b\b\b\b\b\b\b\b\b\b\b\b\b\b\b\b\b\b\b\b\b\b\b\b\b\b\b\b\b\b\b\b\b\b\b\b\b\b\b\b\b\b\b\b\b\b\b\b\b\b\r12800/15000 [\u003d\u003d\u003d\u003d\u003d\u003d\u003d\u003d\u003d\u003d\u003d\u003d\u003d\u003d\u003d\u003d\u003d\u003d\u003d\u003d\u003d\u003d\u003d\u003d\u003e.....] - ETA: 0s - loss: 0.1743 - binary_accuracy: 0.9413",
            "\b\b\b\b\b\b\b\b\b\b\b\b\b\b\b\b\b\b\b\b\b\b\b\b\b\b\b\b\b\b\b\b\b\b\b\b\b\b\b\b\b\b\b\b\b\b\b\b\b\b\b\b\b\b\b\b\b\b\b\b\b\b\b\b\b\b\b\b\b\b\b\b\b\b\b\b\b\b\b\b\b\b\b\b\b\b\b\b\b\b\b\b\b\b\b\r13312/15000 [\u003d\u003d\u003d\u003d\u003d\u003d\u003d\u003d\u003d\u003d\u003d\u003d\u003d\u003d\u003d\u003d\u003d\u003d\u003d\u003d\u003d\u003d\u003d\u003d\u003d\u003e....] - ETA: 0s - loss: 0.1738 - binary_accuracy: 0.9415",
            "\b\b\b\b\b\b\b\b\b\b\b\b\b\b\b\b\b\b\b\b\b\b\b\b\b\b\b\b\b\b\b\b\b\b\b\b\b\b\b\b\b\b\b\b\b\b\b\b\b\b\b\b\b\b\b\b\b\b\b\b\b\b\b\b\b\b\b\b\b\b\b\b\b\b\b\b\b\b\b\b\b\b\b\b\b\b\b\b\b\b\b\b\b\b\b\r13824/15000 [\u003d\u003d\u003d\u003d\u003d\u003d\u003d\u003d\u003d\u003d\u003d\u003d\u003d\u003d\u003d\u003d\u003d\u003d\u003d\u003d\u003d\u003d\u003d\u003d\u003d\u003d\u003e...] - ETA: 0s - loss: 0.1739 - binary_accuracy: 0.9413",
            "\b\b\b\b\b\b\b\b\b\b\b\b\b\b\b\b\b\b\b\b\b\b\b\b\b\b\b\b\b\b\b\b\b\b\b\b\b\b\b\b\b\b\b\b\b\b\b\b\b\b\b\b\b\b\b\b\b\b\b\b\b\b\b\b\b\b\b\b\b\b\b\b\b\b\b\b\b\b\b\b\b\b\b\b\b\b\b\b\b\b\b\b\b\b\b\r14336/15000 [\u003d\u003d\u003d\u003d\u003d\u003d\u003d\u003d\u003d\u003d\u003d\u003d\u003d\u003d\u003d\u003d\u003d\u003d\u003d\u003d\u003d\u003d\u003d\u003d\u003d\u003d\u003d\u003e..] - ETA: 0s - loss: 0.1741 - binary_accuracy: 0.9410",
            "\b\b\b\b\b\b\b\b\b\b\b\b\b\b\b\b\b\b\b\b\b\b\b\b\b\b\b\b\b\b\b\b\b\b\b\b\b\b\b\b\b\b\b\b\b\b\b\b\b\b\b\b\b\b\b\b\b\b\b\b\b\b\b\b\b\b\b\b\b\b\b\b\b\b\b\b\b\b\b\b\b\b\b\b\b\b\b\b\b\b\b\b\b\b\b\r15000/15000 [\u003d\u003d\u003d\u003d\u003d\u003d\u003d\u003d\u003d\u003d\u003d\u003d\u003d\u003d\u003d\u003d\u003d\u003d\u003d\u003d\u003d\u003d\u003d\u003d\u003d\u003d\u003d\u003d\u003d\u003d] - 2s 163us/step - loss: 0.1732 - binary_accuracy: 0.9411 - val_loss: 0.2761 - val_binary_accuracy: 0.8906\n",
            "Epoch 5/5\n\r  512/15000 [\u003e.............................] - ETA: 1s - loss: 0.1294 - binary_accuracy: 0.9648",
            "\b\b\b\b\b\b\b\b\b\b\b\b\b\b\b\b\b\b\b\b\b\b\b\b\b\b\b\b\b\b\b\b\b\b\b\b\b\b\b\b\b\b\b\b\b\b\b\b\b\b\b\b\b\b\b\b\b\b\b\b\b\b\b\b\b\b\b\b\b\b\b\b\b\b\b\b\b\b\b\b\b\b\b\b\b\b\b\b\b\b\b\b\b\b\b\r 1024/15000 [\u003d\u003e............................] - ETA: 1s - loss: 0.1234 - binary_accuracy: 0.9688",
            "\b\b\b\b\b\b\b\b\b\b\b\b\b\b\b\b\b\b\b\b\b\b\b\b\b\b\b\b\b\b\b\b\b\b\b\b\b\b\b\b\b\b\b\b\b\b\b\b\b\b\b\b\b\b\b\b\b\b\b\b\b\b\b\b\b\b\b\b\b\b\b\b\b\b\b\b\b\b\b\b\b\b\b\b\b\b\b\b\b\b\b\b\b\b\b\r 1536/15000 [\u003d\u003d\u003e...........................] - ETA: 1s - loss: 0.1165 - binary_accuracy: 0.9727",
            "\b\b\b\b\b\b\b\b\b\b\b\b\b\b\b\b\b\b\b\b\b\b\b\b\b\b\b\b\b\b\b\b\b\b\b\b\b\b\b\b\b\b\b\b\b\b\b\b\b\b\b\b\b\b\b\b\b\b\b\b\b\b\b\b\b\b\b\b\b\b\b\b\b\b\b\b\b\b\b\b\b\b\b\b\b\b\b\b\b\b\b\b\b\b\b\r 2048/15000 [\u003d\u003d\u003d\u003e..........................] - ETA: 1s - loss: 0.1177 - binary_accuracy: 0.9741",
            "\b\b\b\b\b\b\b\b\b\b\b\b\b\b\b\b\b\b\b\b\b\b\b\b\b\b\b\b\b\b\b\b\b\b\b\b\b\b\b\b\b\b\b\b\b\b\b\b\b\b\b\b\b\b\b\b\b\b\b\b\b\b\b\b\b\b\b\b\b\b\b\b\b\b\b\b\b\b\b\b\b\b\b\b\b\b\b\b\b\b\b\b\b\b\b\r 2560/15000 [\u003d\u003d\u003d\u003d\u003e.........................] - ETA: 1s - loss: 0.1181 - binary_accuracy: 0.9730",
            "\b\b\b\b\b\b\b\b\b\b\b\b\b\b\b\b\b\b\b\b\b\b\b\b\b\b\b\b\b\b\b\b\b\b\b\b\b\b\b\b\b\b\b\b\b\b\b\b\b\b\b\b\b\b\b\b\b\b\b\b\b\b\b\b\b\b\b\b\b\b\b\b\b\b\b\b\b\b\b\b\b\b\b\b\b\b\b\b\b\b\b\b\b\b\b\r 3072/15000 [\u003d\u003d\u003d\u003d\u003d\u003e........................] - ETA: 1s - loss: 0.1182 - binary_accuracy: 0.9727",
            "\b\b\b\b\b\b\b\b\b\b\b\b\b\b\b\b\b\b\b\b\b\b\b\b\b\b\b\b\b\b\b\b\b\b\b\b\b\b\b\b\b\b\b\b\b\b\b\b\b\b\b\b\b\b\b\b\b\b\b\b\b\b\b\b\b\b\b\b\b\b\b\b\b\b\b\b\b\b\b\b\b\b\b\b\b\b\b\b\b\b\b\b\b\b\b\r 3584/15000 [\u003d\u003d\u003d\u003d\u003d\u003d\u003e.......................] - ETA: 1s - loss: 0.1210 - binary_accuracy: 0.9710",
            "\b\b\b\b\b\b\b\b\b\b\b\b\b\b\b\b\b\b\b\b\b\b\b\b\b\b\b\b\b\b\b\b\b\b\b\b\b\b\b\b\b\b\b\b\b\b\b\b\b\b\b\b\b\b\b\b\b\b\b\b\b\b\b\b\b\b\b\b\b\b\b\b\b\b\b\b\b\b\b\b\b\b\b\b\b\b\b\b\b\b\b\b\b\b\b\r 4096/15000 [\u003d\u003d\u003d\u003d\u003d\u003d\u003d\u003e......................] - ETA: 1s - loss: 0.1264 - binary_accuracy: 0.9675",
            "\b\b\b\b\b\b\b\b\b\b\b\b\b\b\b\b\b\b\b\b\b\b\b\b\b\b\b\b\b\b\b\b\b\b\b\b\b\b\b\b\b\b\b\b\b\b\b\b\b\b\b\b\b\b\b\b\b\b\b\b\b\b\b\b\b\b\b\b\b\b\b\b\b\b\b\b\b\b\b\b\b\b\b\b\b\b\b\b\b\b\b\b\b\b\b\r 4608/15000 [\u003d\u003d\u003d\u003d\u003d\u003d\u003d\u003d\u003e.....................] - ETA: 1s - loss: 0.1251 - binary_accuracy: 0.9668",
            "\b\b\b\b\b\b\b\b\b\b\b\b\b\b\b\b\b\b\b\b\b\b\b\b\b\b\b\b\b\b\b\b\b\b\b\b\b\b\b\b\b\b\b\b\b\b\b\b\b\b\b\b\b\b\b\b\b\b\b\b\b\b\b\b\b\b\b\b\b\b\b\b\b\b\b\b\b\b\b\b\b\b\b\b\b\b\b\b\b\b\b\b\b\b\b\r 5120/15000 [\u003d\u003d\u003d\u003d\u003d\u003d\u003d\u003d\u003d\u003e....................] - ETA: 1s - loss: 0.1291 - binary_accuracy: 0.9652",
            "\b\b\b\b\b\b\b\b\b\b\b\b\b\b\b\b\b\b\b\b\b\b\b\b\b\b\b\b\b\b\b\b\b\b\b\b\b\b\b\b\b\b\b\b\b\b\b\b\b\b\b\b\b\b\b\b\b\b\b\b\b\b\b\b\b\b\b\b\b\b\b\b\b\b\b\b\b\b\b\b\b\b\b\b\b\b\b\b\b\b\b\b\b\b\b\r 5632/15000 [\u003d\u003d\u003d\u003d\u003d\u003d\u003d\u003d\u003d\u003d\u003e...................] - ETA: 0s - loss: 0.1312 - binary_accuracy: 0.9634",
            "\b\b\b\b\b\b\b\b\b\b\b\b\b\b\b\b\b\b\b\b\b\b\b\b\b\b\b\b\b\b\b\b\b\b\b\b\b\b\b\b\b\b\b\b\b\b\b\b\b\b\b\b\b\b\b\b\b\b\b\b\b\b\b\b\b\b\b\b\b\b\b\b\b\b\b\b\b\b\b\b\b\b\b\b\b\b\b\b\b\b\b\b\b\b\b\r 6144/15000 [\u003d\u003d\u003d\u003d\u003d\u003d\u003d\u003d\u003d\u003d\u003d\u003e..................] - ETA: 0s - loss: 0.1309 - binary_accuracy: 0.9635",
            "\b\b\b\b\b\b\b\b\b\b\b\b\b\b\b\b\b\b\b\b\b\b\b\b\b\b\b\b\b\b\b\b\b\b\b\b\b\b\b\b\b\b\b\b\b\b\b\b\b\b\b\b\b\b\b\b\b\b\b\b\b\b\b\b\b\b\b\b\b\b\b\b\b\b\b\b\b\b\b\b\b\b\b\b\b\b\b\b\b\b\b\b\b\b\b\r 6656/15000 [\u003d\u003d\u003d\u003d\u003d\u003d\u003d\u003d\u003d\u003d\u003d\u003d\u003e.................] - ETA: 0s - loss: 0.1312 - binary_accuracy: 0.9639",
            "\b\b\b\b\b\b\b\b\b\b\b\b\b\b\b\b\b\b\b\b\b\b\b\b\b\b\b\b\b\b\b\b\b\b\b\b\b\b\b\b\b\b\b\b\b\b\b\b\b\b\b\b\b\b\b\b\b\b\b\b\b\b\b\b\b\b\b\b\b\b\b\b\b\b\b\b\b\b\b\b\b\b\b\b\b\b\b\b\b\b\b\b\b\b\b\r 7168/15000 [\u003d\u003d\u003d\u003d\u003d\u003d\u003d\u003d\u003d\u003d\u003d\u003d\u003d\u003e................] - ETA: 0s - loss: 0.1319 - binary_accuracy: 0.9633",
            "\b\b\b\b\b\b\b\b\b\b\b\b\b\b\b\b\b\b\b\b\b\b\b\b\b\b\b\b\b\b\b\b\b\b\b\b\b\b\b\b\b\b\b\b\b\b\b\b\b\b\b\b\b\b\b\b\b\b\b\b\b\b\b\b\b\b\b\b\b\b\b\b\b\b\b\b\b\b\b\b\b\b\b\b\b\b\b\b\b\b\b\b\b\b\b\r 7680/15000 [\u003d\u003d\u003d\u003d\u003d\u003d\u003d\u003d\u003d\u003d\u003d\u003d\u003d\u003d\u003e...............] - ETA: 0s - loss: 0.1323 - binary_accuracy: 0.9626",
            "\b\b\b\b\b\b\b\b\b\b\b\b\b\b\b\b\b\b\b\b\b\b\b\b\b\b\b\b\b\b\b\b\b\b\b\b\b\b\b\b\b\b\b\b\b\b\b\b\b\b\b\b\b\b\b\b\b\b\b\b\b\b\b\b\b\b\b\b\b\b\b\b\b\b\b\b\b\b\b\b\b\b\b\b\b\b\b\b\b\b\b\b\b\b\b\r 8192/15000 [\u003d\u003d\u003d\u003d\u003d\u003d\u003d\u003d\u003d\u003d\u003d\u003d\u003d\u003d\u003d\u003e..............] - ETA: 0s - loss: 0.1346 - binary_accuracy: 0.9617",
            "\b\b\b\b\b\b\b\b\b\b\b\b\b\b\b\b\b\b\b\b\b\b\b\b\b\b\b\b\b\b\b\b\b\b\b\b\b\b\b\b\b\b\b\b\b\b\b\b\b\b\b\b\b\b\b\b\b\b\b\b\b\b\b\b\b\b\b\b\b\b\b\b\b\b\b\b\b\b\b\b\b\b\b\b\b\b\b\b\b\b\b\b\b\b\b\r 9216/15000 [\u003d\u003d\u003d\u003d\u003d\u003d\u003d\u003d\u003d\u003d\u003d\u003d\u003d\u003d\u003d\u003d\u003d\u003e............] - ETA: 0s - loss: 0.1343 - binary_accuracy: 0.9609",
            "\b\b\b\b\b\b\b\b\b\b\b\b\b\b\b\b\b\b\b\b\b\b\b\b\b\b\b\b\b\b\b\b\b\b\b\b\b\b\b\b\b\b\b\b\b\b\b\b\b\b\b\b\b\b\b\b\b\b\b\b\b\b\b\b\b\b\b\b\b\b\b\b\b\b\b\b\b\b\b\b\b\b\b\b\b\b\b\b\b\b\b\b\b\b\b\r 9728/15000 [\u003d\u003d\u003d\u003d\u003d\u003d\u003d\u003d\u003d\u003d\u003d\u003d\u003d\u003d\u003d\u003d\u003d\u003d\u003e...........] - ETA: 0s - loss: 0.1345 - binary_accuracy: 0.9605",
            "\b\b\b\b\b\b\b\b\b\b\b\b\b\b\b\b\b\b\b\b\b\b\b\b\b\b\b\b\b\b\b\b\b\b\b\b\b\b\b\b\b\b\b\b\b\b\b\b\b\b\b\b\b\b\b\b\b\b\b\b\b\b\b\b\b\b\b\b\b\b\b\b\b\b\b\b\b\b\b\b\b\b\b\b\b\b\b\b\b\b\b\b\b\b\b\r10240/15000 [\u003d\u003d\u003d\u003d\u003d\u003d\u003d\u003d\u003d\u003d\u003d\u003d\u003d\u003d\u003d\u003d\u003d\u003d\u003d\u003e..........] - ETA: 0s - loss: 0.1338 - binary_accuracy: 0.9608",
            "\b\b\b\b\b\b\b\b\b\b\b\b\b\b\b\b\b\b\b\b\b\b\b\b\b\b\b\b\b\b\b\b\b\b\b\b\b\b\b\b\b\b\b\b\b\b\b\b\b\b\b\b\b\b\b\b\b\b\b\b\b\b\b\b\b\b\b\b\b\b\b\b\b\b\b\b\b\b\b\b\b\b\b\b\b\b\b\b\b\b\b\b\b\b\b\r10752/15000 [\u003d\u003d\u003d\u003d\u003d\u003d\u003d\u003d\u003d\u003d\u003d\u003d\u003d\u003d\u003d\u003d\u003d\u003d\u003d\u003d\u003e.........] - ETA: 0s - loss: 0.1352 - binary_accuracy: 0.9603",
            "\b\b\b\b\b\b\b\b\b\b\b\b\b\b\b\b\b\b\b\b\b\b\b\b\b\b\b\b\b\b\b\b\b\b\b\b\b\b\b\b\b\b\b\b\b\b\b\b\b\b\b\b\b\b\b\b\b\b\b\b\b\b\b\b\b\b\b\b\b\b\b\b\b\b\b\b\b\b\b\b\b\b\b\b\b\b\b\b\b\b\b\b\b\b\b\r11264/15000 [\u003d\u003d\u003d\u003d\u003d\u003d\u003d\u003d\u003d\u003d\u003d\u003d\u003d\u003d\u003d\u003d\u003d\u003d\u003d\u003d\u003d\u003e........] - ETA: 0s - loss: 0.1357 - binary_accuracy: 0.9601",
            "\b\b\b\b\b\b\b\b\b\b\b\b\b\b\b\b\b\b\b\b\b\b\b\b\b\b\b\b\b\b\b\b\b\b\b\b\b\b\b\b\b\b\b\b\b\b\b\b\b\b\b\b\b\b\b\b\b\b\b\b\b\b\b\b\b\b\b\b\b\b\b\b\b\b\b\b\b\b\b\b\b\b\b\b\b\b\b\b\b\b\b\b\b\b\b\r12288/15000 [\u003d\u003d\u003d\u003d\u003d\u003d\u003d\u003d\u003d\u003d\u003d\u003d\u003d\u003d\u003d\u003d\u003d\u003d\u003d\u003d\u003d\u003d\u003d\u003e......] - ETA: 0s - loss: 0.1362 - binary_accuracy: 0.9598",
            "\b\b\b\b\b\b\b\b\b\b\b\b\b\b\b\b\b\b\b\b\b\b\b\b\b\b\b\b\b\b\b\b\b\b\b\b\b\b\b\b\b\b\b\b\b\b\b\b\b\b\b\b\b\b\b\b\b\b\b\b\b\b\b\b\b\b\b\b\b\b\b\b\b\b\b\b\b\b\b\b\b\b\b\b\b\b\b\b\b\b\b\b\b\b\b\r12800/15000 [\u003d\u003d\u003d\u003d\u003d\u003d\u003d\u003d\u003d\u003d\u003d\u003d\u003d\u003d\u003d\u003d\u003d\u003d\u003d\u003d\u003d\u003d\u003d\u003d\u003e.....] - ETA: 0s - loss: 0.1366 - binary_accuracy: 0.9595",
            "\b\b\b\b\b\b\b\b\b\b\b\b\b\b\b\b\b\b\b\b\b\b\b\b\b\b\b\b\b\b\b\b\b\b\b\b\b\b\b\b\b\b\b\b\b\b\b\b\b\b\b\b\b\b\b\b\b\b\b\b\b\b\b\b\b\b\b\b\b\b\b\b\b\b\b\b\b\b\b\b\b\b\b\b\b\b\b\b\b\b\b\b\b\b\b\r13312/15000 [\u003d\u003d\u003d\u003d\u003d\u003d\u003d\u003d\u003d\u003d\u003d\u003d\u003d\u003d\u003d\u003d\u003d\u003d\u003d\u003d\u003d\u003d\u003d\u003d\u003d\u003e....] - ETA: 0s - loss: 0.1382 - binary_accuracy: 0.9583",
            "\b\b\b\b\b\b\b\b\b\b\b\b\b\b\b\b\b\b\b\b\b\b\b\b\b\b\b\b\b\b\b\b\b\b\b\b\b\b\b\b\b\b\b\b\b\b\b\b\b\b\b\b\b\b\b\b\b\b\b\b\b\b\b\b\b\b\b\b\b\b\b\b\b\b\b\b\b\b\b\b\b\b\b\b\b\b\b\b\b\b\b\b\b\b\b\r13824/15000 [\u003d\u003d\u003d\u003d\u003d\u003d\u003d\u003d\u003d\u003d\u003d\u003d\u003d\u003d\u003d\u003d\u003d\u003d\u003d\u003d\u003d\u003d\u003d\u003d\u003d\u003d\u003e...] - ETA: 0s - loss: 0.1391 - binary_accuracy: 0.9574",
            "\b\b\b\b\b\b\b\b\b\b\b\b\b\b\b\b\b\b\b\b\b\b\b\b\b\b\b\b\b\b\b\b\b\b\b\b\b\b\b\b\b\b\b\b\b\b\b\b\b\b\b\b\b\b\b\b\b\b\b\b\b\b\b\b\b\b\b\b\b\b\b\b\b\b\b\b\b\b\b\b\b\b\b\b\b\b\b\b\b\b\b\b\b\b\b\r14848/15000 [\u003d\u003d\u003d\u003d\u003d\u003d\u003d\u003d\u003d\u003d\u003d\u003d\u003d\u003d\u003d\u003d\u003d\u003d\u003d\u003d\u003d\u003d\u003d\u003d\u003d\u003d\u003d\u003d\u003e.] - ETA: 0s - loss: 0.1399 - binary_accuracy: 0.9569",
            "\b\b\b\b\b\b\b\b\b\b\b\b\b\b\b\b\b\b\b\b\b\b\b\b\b\b\b\b\b\b\b\b\b\b\b\b\b\b\b\b\b\b\b\b\b\b\b\b\b\b\b\b\b\b\b\b\b\b\b\b\b\b\b\b\b\b\b\b\b\b\b\b\b\b\b\b\b\b\b\b\b\b\b\b\b\b\b\b\b\b\b\b\b\b\b\r15000/15000 [\u003d\u003d\u003d\u003d\u003d\u003d\u003d\u003d\u003d\u003d\u003d\u003d\u003d\u003d\u003d\u003d\u003d\u003d\u003d\u003d\u003d\u003d\u003d\u003d\u003d\u003d\u003d\u003d\u003d\u003d] - 2s 164us/step - loss: 0.1398 - binary_accuracy: 0.9569 - val_loss: 0.2812 - val_binary_accuracy: 0.8866\n",
            "\r   32/25000 [..............................] - ETA: 3s",
            "\b\b\b\b\b\b\b\b\b\b\b\b\b\b\b\b\b\b\b\b\b\b\b\b\b\b\b\b\b\b\b\b\b\b\b\b\b\b\b\b\b\b\b\b\b\b\b\b\b\b\b\b\b\b\r  384/25000 [..............................] - ETA: 3s",
            "\b\b\b\b\b\b\b\b\b\b\b\b\b\b\b\b\b\b\b\b\b\b\b\b\b\b\b\b\b\b\b\b\b\b\b\b\b\b\b\b\b\b\b\b\b\b\b\b\b\b\b\b\b\b\r  768/25000 [..............................] - ETA: 3s",
            "\b\b\b\b\b\b\b\b\b\b\b\b\b\b\b\b\b\b\b\b\b\b\b\b\b\b\b\b\b\b\b\b\b\b\b\b\b\b\b\b\b\b\b\b\b\b\b\b\b\b\b\b\b\b\r 1120/25000 [\u003e.............................] - ETA: 3s",
            "\b\b\b\b\b\b\b\b\b\b\b\b\b\b\b\b\b\b\b\b\b\b\b\b\b\b\b\b\b\b\b\b\b\b\b\b\b\b\b\b\b\b\b\b\b\b\b\b\b\b\b\b\b\b\r 1472/25000 [\u003e.............................] - ETA: 3s",
            "\b\b\b\b\b\b\b\b\b\b\b\b\b\b\b\b\b\b\b\b\b\b\b\b\b\b\b\b\b\b\b\b\b\b\b\b\b\b\b\b\b\b\b\b\b\b\b\b\b\b\b\b\b\b\r 1856/25000 [\u003d\u003e............................] - ETA: 3s",
            "\b\b\b\b\b\b\b\b\b\b\b\b\b\b\b\b\b\b\b\b\b\b\b\b\b\b\b\b\b\b\b\b\b\b\b\b\b\b\b\b\b\b\b\b\b\b\b\b\b\b\b\b\b\b\r 2208/25000 [\u003d\u003e............................] - ETA: 3s",
            "\b\b\b\b\b\b\b\b\b\b\b\b\b\b\b\b\b\b\b\b\b\b\b\b\b\b\b\b\b\b\b\b\b\b\b\b\b\b\b\b\b\b\b\b\b\b\b\b\b\b\b\b\b\b\r 2560/25000 [\u003d\u003d\u003e...........................] - ETA: 3s",
            "\b\b\b\b\b\b\b\b\b\b\b\b\b\b\b\b\b\b\b\b\b\b\b\b\b\b\b\b\b\b\b\b\b\b\b\b\b\b\b\b\b\b\b\b\b\b\b\b\b\b\b\b\b\b\r 2944/25000 [\u003d\u003d\u003e...........................] - ETA: 3s",
            "\b\b\b\b\b\b\b\b\b\b\b\b\b\b\b\b\b\b\b\b\b\b\b\b\b\b\b\b\b\b\b\b\b\b\b\b\b\b\b\b\b\b\b\b\b\b\b\b\b\b\b\b\b\b\r 3360/25000 [\u003d\u003d\u003d\u003e..........................] - ETA: 3s",
            "\b\b\b\b\b\b\b\b\b\b\b\b\b\b\b\b\b\b\b\b\b\b\b\b\b\b\b\b\b\b\b\b\b\b\b\b\b\b\b\b\b\b\b\b\b\b\b\b\b\b\b\b\b\b\r 3776/25000 [\u003d\u003d\u003d\u003e..........................] - ETA: 2s",
            "\b\b\b\b\b\b\b\b\b\b\b\b\b\b\b\b\b\b\b\b\b\b\b\b\b\b\b\b\b\b\b\b\b\b\b\b\b\b\b\b\b\b\b\b\b\b\b\b\b\b\b\b\b\b\r 4128/25000 [\u003d\u003d\u003d\u003e..........................] - ETA: 2s",
            "\b\b\b\b\b\b\b\b\b\b\b\b\b\b\b\b\b\b\b\b\b\b\b\b\b\b\b\b\b\b\b\b\b\b\b\b\b\b\b\b\b\b\b\b\b\b\b\b\b\b\b\b\b\b\r 4512/25000 [\u003d\u003d\u003d\u003d\u003e.........................] - ETA: 2s",
            "\b\b\b\b\b\b\b\b\b\b\b\b\b\b\b\b\b\b\b\b\b\b\b\b\b\b\b\b\b\b\b\b\b\b\b\b\b\b\b\b\b\b\b\b\b\b\b\b\b\b\b\b\b\b\r 4832/25000 [\u003d\u003d\u003d\u003d\u003e.........................] - ETA: 2s",
            "\b\b\b\b\b\b\b\b\b\b\b\b\b\b\b\b\b\b\b\b\b\b\b\b\b\b\b\b\b\b\b\b\b\b\b\b\b\b\b\b\b\b\b\b\b\b\b\b\b\b\b\b\b\b\r 5152/25000 [\u003d\u003d\u003d\u003d\u003d\u003e........................] - ETA: 2s",
            "\b\b\b\b\b\b\b\b\b\b\b\b\b\b\b\b\b\b\b\b\b\b\b\b\b\b\b\b\b\b\b\b\b\b\b\b\b\b\b\b\b\b\b\b\b\b\b\b\b\b\b\b\b\b\r 5504/25000 [\u003d\u003d\u003d\u003d\u003d\u003e........................] - ETA: 2s",
            "\b\b\b\b\b\b\b\b\b\b\b\b\b\b\b\b\b\b\b\b\b\b\b\b\b\b\b\b\b\b\b\b\b\b\b\b\b\b\b\b\b\b\b\b\b\b\b\b\b\b\b\b\b\b\r 5920/25000 [\u003d\u003d\u003d\u003d\u003d\u003d\u003e.......................] - ETA: 2s",
            "\b\b\b\b\b\b\b\b\b\b\b\b\b\b\b\b\b\b\b\b\b\b\b\b\b\b\b\b\b\b\b\b\b\b\b\b\b\b\b\b\b\b\b\b\b\b\b\b\b\b\b\b\b\b\r 6304/25000 [\u003d\u003d\u003d\u003d\u003d\u003d\u003e.......................] - ETA: 2s",
            "\b\b\b\b\b\b\b\b\b\b\b\b\b\b\b\b\b\b\b\b\b\b\b\b\b\b\b\b\b\b\b\b\b\b\b\b\b\b\b\b\b\b\b\b\b\b\b\b\b\b\b\b\b\b\r 6688/25000 [\u003d\u003d\u003d\u003d\u003d\u003d\u003d\u003e......................] - ETA: 2s",
            "\b\b\b\b\b\b\b\b\b\b\b\b\b\b\b\b\b\b\b\b\b\b\b\b\b\b\b\b\b\b\b\b\b\b\b\b\b\b\b\b\b\b\b\b\b\b\b\b\b\b\b\b\b\b\r 6944/25000 [\u003d\u003d\u003d\u003d\u003d\u003d\u003d\u003e......................] - ETA: 2s",
            "\b\b\b\b\b\b\b\b\b\b\b\b\b\b\b\b\b\b\b\b\b\b\b\b\b\b\b\b\b\b\b\b\b\b\b\b\b\b\b\b\b\b\b\b\b\b\b\b\b\b\b\b\b\b\r 7264/25000 [\u003d\u003d\u003d\u003d\u003d\u003d\u003d\u003e......................] - ETA: 2s",
            "\b\b\b\b\b\b\b\b\b\b\b\b\b\b\b\b\b\b\b\b\b\b\b\b\b\b\b\b\b\b\b\b\b\b\b\b\b\b\b\b\b\b\b\b\b\b\b\b\b\b\b\b\b\b\r 7616/25000 [\u003d\u003d\u003d\u003d\u003d\u003d\u003d\u003d\u003e.....................] - ETA: 2s",
            "\b\b\b\b\b\b\b\b\b\b\b\b\b\b\b\b\b\b\b\b\b\b\b\b\b\b\b\b\b\b\b\b\b\b\b\b\b\b\b\b\b\b\b\b\b\b\b\b\b\b\b\b\b\b\r 8032/25000 [\u003d\u003d\u003d\u003d\u003d\u003d\u003d\u003d\u003e.....................] - ETA: 2s",
            "\b\b\b\b\b\b\b\b\b\b\b\b\b\b\b\b\b\b\b\b\b\b\b\b\b\b\b\b\b\b\b\b\b\b\b\b\b\b\b\b\b\b\b\b\b\b\b\b\b\b\b\b\b\b\r 8448/25000 [\u003d\u003d\u003d\u003d\u003d\u003d\u003d\u003d\u003d\u003e....................] - ETA: 2s",
            "\b\b\b\b\b\b\b\b\b\b\b\b\b\b\b\b\b\b\b\b\b\b\b\b\b\b\b\b\b\b\b\b\b\b\b\b\b\b\b\b\b\b\b\b\b\b\b\b\b\b\b\b\b\b\r 8800/25000 [\u003d\u003d\u003d\u003d\u003d\u003d\u003d\u003d\u003d\u003e....................] - ETA: 2s",
            "\b\b\b\b\b\b\b\b\b\b\b\b\b\b\b\b\b\b\b\b\b\b\b\b\b\b\b\b\b\b\b\b\b\b\b\b\b\b\b\b\b\b\b\b\b\b\b\b\b\b\b\b\b\b\r 9152/25000 [\u003d\u003d\u003d\u003d\u003d\u003d\u003d\u003d\u003d\u003e....................] - ETA: 2s",
            "\b\b\b\b\b\b\b\b\b\b\b\b\b\b\b\b\b\b\b\b\b\b\b\b\b\b\b\b\b\b\b\b\b\b\b\b\b\b\b\b\b\b\b\b\b\b\b\b\b\b\b\b\b\b\r 9472/25000 [\u003d\u003d\u003d\u003d\u003d\u003d\u003d\u003d\u003d\u003d\u003e...................] - ETA: 2s",
            "\b\b\b\b\b\b\b\b\b\b\b\b\b\b\b\b\b\b\b\b\b\b\b\b\b\b\b\b\b\b\b\b\b\b\b\b\b\b\b\b\b\b\b\b\b\b\b\b\b\b\b\b\b\b\r 9856/25000 [\u003d\u003d\u003d\u003d\u003d\u003d\u003d\u003d\u003d\u003d\u003e...................] - ETA: 2s",
            "\b\b\b\b\b\b\b\b\b\b\b\b\b\b\b\b\b\b\b\b\b\b\b\b\b\b\b\b\b\b\b\b\b\b\b\b\b\b\b\b\b\b\b\b\b\b\b\b\b\b\b\b\b\b\r10272/25000 [\u003d\u003d\u003d\u003d\u003d\u003d\u003d\u003d\u003d\u003d\u003d\u003e..................] - ETA: 2s",
            "\b\b\b\b\b\b\b\b\b\b\b\b\b\b\b\b\b\b\b\b\b\b\b\b\b\b\b\b\b\b\b\b\b\b\b\b\b\b\b\b\b\b\b\b\b\b\b\b\b\b\b\b\b\b\r10688/25000 [\u003d\u003d\u003d\u003d\u003d\u003d\u003d\u003d\u003d\u003d\u003d\u003e..................] - ETA: 2s",
            "\b\b\b\b\b\b\b\b\b\b\b\b\b\b\b\b\b\b\b\b\b\b\b\b\b\b\b\b\b\b\b\b\b\b\b\b\b\b\b\b\b\b\b\b\b\b\b\b\b\b\b\b\b\b\r11136/25000 [\u003d\u003d\u003d\u003d\u003d\u003d\u003d\u003d\u003d\u003d\u003d\u003d\u003e.................] - ETA: 1s",
            "\b\b\b\b\b\b\b\b\b\b\b\b\b\b\b\b\b\b\b\b\b\b\b\b\b\b\b\b\b\b\b\b\b\b\b\b\b\b\b\b\b\b\b\b\b\b\b\b\b\b\b\b\b\b\r11520/25000 [\u003d\u003d\u003d\u003d\u003d\u003d\u003d\u003d\u003d\u003d\u003d\u003d\u003e.................] - ETA: 1s",
            "\b\b\b\b\b\b\b\b\b\b\b\b\b\b\b\b\b\b\b\b\b\b\b\b\b\b\b\b\b\b\b\b\b\b\b\b\b\b\b\b\b\b\b\b\b\b\b\b\b\b\b\b\b\b\r11872/25000 [\u003d\u003d\u003d\u003d\u003d\u003d\u003d\u003d\u003d\u003d\u003d\u003d\u003d\u003e................] - ETA: 1s",
            "\b\b\b\b\b\b\b\b\b\b\b\b\b\b\b\b\b\b\b\b\b\b\b\b\b\b\b\b\b\b\b\b\b\b\b\b\b\b\b\b\b\b\b\b\b\b\b\b\b\b\b\b\b\b\r12192/25000 [\u003d\u003d\u003d\u003d\u003d\u003d\u003d\u003d\u003d\u003d\u003d\u003d\u003d\u003e................] - ETA: 1s",
            "\b\b\b\b\b\b\b\b\b\b\b\b\b\b\b\b\b\b\b\b\b\b\b\b\b\b\b\b\b\b\b\b\b\b\b\b\b\b\b\b\b\b\b\b\b\b\b\b\b\b\b\b\b\b\r12576/25000 [\u003d\u003d\u003d\u003d\u003d\u003d\u003d\u003d\u003d\u003d\u003d\u003d\u003d\u003d\u003e...............] - ETA: 1s",
            "\b\b\b\b\b\b\b\b\b\b\b\b\b\b\b\b\b\b\b\b\b\b\b\b\b\b\b\b\b\b\b\b\b\b\b\b\b\b\b\b\b\b\b\b\b\b\b\b\b\b\b\b\b\b\r12992/25000 [\u003d\u003d\u003d\u003d\u003d\u003d\u003d\u003d\u003d\u003d\u003d\u003d\u003d\u003d\u003e...............] - ETA: 1s",
            "\b\b\b\b\b\b\b\b\b\b\b\b\b\b\b\b\b\b\b\b\b\b\b\b\b\b\b\b\b\b\b\b\b\b\b\b\b\b\b\b\b\b\b\b\b\b\b\b\b\b\b\b\b\b\r13408/25000 [\u003d\u003d\u003d\u003d\u003d\u003d\u003d\u003d\u003d\u003d\u003d\u003d\u003d\u003d\u003d\u003e..............] - ETA: 1s",
            "\b\b\b\b\b\b\b\b\b\b\b\b\b\b\b\b\b\b\b\b\b\b\b\b\b\b\b\b\b\b\b\b\b\b\b\b\b\b\b\b\b\b\b\b\b\b\b\b\b\b\b\b\b\b\r13760/25000 [\u003d\u003d\u003d\u003d\u003d\u003d\u003d\u003d\u003d\u003d\u003d\u003d\u003d\u003d\u003d\u003e..............] - ETA: 1s",
            "\b\b\b\b\b\b\b\b\b\b\b\b\b\b\b\b\b\b\b\b\b\b\b\b\b\b\b\b\b\b\b\b\b\b\b\b\b\b\b\b\b\b\b\b\b\b\b\b\b\b\b\b\b\b\r14112/25000 [\u003d\u003d\u003d\u003d\u003d\u003d\u003d\u003d\u003d\u003d\u003d\u003d\u003d\u003d\u003d\u003e..............] - ETA: 1s",
            "\b\b\b\b\b\b\b\b\b\b\b\b\b\b\b\b\b\b\b\b\b\b\b\b\b\b\b\b\b\b\b\b\b\b\b\b\b\b\b\b\b\b\b\b\b\b\b\b\b\b\b\b\b\b\r14464/25000 [\u003d\u003d\u003d\u003d\u003d\u003d\u003d\u003d\u003d\u003d\u003d\u003d\u003d\u003d\u003d\u003d\u003e.............] - ETA: 1s",
            "\b\b\b\b\b\b\b\b\b\b\b\b\b\b\b\b\b\b\b\b\b\b\b\b\b\b\b\b\b\b\b\b\b\b\b\b\b\b\b\b\b\b\b\b\b\b\b\b\b\b\b\b\b\b\r14880/25000 [\u003d\u003d\u003d\u003d\u003d\u003d\u003d\u003d\u003d\u003d\u003d\u003d\u003d\u003d\u003d\u003d\u003e.............] - ETA: 1s",
            "\b\b\b\b\b\b\b\b\b\b\b\b\b\b\b\b\b\b\b\b\b\b\b\b\b\b\b\b\b\b\b\b\b\b\b\b\b\b\b\b\b\b\b\b\b\b\b\b\b\b\b\b\b\b\r15296/25000 [\u003d\u003d\u003d\u003d\u003d\u003d\u003d\u003d\u003d\u003d\u003d\u003d\u003d\u003d\u003d\u003d\u003d\u003e............] - ETA: 1s",
            "\b\b\b\b\b\b\b\b\b\b\b\b\b\b\b\b\b\b\b\b\b\b\b\b\b\b\b\b\b\b\b\b\b\b\b\b\b\b\b\b\b\b\b\b\b\b\b\b\b\b\b\b\b\b\r15680/25000 [\u003d\u003d\u003d\u003d\u003d\u003d\u003d\u003d\u003d\u003d\u003d\u003d\u003d\u003d\u003d\u003d\u003d\u003e............] - ETA: 1s",
            "\b\b\b\b\b\b\b\b\b\b\b\b\b\b\b\b\b\b\b\b\b\b\b\b\b\b\b\b\b\b\b\b\b\b\b\b\b\b\b\b\b\b\b\b\b\b\b\b\b\b\b\b\b\b\r16032/25000 [\u003d\u003d\u003d\u003d\u003d\u003d\u003d\u003d\u003d\u003d\u003d\u003d\u003d\u003d\u003d\u003d\u003d\u003d\u003e...........] - ETA: 1s",
            "\b\b\b\b\b\b\b\b\b\b\b\b\b\b\b\b\b\b\b\b\b\b\b\b\b\b\b\b\b\b\b\b\b\b\b\b\b\b\b\b\b\b\b\b\b\b\b\b\b\b\b\b\b\b\r16352/25000 [\u003d\u003d\u003d\u003d\u003d\u003d\u003d\u003d\u003d\u003d\u003d\u003d\u003d\u003d\u003d\u003d\u003d\u003d\u003e...........] - ETA: 1s",
            "\b\b\b\b\b\b\b\b\b\b\b\b\b\b\b\b\b\b\b\b\b\b\b\b\b\b\b\b\b\b\b\b\b\b\b\b\b\b\b\b\b\b\b\b\b\b\b\b\b\b\b\b\b\b\r16704/25000 [\u003d\u003d\u003d\u003d\u003d\u003d\u003d\u003d\u003d\u003d\u003d\u003d\u003d\u003d\u003d\u003d\u003d\u003d\u003d\u003e..........] - ETA: 1s",
            "\b\b\b\b\b\b\b\b\b\b\b\b\b\b\b\b\b\b\b\b\b\b\b\b\b\b\b\b\b\b\b\b\b\b\b\b\b\b\b\b\b\b\b\b\b\b\b\b\b\b\b\b\b\b\r17120/25000 [\u003d\u003d\u003d\u003d\u003d\u003d\u003d\u003d\u003d\u003d\u003d\u003d\u003d\u003d\u003d\u003d\u003d\u003d\u003d\u003e..........] - ETA: 1s",
            "\b\b\b\b\b\b\b\b\b\b\b\b\b\b\b\b\b\b\b\b\b\b\b\b\b\b\b\b\b\b\b\b\b\b\b\b\b\b\b\b\b\b\b\b\b\b\b\b\b\b\b\b\b\b\r17536/25000 [\u003d\u003d\u003d\u003d\u003d\u003d\u003d\u003d\u003d\u003d\u003d\u003d\u003d\u003d\u003d\u003d\u003d\u003d\u003d\u003d\u003e.........] - ETA: 1s",
            "\b\b\b\b\b\b\b\b\b\b\b\b\b\b\b\b\b\b\b\b\b\b\b\b\b\b\b\b\b\b\b\b\b\b\b\b\b\b\b\b\b\b\b\b\b\b\b\b\b\b\b\b\b\b\r17952/25000 [\u003d\u003d\u003d\u003d\u003d\u003d\u003d\u003d\u003d\u003d\u003d\u003d\u003d\u003d\u003d\u003d\u003d\u003d\u003d\u003d\u003e.........] - ETA: 0s",
            "\b\b\b\b\b\b\b\b\b\b\b\b\b\b\b\b\b\b\b\b\b\b\b\b\b\b\b\b\b\b\b\b\b\b\b\b\b\b\b\b\b\b\b\b\b\b\b\b\b\b\b\b\b\b\r18304/25000 [\u003d\u003d\u003d\u003d\u003d\u003d\u003d\u003d\u003d\u003d\u003d\u003d\u003d\u003d\u003d\u003d\u003d\u003d\u003d\u003d\u003e.........] - ETA: 0s",
            "\b\b\b\b\b\b\b\b\b\b\b\b\b\b\b\b\b\b\b\b\b\b\b\b\b\b\b\b\b\b\b\b\b\b\b\b\b\b\b\b\b\b\b\b\b\b\b\b\b\b\b\b\b\b\r18656/25000 [\u003d\u003d\u003d\u003d\u003d\u003d\u003d\u003d\u003d\u003d\u003d\u003d\u003d\u003d\u003d\u003d\u003d\u003d\u003d\u003d\u003d\u003e........] - ETA: 0s",
            "\b\b\b\b\b\b\b\b\b\b\b\b\b\b\b\b\b\b\b\b\b\b\b\b\b\b\b\b\b\b\b\b\b\b\b\b\b\b\b\b\b\b\b\b\b\b\b\b\b\b\b\b\b\b\r19008/25000 [\u003d\u003d\u003d\u003d\u003d\u003d\u003d\u003d\u003d\u003d\u003d\u003d\u003d\u003d\u003d\u003d\u003d\u003d\u003d\u003d\u003d\u003e........] - ETA: 0s",
            "\b\b\b\b\b\b\b\b\b\b\b\b\b\b\b\b\b\b\b\b\b\b\b\b\b\b\b\b\b\b\b\b\b\b\b\b\b\b\b\b\b\b\b\b\b\b\b\b\b\b\b\b\b\b\r19360/25000 [\u003d\u003d\u003d\u003d\u003d\u003d\u003d\u003d\u003d\u003d\u003d\u003d\u003d\u003d\u003d\u003d\u003d\u003d\u003d\u003d\u003d\u003d\u003e.......] - ETA: 0s",
            "\b\b\b\b\b\b\b\b\b\b\b\b\b\b\b\b\b\b\b\b\b\b\b\b\b\b\b\b\b\b\b\b\b\b\b\b\b\b\b\b\b\b\b\b\b\b\b\b\b\b\b\b\b\b\r19776/25000 [\u003d\u003d\u003d\u003d\u003d\u003d\u003d\u003d\u003d\u003d\u003d\u003d\u003d\u003d\u003d\u003d\u003d\u003d\u003d\u003d\u003d\u003d\u003e.......] - ETA: 0s",
            "\b\b\b\b\b\b\b\b\b\b\b\b\b\b\b\b\b\b\b\b\b\b\b\b\b\b\b\b\b\b\b\b\b\b\b\b\b\b\b\b\b\b\b\b\b\b\b\b\b\b\b\b\b\b\r20192/25000 [\u003d\u003d\u003d\u003d\u003d\u003d\u003d\u003d\u003d\u003d\u003d\u003d\u003d\u003d\u003d\u003d\u003d\u003d\u003d\u003d\u003d\u003d\u003d\u003e......] - ETA: 0s",
            "\b\b\b\b\b\b\b\b\b\b\b\b\b\b\b\b\b\b\b\b\b\b\b\b\b\b\b\b\b\b\b\b\b\b\b\b\b\b\b\b\b\b\b\b\b\b\b\b\b\b\b\b\b\b\r20544/25000 [\u003d\u003d\u003d\u003d\u003d\u003d\u003d\u003d\u003d\u003d\u003d\u003d\u003d\u003d\u003d\u003d\u003d\u003d\u003d\u003d\u003d\u003d\u003d\u003e......] - ETA: 0s",
            "\b\b\b\b\b\b\b\b\b\b\b\b\b\b\b\b\b\b\b\b\b\b\b\b\b\b\b\b\b\b\b\b\b\b\b\b\b\b\b\b\b\b\b\b\b\b\b\b\b\b\b\b\b\b\r20896/25000 [\u003d\u003d\u003d\u003d\u003d\u003d\u003d\u003d\u003d\u003d\u003d\u003d\u003d\u003d\u003d\u003d\u003d\u003d\u003d\u003d\u003d\u003d\u003d\u003d\u003e.....] - ETA: 0s",
            "\b\b\b\b\b\b\b\b\b\b\b\b\b\b\b\b\b\b\b\b\b\b\b\b\b\b\b\b\b\b\b\b\b\b\b\b\b\b\b\b\b\b\b\b\b\b\b\b\b\b\b\b\b\b\r21248/25000 [\u003d\u003d\u003d\u003d\u003d\u003d\u003d\u003d\u003d\u003d\u003d\u003d\u003d\u003d\u003d\u003d\u003d\u003d\u003d\u003d\u003d\u003d\u003d\u003d\u003e.....] - ETA: 0s",
            "\b\b\b\b\b\b\b\b\b\b\b\b\b\b\b\b\b\b\b\b\b\b\b\b\b\b\b\b\b\b\b\b\b\b\b\b\b\b\b\b\b\b\b\b\b\b\b\b\b\b\b\b\b\b\r21632/25000 [\u003d\u003d\u003d\u003d\u003d\u003d\u003d\u003d\u003d\u003d\u003d\u003d\u003d\u003d\u003d\u003d\u003d\u003d\u003d\u003d\u003d\u003d\u003d\u003d\u003e.....] - ETA: 0s",
            "\b\b\b\b\b\b\b\b\b\b\b\b\b\b\b\b\b\b\b\b\b\b\b\b\b\b\b\b\b\b\b\b\b\b\b\b\b\b\b\b\b\b\b\b\b\b\b\b\b\b\b\b\b\b\r22016/25000 [\u003d\u003d\u003d\u003d\u003d\u003d\u003d\u003d\u003d\u003d\u003d\u003d\u003d\u003d\u003d\u003d\u003d\u003d\u003d\u003d\u003d\u003d\u003d\u003d\u003d\u003e....] - ETA: 0s",
            "\b\b\b\b\b\b\b\b\b\b\b\b\b\b\b\b\b\b\b\b\b\b\b\b\b\b\b\b\b\b\b\b\b\b\b\b\b\b\b\b\b\b\b\b\b\b\b\b\b\b\b\b\b\b\r22400/25000 [\u003d\u003d\u003d\u003d\u003d\u003d\u003d\u003d\u003d\u003d\u003d\u003d\u003d\u003d\u003d\u003d\u003d\u003d\u003d\u003d\u003d\u003d\u003d\u003d\u003d\u003e....] - ETA: 0s",
            "\b\b\b\b\b\b\b\b\b\b\b\b\b\b\b\b\b\b\b\b\b\b\b\b\b\b\b\b\b\b\b\b\b\b\b\b\b\b\b\b\b\b\b\b\b\b\b\b\b\b\b\b\b\b\r22752/25000 [\u003d\u003d\u003d\u003d\u003d\u003d\u003d\u003d\u003d\u003d\u003d\u003d\u003d\u003d\u003d\u003d\u003d\u003d\u003d\u003d\u003d\u003d\u003d\u003d\u003d\u003d\u003e...] - ETA: 0s",
            "\b\b\b\b\b\b\b\b\b\b\b\b\b\b\b\b\b\b\b\b\b\b\b\b\b\b\b\b\b\b\b\b\b\b\b\b\b\b\b\b\b\b\b\b\b\b\b\b\b\b\b\b\b\b\r23104/25000 [\u003d\u003d\u003d\u003d\u003d\u003d\u003d\u003d\u003d\u003d\u003d\u003d\u003d\u003d\u003d\u003d\u003d\u003d\u003d\u003d\u003d\u003d\u003d\u003d\u003d\u003d\u003e...] - ETA: 0s",
            "\b\b\b\b\b\b\b\b\b\b\b\b\b\b\b\b\b\b\b\b\b\b\b\b\b\b\b\b\b\b\b\b\b\b\b\b\b\b\b\b\b\b\b\b\b\b\b\b\b\b\b\b\b\b\r23456/25000 [\u003d\u003d\u003d\u003d\u003d\u003d\u003d\u003d\u003d\u003d\u003d\u003d\u003d\u003d\u003d\u003d\u003d\u003d\u003d\u003d\u003d\u003d\u003d\u003d\u003d\u003d\u003d\u003e..] - ETA: 0s",
            "\b\b\b\b\b\b\b\b\b\b\b\b\b\b\b\b\b\b\b\b\b\b\b\b\b\b\b\b\b\b\b\b\b\b\b\b\b\b\b\b\b\b\b\b\b\b\b\b\b\b\b\b\b\b\r23840/25000 [\u003d\u003d\u003d\u003d\u003d\u003d\u003d\u003d\u003d\u003d\u003d\u003d\u003d\u003d\u003d\u003d\u003d\u003d\u003d\u003d\u003d\u003d\u003d\u003d\u003d\u003d\u003d\u003e..] - ETA: 0s",
            "\b\b\b\b\b\b\b\b\b\b\b\b\b\b\b\b\b\b\b\b\b\b\b\b\b\b\b\b\b\b\b\b\b\b\b\b\b\b\b\b\b\b\b\b\b\b\b\b\b\b\b\b\b\b\r24288/25000 [\u003d\u003d\u003d\u003d\u003d\u003d\u003d\u003d\u003d\u003d\u003d\u003d\u003d\u003d\u003d\u003d\u003d\u003d\u003d\u003d\u003d\u003d\u003d\u003d\u003d\u003d\u003d\u003d\u003e.] - ETA: 0s",
            "\b\b\b\b\b\b\b\b\b\b\b\b\b\b\b\b\b\b\b\b\b\b\b\b\b\b\b\b\b\b\b\b\b\b\b\b\b\b\b\b\b\b\b\b\b\b\b\b\b\b\b\b\b\b\r24672/25000 [\u003d\u003d\u003d\u003d\u003d\u003d\u003d\u003d\u003d\u003d\u003d\u003d\u003d\u003d\u003d\u003d\u003d\u003d\u003d\u003d\u003d\u003d\u003d\u003d\u003d\u003d\u003d\u003d\u003e.] - ETA: 0s",
            "\b\b\b\b\b\b\b\b\b\b\b\b\b\b\b\b\b\b\b\b\b\b\b\b\b\b\b\b\b\b\b\b\b\b\b\b\b\b\b\b\b\b\b\b\b\b\b\b\b\b\b\b\b\b\r25000/25000 [\u003d\u003d\u003d\u003d\u003d\u003d\u003d\u003d\u003d\u003d\u003d\u003d\u003d\u003d\u003d\u003d\u003d\u003d\u003d\u003d\u003d\u003d\u003d\u003d\u003d\u003d\u003d\u003d\u003d\u003d] - 4s 142us/step\n",
            "[0.3024183147239685, 0.8802]\n"
          ],
          "output_type": "stream"
        }
      ],
      "source": "x_val \u003d x_train[:10000]\npartial_x_train \u003d x_train[10000:]\ny_val \u003d y_train[:10000]\npartial_y_train \u003d y_train[10000:]\n\n## train network\nhistory \u003d model.fit(\n    partial_x_train,\n    partial_y_train,\n    # train samples for 20 iterations (epochs)\n    epochs\u003d5,\n    # train in batches of 512\n    batch_size\u003d512,\n    # provide validation data\n    validation_data\u003d(x_val, y_val)\n)\nresults \u003d model.evaluate(x_test, y_test)\nprint(results)"
    },
    {
      "cell_type": "markdown",
      "metadata": {
        "pycharm": {
          "metadata": false,
          "name": "#%% md\n"
        }
      },
      "source": [
        "### visualize training history\n",
        "Plotting training and validation loss."
      ]
    },
    {
      "cell_type": "code",
      "execution_count": 35,
      "metadata": {
        "pycharm": {
          "is_executing": false,
          "metadata": false,
          "name": "#%%\n"
        }
      },
      "outputs": [
        {
          "data": {
            "text/plain": "\u003cFigure size 432x288 with 1 Axes\u003e",
            "image/png": "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\u003d\n"
          },
          "metadata": {
            "needs_background": "light"
          },
          "output_type": "display_data"
        }
      ],
      "source": [
        "import matplotlib.pyplot as plt\n",
        "\n",
        "history_dict \u003d history.history\n",
        "loss_values \u003d history_dict[\"loss\"]\n",
        "val_loss_values \u003d history_dict[\"val_loss\"]\n",
        "\n",
        "epochs \u003d range(1, len(loss_values)+1)\n",
        "\n",
        "# plot training loss in blue, dotted\n",
        "plt.plot(epochs, loss_values, \"bo\", label\u003d\"Training loss\")\n",
        "# plot validation loss in blue, solid\n",
        "plt.plot(epochs, val_loss_values, \"b\", label\u003d\"Validation loss\")\n",
        "plt.title(\"Training and Validation Loss\")\n",
        "plt.xlabel(\"Epochs\")\n",
        "plt.ylabel(\"Loss\")\n",
        "plt.legend()\n",
        "\n",
        "plt.show()"
      ]
    },
    {
      "cell_type": "markdown",
      "source": [
        "Plotting training and validation accuracy."
      ],
      "metadata": {
        "collapsed": false,
        "pycharm": {
          "name": "#%% md\n"
        }
      }
    },
    {
      "cell_type": "code",
      "execution_count": 36,
      "outputs": [
        {
          "data": {
            "text/plain": "\u003cFigure size 432x288 with 1 Axes\u003e",
            "image/png": "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\u003d\n"
          },
          "metadata": {
            "needs_background": "light"
          },
          "output_type": "display_data"
        }
      ],
      "source": [
        "plt.clf()\n",
        "acc_values \u003d history_dict[\"binary_accuracy\"]\n",
        "val_acc_values \u003d history_dict[\"val_binary_accuracy\"]\n",
        "\n",
        "# plot training accuracy in blue, dotted\n",
        "plt.plot(epochs, acc_values, \"bo\", label\u003d\"Training accuracy\")\n",
        "# plot validation accuracy in blue, solid\n",
        "plt.plot(epochs, val_acc_values, \"b\", label\u003d\"Validation accuracy\")\n",
        "plt.title(\"Training and Validation Accuracy\")\n",
        "plt.xlabel(\"Epochs\")\n",
        "plt.ylabel(\"Accuracy\")\n",
        "plt.legend()\n",
        "\n",
        "plt.show()"
      ],
      "metadata": {
        "collapsed": false,
        "pycharm": {
          "name": "#%%\n",
          "is_executing": false
        }
      }
    },
    {
      "cell_type": "markdown",
      "source": [
        "### Prediction of New Data"
      ],
      "metadata": {
        "collapsed": false,
        "pycharm": {
          "name": "#%% md\n"
        }
      }
    },
    {
      "cell_type": "code",
      "execution_count": 37,
      "outputs": [
        {
          "name": "stdout",
          "text": [
            "Review predicted 0.9869461% positive.\n? in this approximately ? second thomas edison produced short we see ? moore performing the fuller choreographed ? dance in two different ? flowing ? br br moore was one of the bigger stars of the late victorian era she was featured in a number of edison company shorts including this one which was among the first ? films shown in london in ? br br fuller had actually ? the ? dance which moore performs here in ? as well as entire frames that are frequently hand ? in the film ? one of the more common symbolic devices of the silent era supposedly the moore films were popular enough to have to be frequently ? including the version available to us now may be a later version remake moore became even more popular when it was ? that she would appear naked at a private party at a restaurant in new york city she later went on to star as the gibson bathing girl in the ? ? in ? she appeared there until ? br br the short is notable for its framing of motion which especially during the second half becomes almost abstract it somewhat resembles a morris louis painting even though this is almost 60 years before ? relevant work br br you should be able to find this short on dvd on a number of different ? of early films\n"
          ],
          "output_type": "stream"
        }
      ],
      "source": [
        "predictions \u003d model.predict(x_test)\n",
        "# print sample with prediction result\n",
        "review_idx \u003d np.random.randint(0, 25000-1)\n",
        "review_pred \u003d predictions[review_idx]\n",
        "review_text \u003d \" \".join(reverse_word_index.get(i - 3, \"?\") for i in test_data[review_idx])\n",
        "\n",
        "print(\"Review predicted \" + str(review_pred[0]) + \"% positive.\")\n",
        "print(review_text)"
      ],
      "metadata": {
        "collapsed": false,
        "pycharm": {
          "name": "#%%\n",
          "is_executing": false
        }
      }
    }
  ],
  "metadata": {
    "kernelspec": {
      "display_name": "Python 3",
      "language": "python",
      "name": "python3"
    },
    "language_info": {
      "codemirror_mode": {
        "name": "ipython",
        "version": 3
      },
      "file_extension": ".py",
      "mimetype": "text/x-python",
      "name": "python",
      "nbconvert_exporter": "python",
      "pygments_lexer": "ipython3",
      "version": "3.6.8"
    },
    "pycharm": {
      "stem_cell": {
        "cell_type": "raw",
        "source": [],
        "metadata": {
          "collapsed": false
        }
      }
    },
    "stem_cell": {
      "cell_type": "raw",
      "metadata": {
        "pycharm": {
          "metadata": false
        }
      },
      "source": ""
    }
  },
  "nbformat": 4,
  "nbformat_minor": 1
}
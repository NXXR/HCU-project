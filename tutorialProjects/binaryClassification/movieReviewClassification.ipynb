{
 "cells": [
  {
   "cell_type": "markdown",
   "source": [
    "## Classifying Movie Reviews\n",
    "Two-class classification of movie reviews as positive or negative based on the text content of the reviews.\n",
    "Using the IMDB dataset of 50,000 highly polarized rewievs split 50/50 into training and testing sets."
   ],
   "metadata": {
    "collapsed": false,
    "pycharm": {
     "name": "#%% md\n"
    }
   }
  },
  {
   "cell_type": "code",
   "execution_count": null,
   "outputs": [],
   "source": [
    "# importing IMDB dataset\n",
    "from keras.datasets import imdb\n",
    "\n",
    "# splitting into training and test data\n",
    "(train_data, train_labels), (test_data, test_labels) = imdb.load_data(num_words=10000)"
   ],
   "metadata": {
    "collapsed": false,
    "pycharm": {
     "name": "#%%\n"
    }
   }
  },
  {
   "cell_type": "markdown",
   "source": [
    "+ num_words *-> only keeping top 10,000 most frequent occurring words in training data (to manage vector size)*\n",
    "+ train_data & test_data *-> lists of reviews, each a list of word indices (encoding+ a sequence of words)*\n",
    "+ train_labels & train_labels *-> lists of bits (0 = negative, 1= positive)*\n"
   ],
   "metadata": {
    "collapsed": false,
    "pycharm": {
     "name": "#%% md\n"
    }
   }
  }
 ],
 "metadata": {
  "language_info": {
   "codemirror_mode": {
    "name": "ipython",
    "version": 2
   },
   "file_extension": ".py",
   "mimetype": "text/x-python",
   "name": "python",
   "nbconvert_exporter": "python",
   "pygments_lexer": "ipython2",
   "version": "2.7.6"
  },
  "kernelspec": {
   "name": "python3",
   "language": "python",
   "display_name": "Python 3"
  },
  "pycharm": {
   "stem_cell": {
    "cell_type": "raw",
    "source": [],
    "metadata": {
     "collapsed": false
    }
   }
  }
 },
 "nbformat": 4,
 "nbformat_minor": 0
}
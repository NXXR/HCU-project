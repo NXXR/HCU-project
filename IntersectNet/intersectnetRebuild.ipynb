{
  "cells": [
    {
      "cell_type": "markdown",
      "metadata": {
        "collapsed": true,
        "pycharm": {
          "name": "#%% md\n"
        }
      },
      "source": "# IntersectNet\n### Recreation of Intersection Recognition Based on Equirectangular Images"
    },
    {
      "cell_type": "code",
      "execution_count": 1,
      "outputs": [
        {
          "name": "stderr",
          "text": [
            "Using TensorFlow backend.\n"
          ],
          "output_type": "stream"
        }
      ],
      "source": "# Imports\nfrom keras import layers, models, losses, optimizers\nfrom keras.preprocessing.image import ImageDataGenerator\n\nimport os\nimport pickle\nimport matplotlib.pyplot as plt\n\n# Parameters\ndataset_width \u003d 150  # dataset image width\ndataset_height \u003d 84  # dataset image height\n\nimport_filename \u003d \"intersectNet_0823-0452\"",
      "metadata": {
        "pycharm": {
          "metadata": false,
          "name": "#%%\n",
          "is_executing": false
        }
      }
    },
    {
      "cell_type": "markdown",
      "source": "### Generators for Dataset",
      "metadata": {
        "pycharm": {
          "metadata": false,
          "name": "#%% md\n"
        }
      }
    },
    {
      "cell_type": "code",
      "execution_count": 3,
      "outputs": [
        {
          "name": "stdout",
          "text": [
            "Found 5000 images belonging to 2 classes.\nFound 2000 images belonging to 2 classes.\n"
          ],
          "output_type": "stream"
        }
      ],
      "source": "datagen \u003d ImageDataGenerator(rescale\u003d1./255)\n\nnorm_train_generator \u003d datagen.flow_from_directory(\n    os.path.join(os.getcwd(), \"dataset/normal/train\"),\n    target_size\u003d(dataset_width, dataset_height),\n    batch_size\u003d32,\n    class_mode\u003d\"binary\"\n)\npano_train_generator \u003d datagen.flow_from_directory(\n    os.path.join(os.getcwd(), \"dataset/pano/train\"),\n    target_size\u003d(dataset_width, dataset_height),\n    batch_size\u003d32,\n    class_mode\u003d\"binary\"\n)\nnorm_validation_generator \u003d datagen.flow_from_directory(\n    os.path.join(os.getcwd(), \"dataset/normal/validation\"),\n    target_size\u003d(dataset_width, dataset_height),\n    batch_size\u003d32,\n    class_mode\u003d\"binary\"\n)\npano_validation_generator \u003d datagen.flow_from_directory(\n    os.path.join(os.getcwd(), \"dataset/pano/validation\"),\n    target_size\u003d(dataset_width, dataset_height),\n    batch_size\u003d32,\n    class_mode\u003d\"binary\"\n)",
      "metadata": {
        "pycharm": {
          "metadata": false,
          "name": "#%%\n",
          "is_executing": false
        }
      }
    },
    {
      "cell_type": "markdown",
      "source": "### Load Trained Model \u0026 History\n*(Model is trained using the remoteTraining.py script on the GPU Machine)*",
      "metadata": {
        "pycharm": {
          "metadata": false,
          "name": "#%% md\n"
        }
      }
    },
    {
      "cell_type": "code",
      "execution_count": 4,
      "outputs": [
        {
          "name": "stdout",
          "text": [
            "WARNING:tensorflow:From C:\\Users\\M.Zeumer\\Anaconda3\\envs\\HCU-project\\lib\\site-packages\\tensorflow\\python\\ops\\math_ops.py:3066: to_int32 (from tensorflow.python.ops.math_ops) is deprecated and will be removed in a future version.\nInstructions for updating:\nUse tf.cast instead.\n",
            "loaded intersectNet_0823-0452\n"
          ],
          "output_type": "stream"
        }
      ],
      "source": "norm_model \u003d models.load_model(\"models/{}/norm.h5\".format(import_filename))\npano_model \u003d models.load_model(\"models/{}/pano.h5\".format(import_filename))\nwith open(\"models/{}/norm.hist\".format(import_filename), \"rb\") as file:\n    norm_history \u003d pickle.load(file)\nwith open(\"models/{}/pano.hist\".format(import_filename), \"rb\") as file:\n    pano_history \u003d pickle.load(file)\nprint(\"loaded {}\".format(import_filename))",
      "metadata": {
        "pycharm": {
          "metadata": false,
          "name": "#%%\n",
          "is_executing": false
        }
      }
    },
    {
      "cell_type": "markdown",
      "source": "### Plotting Loss \u0026 Accuracy",
      "metadata": {
        "pycharm": {
          "metadata": false
        }
      }
    },
    {
      "cell_type": "code",
      "execution_count": 6,
      "outputs": [
        {
          "name": "stdout",
          "text": [
            "Traning Time: 21:53:37.968667\n"
          ],
          "output_type": "stream"
        },
        {
          "data": {
            "text/plain": "\u003cFigure size 432x288 with 1 Axes\u003e",
            "image/png": "[encoded data removed]"
          },
          "metadata": {
            "needs_background": "light"
          },
          "output_type": "display_data"
        },
        {
          "data": {
            "text/plain": "\u003cFigure size 432x288 with 1 Axes\u003e",
            "image/png": "[encoded data removed]"
          },
          "metadata": {
            "needs_background": "light"
          },
          "output_type": "display_data"
        }
      ],
      "source": "print(\"Training Time: {}(normal) {}(panorama)\".format(norm_history[\"traintime\"], pano_history[\"traintime\"]))\n\nepochs \u003d range(1, len(norm_history[\"acc\"])+1)\n\nplt.plot(epochs, pano_history[\"loss\"], \"bo\", label\u003d\"Panorama Training\", alpha\u003d0.5)\nplt.plot(epochs, pano_history[\"val_loss\"], \"b\", label\u003d\"Panorama Validation\")\nplt.plot(epochs, norm_history[\"loss\"], \"yo\", label\u003d\"Normal Training\", alpha\u003d0.5)\nplt.plot(epochs, norm_history[\"val_loss\"], \"y\", label\u003d\"Normal Validation\")\nplt.title(\"Training and Validation Loss\")\nplt.legend()\n\nplt.savefig(\"../docs/notes/img/{}_Loss.png\".format(import_filename))\nplt.figure()\n\nplt.plot(epochs, pano_history[\"acc\"], \"bo\", label\u003d\"Panorama Training\", alpha\u003d0.5)\nplt.plot(epochs, pano_history[\"val_acc\"], \"b\", label\u003d\"Panorama Validation\")\nplt.plot(epochs, norm_history[\"acc\"], \"yo\", label\u003d\"Normal Training\", alpha\u003d0.5)\nplt.plot(epochs, norm_history[\"val_acc\"], \"y\", label\u003d\"Normal Validation\")\nplt.title(\"Training and Validation Accuracy\")\nplt.legend()\n\nplt.savefig(\"../docs/notes/img/{}_Accuracy.png\".format(import_filename))\nplt.show()",
      "metadata": {
        "pycharm": {
          "metadata": false,
          "name": "#%%\n",
          "is_executing": false
        }
      }
    }
  ],
  "metadata": {
    "language_info": {
      "codemirror_mode": {
        "name": "ipython",
        "version": 2
      },
      "file_extension": ".py",
      "mimetype": "text/x-python",
      "name": "python",
      "nbconvert_exporter": "python",
      "pygments_lexer": "ipython2",
      "version": "2.7.6"
    },
    "kernelspec": {
      "name": "python3",
      "language": "python",
      "display_name": "Python 3"
    }
  },
  "nbformat": 4,
  "nbformat_minor": 0
}
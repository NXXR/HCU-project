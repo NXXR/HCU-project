{
  "cells": [
    {
      "cell_type": "markdown",
      "metadata": {
        "collapsed": true,
        "pycharm": {
          "name": "#%% md\n"
        }
      },
      "source": "# IntersectNet\n### Recreation of Intersection Recognition Based on Equirectangular Images"
    },
    {
      "cell_type": "code",
      "execution_count": null,
      "outputs": [],
      "source": "# Imports\nfrom keras import layers, models, losses, optimizers\nfrom keras.preprocessing.image import ImageDataGenerator\n\nimport os\nimport pickle\n\n# Parameters\ndataset_width \u003d 960     # dataset image width\ndataset_height \u003d 540    # dataset image height\n\nimport_filename \u003d \"intersectNet_\u003ctimestamp\u003e\"",
      "metadata": {
        "pycharm": {
          "metadata": false,
          "name": "#%%\n"
        }
      }
    },
    {
      "cell_type": "markdown",
      "source": "### Compile Network Model Structure",
      "metadata": {
        "pycharm": {
          "metadata": false,
          "name": "#%% md\n"
        }
      }
    },
    {
      "cell_type": "code",
      "execution_count": null,
      "outputs": [],
      "source": "model \u003d models.Sequential()\n\nmodel.add(layers.Conv2D())\n\nmodel.add(layers.Conv2D(32, (3, 3), activation\u003d\"relu\", input_shape\u003d(dataset_width, dataset_height, 3)))\nmodel.add(layers.MaxPooling2D((2, 2)))\n\nmodel.add(layers.Conv2D(64, (3, 3), activation\u003d\"relu\"))\nmodel.add(layers.MaxPooling2D((2, 2)))\n\nmodel.add(layers.Conv2D(128, (3, 3), activation\u003d\"relu\"))\nmodel.add(layers.MaxPooling2D((2, 2)))\n\nmodel.add(layers.Conv2D(128, (3, 3), activation\u003d\"relu\"))\nmodel.add(layers.MaxPooling2D((2, 2)))\n\nmodel.add(layers.Flatten())\nmodel.add(layers.Dropout(1-0.5))\nmodel.add(layers.Dense(512, activation\u003d\"relu\"))\nmodel.add(layers.Dense(1, activation\u003d\"sigmoid\"))\n\nmodel.summary()\n\nmodel.compile(\n    loss\u003dlosses.binary_crossentropy,\n    optimizer\u003doptimizers.RMSprop(lr\u003d0.0001),\n    metrics\u003d[\"acc\"]\n)",
      "metadata": {
        "pycharm": {
          "metadata": false,
          "name": "#%%\n"
        }
      }
    },
    {
      "cell_type": "markdown",
      "source": "### Generators for Dataset",
      "metadata": {
        "pycharm": {
          "metadata": false,
          "name": "#%% md\n"
        }
      }
    },
    {
      "cell_type": "code",
      "execution_count": null,
      "outputs": [],
      "source": "datagen \u003d ImageDataGenerator(rescale\u003d1./255)\n\ntrain_generator \u003d datagen.flow_from_directory(\n    os.path.join(os.getcwd(), \"dataset/train\"),\n    target_size\u003d(dataset_width, dataset_height),\n    batch_size\u003d32,\n    class_mode\u003d\"binary\"\n)\nvalidation_generator \u003d datagen.flow_from_directory(\n    os.path.join(os.getcwd(), \"dataset/validation\"),\n    target_size\u003d(dataset_width, dataset_height),\n    batch_size\u003d32,\n    class_mode\u003d\"binary\"\n)",
      "metadata": {
        "pycharm": {
          "metadata": false,
          "name": "#%%\n"
        }
      }
    },
    {
      "cell_type": "markdown",
      "source": "### Load Trained Model \u0026 History\n*(Model is trained using the remoteTraining.py script on the GPU Machine)*",
      "metadata": {
        "pycharm": {
          "metadata": false,
          "name": "#%% md\n"
        }
      }
    },
    {
      "cell_type": "code",
      "execution_count": null,
      "outputs": [],
      "source": "model \u003d models.load_model(\"models/{}.h5\".format(import_filename))\nwith open(\"models/{}.hist\".format(import_filename), \"rb\") as file:\n    history \u003d pickle.load(file)\nprint(\"loaded {}\".format(import_filename))\n",
      "metadata": {
        "pycharm": {
          "metadata": false,
          "name": "#%%\n"
        }
      }
    }
  ],
  "metadata": {
    "language_info": {
      "codemirror_mode": {
        "name": "ipython",
        "version": 2
      },
      "file_extension": ".py",
      "mimetype": "text/x-python",
      "name": "python",
      "nbconvert_exporter": "python",
      "pygments_lexer": "ipython2",
      "version": "2.7.6"
    },
    "kernelspec": {
      "name": "python3",
      "language": "python",
      "display_name": "Python 3"
    }
  },
  "nbformat": 4,
  "nbformat_minor": 0
}